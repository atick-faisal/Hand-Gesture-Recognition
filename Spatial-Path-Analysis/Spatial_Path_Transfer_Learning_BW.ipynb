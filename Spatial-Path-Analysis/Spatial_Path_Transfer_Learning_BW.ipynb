{
 "cells": [
  {
   "cell_type": "code",
   "execution_count": 1,
   "id": "tamil-chrome",
   "metadata": {
    "colab": {
     "base_uri": "https://localhost:8080/",
     "height": 35
    },
    "id": "tamil-chrome",
    "outputId": "cdcbac02-d4f9-47b5-bc44-0dfdcffa8a50"
   },
   "outputs": [
    {
     "data": {
      "text/plain": [
       "'2.4.1'"
      ]
     },
     "execution_count": 1,
     "metadata": {},
     "output_type": "execute_result"
    }
   ],
   "source": [
    "import os\n",
    "import cv2\n",
    "import time\n",
    "import joblib\n",
    "import numpy as np\n",
    "import matplotlib.pyplot as plt\n",
    "import tensorflow as tf\n",
    "\n",
    "from sklearn.utils import shuffle\n",
    "from sklearn.metrics import classification_report, accuracy_score, precision_score\n",
    "\n",
    "tf.__version__"
   ]
  },
  {
   "cell_type": "code",
   "execution_count": 2,
   "id": "MfafORnwZkyT",
   "metadata": {
    "colab": {
     "base_uri": "https://localhost:8080/"
    },
    "id": "MfafORnwZkyT",
    "outputId": "4ec0451e-a896-42a7-b0ab-e00a09bcc158"
   },
   "outputs": [],
   "source": [
    "# from google.colab import drive\n",
    "# drive.mount('/content/drive')"
   ]
  },
  {
   "cell_type": "code",
   "execution_count": 3,
   "id": "casual-stack",
   "metadata": {
    "id": "casual-stack"
   },
   "outputs": [],
   "source": [
    "# -------- TEST USER ----------- #\n",
    "\n",
    "TEST_USER      = '001'\n",
    "\n",
    "BASE_DIR       = '../'\n",
    "\n",
    "# Google Drive\n",
    "# BASE_DIR       = '/content/drive/MyDrive/Research/Hand Gesture/GitHub/'\n",
    "\n",
    "IMG_DIR        = 'BW-Spatial-Path-Images/'\n",
    "LOG_DIR        = 'Logs/'\n",
    "\n",
    "USERS          = ['001', '002', '003', '004', '005', '006', '007']\n",
    "\n",
    "# ------------------------------- Only Dynalic Gestures ------------------------------ #\n",
    "GESTURES       = ['j', 'z', 'bad', 'deaf', 'fine', 'good', 'goodbye', 'hello', 'hungry',\n",
    "                  'me', 'no', 'please', 'sorry', 'thankyou', 'yes', 'you']\n",
    "\n",
    "PLANES         = ['XY', 'YZ', 'ZX']\n",
    "\n",
    "BATCH_SIZE     = 32\n",
    "IMG_LEN        = 160\n",
    "IMG_SIZE       = (IMG_LEN, IMG_LEN)\n",
    "\n",
    "# ------------- FOR THE GREATER GOOD :) ------------- #\n",
    "DATASET_LEN    = 1120\n",
    "TRAIN_LEN      = 960\n",
    "TEST_LEN       = 160\n",
    "\n",
    "EPOCHS         = 7\n",
    "LEARNING_RATE  = 0.001\n",
    "DECAY          = 0.0\n",
    "\n",
    "CONFIG         = '_L_7_S_160x160_E_7'\n",
    "\n",
    "XY_WEIGHTS     = np.array([0.91, 0.75, 0.61, 0.63, 0.51, 0.66, 0.81, 0.65, 0.65, 0.31,\n",
    "                           0.66, 0.29, 0.34, 0.64, 0.64, 0.31])\n",
    "YZ_WEIGHTS     = np.array([0.73, 0.71, 0.70, 0.79, 0.76, 0.38, 0.80, 0.61, 0.58, 0.73,\n",
    "                           0.49, 0.26, 0.26, 0.52, 0.59, 0.54])\n",
    "ZX_WEIGHTS     = np.array([0.33, 0.66, 0.51, 0.54, 0.37, 0.51, 0.71, 0.30, 0.75, 0.41,\n",
    "                           0.40, 0.27, 0.24, 0.61, 0.36, 0.49])"
   ]
  },
  {
   "cell_type": "code",
   "execution_count": 4,
   "id": "stylish-banner",
   "metadata": {
    "id": "stylish-banner"
   },
   "outputs": [],
   "source": [
    "def load_data(plane):\n",
    "    X_train = np.zeros((TRAIN_LEN, IMG_LEN, IMG_LEN, 3))\n",
    "    X_test = np.zeros((TEST_LEN, IMG_LEN, IMG_LEN, 3))\n",
    "    y_train = np.zeros((TRAIN_LEN, 1))\n",
    "    y_test = np.zeros((TEST_LEN, 1))\n",
    "    \n",
    "    train_count = 0\n",
    "    test_count = 0\n",
    "        \n",
    "    for gesture in GESTURES:\n",
    "        print('loading data for ' + gesture + ' gesture on the ' + plane + ' plane ... ', end='')\n",
    "        path = os.path.join(BASE_DIR, IMG_DIR, plane, gesture)\n",
    "        for filename in os.listdir(path):\n",
    "            img = cv2.imread(os.path.join(path, filename))\n",
    "            resized = cv2.resize(img, IMG_SIZE)\n",
    "            if filename[1:4] != TEST_USER:\n",
    "                X_train[train_count, :] = resized\n",
    "                y_train[train_count, 0] = GESTURES.index(gesture)\n",
    "                train_count = train_count + 1\n",
    "            else:\n",
    "                X_test[test_count, :] = resized\n",
    "                y_test[test_count, 0] = GESTURES.index(gesture)\n",
    "                test_count = test_count + 1\n",
    "                \n",
    "        print('√')\n",
    "        \n",
    "    return X_train, X_test, y_train, y_test\n",
    "\n",
    "def load_and_save_data(plane):\n",
    "    X = np.zeros((DATASET_LEN, IMG_LEN, IMG_LEN, 3))\n",
    "    y = np.zeros((DATASET_LEN, 1))\n",
    "    \n",
    "    train_count = 0\n",
    "    test_count  = TRAIN_LEN\n",
    "        \n",
    "    for gesture in GESTURES:\n",
    "        print('loading data for ' + gesture + ' gesture on the ' + plane + ' plane ... ', end='')\n",
    "        path = os.path.join(BASE_DIR, IMG_DIR, plane, gesture)\n",
    "        for filename in os.listdir(path):\n",
    "            img = cv2.imread(os.path.join(path, filename))\n",
    "            resized = cv2.resize(img, IMG_SIZE)\n",
    "            if filename[1:4] != TEST_USER:\n",
    "                X[train_count, :] = resized\n",
    "                y[train_count, 0] = GESTURES.index(gesture)\n",
    "                train_count = train_count + 1\n",
    "            else:\n",
    "                X[test_count, :] = resized\n",
    "                y[test_count, 0] = GESTURES.index(gesture)\n",
    "                test_count = test_count + 1\n",
    "                \n",
    "        print('√')\n",
    "\n",
    "    joblib.dump(X, BASE_DIR + 'X_BW_' + plane + str(IMG_SIZE) + '.joblib')\n",
    "    joblib.dump(y, BASE_DIR + 'Y_BW_' + plane + str(IMG_SIZE) + '.joblib')\n",
    "\n",
    "def load_data_from_joblib(plane):\n",
    "    print('Loading data for ' + plane + ' plane ... ', end='')\n",
    "    X = joblib.load(BASE_DIR + 'X_BW_' + plane + str(IMG_SIZE) + '.joblib')\n",
    "    y = joblib.load(BASE_DIR + 'Y_BW_' + plane + str(IMG_SIZE) + '.joblib')\n",
    "    test_user = int(TEST_USER)\n",
    "    X_train = X[:TRAIN_LEN, :, :, :]\n",
    "    y_train = y[:TRAIN_LEN, :]\n",
    "    X_test = X[TRAIN_LEN:, :, :, :]\n",
    "    y_test = y[TRAIN_LEN:, :]\n",
    "\n",
    "    print('√')\n",
    "\n",
    "    return X_train, X_test, y_train, y_test"
   ]
  },
  {
   "cell_type": "code",
   "execution_count": 5,
   "id": "extra-disclosure",
   "metadata": {
    "colab": {
     "base_uri": "https://localhost:8080/"
    },
    "id": "extra-disclosure",
    "outputId": "5d7048b4-28fc-4e61-ca21-71b05be417db"
   },
   "outputs": [
    {
     "name": "stdout",
     "output_type": "stream",
     "text": [
      "Loading data for XY plane ... √\n",
      "Loading data for YZ plane ... √\n",
      "Loading data for ZX plane ... √\n"
     ]
    }
   ],
   "source": [
    "# X_train_xy, X_test_xy, y_train_xy, y_test_xy = load_data('XY')\n",
    "# X_train_yz, X_test_yz, y_train_yz, y_test_yz = load_data('YZ')\n",
    "# X_train_zx, X_test_zx, y_train_zx, y_test_zx = load_data('ZX')\n",
    "\n",
    "# Save to Google  Drive\n",
    "# load_and_save_data('XY')\n",
    "# load_and_save_data('YZ')\n",
    "# load_and_save_data('ZX')\n",
    "\n",
    "# Load from Google Drive\n",
    "X_train_xy, X_test_xy, y_train_xy, y_test_xy = load_data_from_joblib('XY')\n",
    "X_train_yz, X_test_yz, y_train_yz, y_test_yz = load_data_from_joblib('YZ')\n",
    "X_train_zx, X_test_zx, y_train_zx, y_test_zx = load_data_from_joblib('ZX')"
   ]
  },
  {
   "cell_type": "code",
   "execution_count": 6,
   "id": "conditional-advisory",
   "metadata": {
    "id": "conditional-advisory"
   },
   "outputs": [],
   "source": [
    "preprocess_input = tf.keras.applications.mobilenet_v2.preprocess_input\n",
    "rescale = tf.keras.layers.experimental.preprocessing.Rescaling(1./127.5, offset= -1)"
   ]
  },
  {
   "cell_type": "code",
   "execution_count": 7,
   "id": "internal-arkansas",
   "metadata": {
    "colab": {
     "base_uri": "https://localhost:8080/"
    },
    "id": "internal-arkansas",
    "outputId": "5c5ae4bd-72a6-426d-c60f-cba486c62a1b"
   },
   "outputs": [],
   "source": [
    "IMG_SHAPE = IMG_SIZE + (3,)\n",
    "base_model = tf.keras.applications.MobileNetV2(input_shape=IMG_SHAPE, include_top=False, weights='imagenet')\n",
    "base_model.trainable = False"
   ]
  },
  {
   "cell_type": "code",
   "execution_count": 8,
   "id": "strange-encoding",
   "metadata": {
    "id": "strange-encoding"
   },
   "outputs": [],
   "source": [
    "global_average_layer = tf.keras.layers.GlobalAveragePooling2D()\n",
    "prediction_layer = tf.keras.layers.Dense(len(GESTURES))"
   ]
  },
  {
   "cell_type": "code",
   "execution_count": 9,
   "id": "upper-tobago",
   "metadata": {
    "id": "upper-tobago"
   },
   "outputs": [],
   "source": [
    "def get_model():\n",
    "    inputs = tf.keras.Input(shape=IMG_SHAPE)\n",
    "    x = preprocess_input(inputs)\n",
    "    x = base_model(x, training=False)\n",
    "    x = global_average_layer(x)\n",
    "    x = tf.keras.layers.Dropout(0.2)(x)\n",
    "    outputs = prediction_layer(x)\n",
    "    model = tf.keras.Model(inputs, outputs)\n",
    "    model.compile(optimizer=tf.keras.optimizers.Adam(lr=LEARNING_RATE, decay=DECAY),\n",
    "              loss=tf.keras.losses.SparseCategoricalCrossentropy(from_logits=True),\n",
    "              metrics=['accuracy'])\n",
    "    return model"
   ]
  },
  {
   "cell_type": "code",
   "execution_count": 10,
   "id": "distinct-appendix",
   "metadata": {
    "colab": {
     "base_uri": "https://localhost:8080/",
     "height": 973
    },
    "id": "distinct-appendix",
    "outputId": "7ead500b-3cac-4519-900d-c46b55f8362d",
    "scrolled": true
   },
   "outputs": [
    {
     "name": "stdout",
     "output_type": "stream",
     "text": [
      "Epoch 1/7\n",
      "30/30 [==============================] - 16s 448ms/step - loss: 2.8392 - accuracy: 0.1461 - val_loss: 1.8839 - val_accuracy: 0.2562\n",
      "Epoch 2/7\n",
      "30/30 [==============================] - 12s 404ms/step - loss: 1.6452 - accuracy: 0.5004 - val_loss: 1.4873 - val_accuracy: 0.4437\n",
      "Epoch 3/7\n",
      "30/30 [==============================] - 12s 407ms/step - loss: 1.2108 - accuracy: 0.6534 - val_loss: 1.3117 - val_accuracy: 0.5312\n",
      "Epoch 4/7\n",
      "30/30 [==============================] - 12s 404ms/step - loss: 1.0485 - accuracy: 0.6651 - val_loss: 1.2038 - val_accuracy: 0.5813\n",
      "Epoch 5/7\n",
      "30/30 [==============================] - 12s 407ms/step - loss: 0.8900 - accuracy: 0.7174 - val_loss: 1.0845 - val_accuracy: 0.6438\n",
      "Epoch 6/7\n",
      "30/30 [==============================] - 12s 404ms/step - loss: 0.7437 - accuracy: 0.7858 - val_loss: 1.0614 - val_accuracy: 0.6438\n",
      "Epoch 7/7\n",
      "30/30 [==============================] - 12s 404ms/step - loss: 0.6766 - accuracy: 0.8140 - val_loss: 1.0048 - val_accuracy: 0.6625\n"
     ]
    }
   ],
   "source": [
    "model_xy = get_model()\n",
    "X_train_xy, y_train_xy = shuffle(X_train_xy, y_train_xy)\n",
    "history_xy = model_xy.fit(X_train_xy, y_train_xy, validation_data=(X_test_xy, y_test_xy), epochs=EPOCHS)"
   ]
  },
  {
   "cell_type": "code",
   "execution_count": 11,
   "id": "constitutional-genre",
   "metadata": {
    "id": "constitutional-genre"
   },
   "outputs": [
    {
     "name": "stdout",
     "output_type": "stream",
     "text": [
      "              precision    recall  f1-score   support\n",
      "\n",
      "         0.0       1.00      0.90      0.95        10\n",
      "         1.0       1.00      0.20      0.33        10\n",
      "         2.0       1.00      0.50      0.67        10\n",
      "         3.0       1.00      0.70      0.82        10\n",
      "         4.0       0.89      0.80      0.84        10\n",
      "         5.0       0.25      0.10      0.14        10\n",
      "         6.0       0.67      0.80      0.73        10\n",
      "         7.0       0.38      0.80      0.52        10\n",
      "         8.0       1.00      0.80      0.89        10\n",
      "         9.0       0.39      0.90      0.55        10\n",
      "        10.0       0.90      0.90      0.90        10\n",
      "        11.0       0.36      0.40      0.38        10\n",
      "        12.0       0.67      0.20      0.31        10\n",
      "        13.0       0.73      0.80      0.76        10\n",
      "        14.0       0.89      0.80      0.84        10\n",
      "        15.0       0.62      1.00      0.77        10\n",
      "\n",
      "    accuracy                           0.66       160\n",
      "   macro avg       0.73      0.66      0.65       160\n",
      "weighted avg       0.73      0.66      0.65       160\n",
      "\n"
     ]
    }
   ],
   "source": [
    "# prob_xy = tf.keras.Sequential([model_xy, tf.keras.layers.Softmax()])\n",
    "# y_pred_xy = prob_xy.predict(X_test_xy)\n",
    "y_pred_xy = model_xy.predict(X_test_xy)\n",
    "y_pred = np.argmax(y_pred_xy, axis=1)\n",
    "print(classification_report(y_test_xy.ravel(), y_pred, zero_division=0))\n",
    "prc_xy = precision_score(y_test_xy.ravel(), y_pred, zero_division=0, average=None)\n",
    "tf.keras.backend.clear_session()"
   ]
  },
  {
   "cell_type": "code",
   "execution_count": 12,
   "id": "emotional-chrome",
   "metadata": {
    "id": "emotional-chrome"
   },
   "outputs": [
    {
     "name": "stdout",
     "output_type": "stream",
     "text": [
      "Epoch 1/7\n",
      "30/30 [==============================] - 15s 441ms/step - loss: 3.4743 - accuracy: 0.1583 - val_loss: 2.1168 - val_accuracy: 0.3063\n",
      "Epoch 2/7\n",
      "30/30 [==============================] - 12s 404ms/step - loss: 1.9195 - accuracy: 0.3913 - val_loss: 1.5916 - val_accuracy: 0.4875\n",
      "Epoch 3/7\n",
      "30/30 [==============================] - 12s 405ms/step - loss: 1.3263 - accuracy: 0.5767 - val_loss: 1.2251 - val_accuracy: 0.6062\n",
      "Epoch 4/7\n",
      "30/30 [==============================] - 12s 404ms/step - loss: 1.0543 - accuracy: 0.6533 - val_loss: 1.1203 - val_accuracy: 0.6375\n",
      "Epoch 5/7\n",
      "30/30 [==============================] - 12s 405ms/step - loss: 0.7765 - accuracy: 0.7503 - val_loss: 1.0864 - val_accuracy: 0.6313\n",
      "Epoch 6/7\n",
      "30/30 [==============================] - 12s 402ms/step - loss: 0.6936 - accuracy: 0.7765 - val_loss: 1.0759 - val_accuracy: 0.6438\n",
      "Epoch 7/7\n",
      "30/30 [==============================] - 12s 404ms/step - loss: 0.5737 - accuracy: 0.8273 - val_loss: 1.0750 - val_accuracy: 0.6313\n"
     ]
    }
   ],
   "source": [
    "model_yz = get_model()\n",
    "X_train_yz, y_train_yz = shuffle(X_train_yz, y_train_yz)\n",
    "history_yz = model_yz.fit(X_train_yz, y_train_yz, validation_data=(X_test_yz, y_test_yz), epochs=EPOCHS)"
   ]
  },
  {
   "cell_type": "code",
   "execution_count": 13,
   "id": "boring-insurance",
   "metadata": {
    "id": "boring-insurance"
   },
   "outputs": [
    {
     "name": "stdout",
     "output_type": "stream",
     "text": [
      "              precision    recall  f1-score   support\n",
      "\n",
      "         0.0       0.00      0.00      0.00        10\n",
      "         1.0       1.00      0.20      0.33        10\n",
      "         2.0       0.60      0.30      0.40        10\n",
      "         3.0       0.62      1.00      0.77        10\n",
      "         4.0       0.59      1.00      0.74        10\n",
      "         5.0       0.50      0.20      0.29        10\n",
      "         6.0       0.83      0.50      0.62        10\n",
      "         7.0       0.60      0.90      0.72        10\n",
      "         8.0       0.56      0.90      0.69        10\n",
      "         9.0       1.00      1.00      1.00        10\n",
      "        10.0       0.83      1.00      0.91        10\n",
      "        11.0       0.44      0.40      0.42        10\n",
      "        12.0       0.50      0.80      0.62        10\n",
      "        13.0       0.82      0.90      0.86        10\n",
      "        14.0       0.75      0.30      0.43        10\n",
      "        15.0       0.50      0.70      0.58        10\n",
      "\n",
      "    accuracy                           0.63       160\n",
      "   macro avg       0.63      0.63      0.59       160\n",
      "weighted avg       0.63      0.63      0.59       160\n",
      "\n"
     ]
    }
   ],
   "source": [
    "# prob_yz = tf.keras.Sequential([model_yz, tf.keras.layers.Softmax()])\n",
    "# y_pred_yz = prob_yz.predict(X_test_yz)\n",
    "y_pred_yz = model_yz.predict(X_test_yz)\n",
    "y_pred = np.argmax(y_pred_yz, axis=1)\n",
    "print(classification_report(y_test_yz.ravel(), y_pred, zero_division=0))\n",
    "prc_yz = precision_score(y_test_yz.ravel(), y_pred, zero_division=0, average=None)\n",
    "tf.keras.backend.clear_session()"
   ]
  },
  {
   "cell_type": "code",
   "execution_count": 14,
   "id": "joint-evaluation",
   "metadata": {
    "id": "joint-evaluation"
   },
   "outputs": [
    {
     "name": "stdout",
     "output_type": "stream",
     "text": [
      "Epoch 1/7\n",
      "30/30 [==============================] - 15s 431ms/step - loss: 3.4196 - accuracy: 0.2017 - val_loss: 2.6275 - val_accuracy: 0.2500\n",
      "Epoch 2/7\n",
      "30/30 [==============================] - 12s 400ms/step - loss: 2.3238 - accuracy: 0.3379 - val_loss: 1.9938 - val_accuracy: 0.3938\n",
      "Epoch 3/7\n",
      "30/30 [==============================] - 12s 401ms/step - loss: 1.5871 - accuracy: 0.4954 - val_loss: 1.7231 - val_accuracy: 0.4812\n",
      "Epoch 4/7\n",
      "30/30 [==============================] - 12s 398ms/step - loss: 1.3478 - accuracy: 0.5646 - val_loss: 1.5348 - val_accuracy: 0.5125\n",
      "Epoch 5/7\n",
      "30/30 [==============================] - 12s 399ms/step - loss: 1.1435 - accuracy: 0.6215 - val_loss: 1.4547 - val_accuracy: 0.5188\n",
      "Epoch 6/7\n",
      "30/30 [==============================] - 12s 402ms/step - loss: 0.9676 - accuracy: 0.7059 - val_loss: 1.3308 - val_accuracy: 0.5500\n",
      "Epoch 7/7\n",
      "30/30 [==============================] - 12s 402ms/step - loss: 0.8848 - accuracy: 0.7426 - val_loss: 1.2303 - val_accuracy: 0.5437\n"
     ]
    }
   ],
   "source": [
    "model_zx = get_model()\n",
    "X_train_zx, y_train_zx = shuffle(X_train_zx, y_train_zx)\n",
    "history_zx = model_zx.fit(X_train_zx, y_train_zx, validation_data=(X_test_zx, y_test_zx), epochs=EPOCHS)"
   ]
  },
  {
   "cell_type": "code",
   "execution_count": 15,
   "id": "designed-still",
   "metadata": {
    "id": "designed-still"
   },
   "outputs": [
    {
     "name": "stdout",
     "output_type": "stream",
     "text": [
      "              precision    recall  f1-score   support\n",
      "\n",
      "         0.0       0.56      1.00      0.71        10\n",
      "         1.0       0.64      0.90      0.75        10\n",
      "         2.0       0.25      0.20      0.22        10\n",
      "         3.0       1.00      0.70      0.82        10\n",
      "         4.0       0.00      0.00      0.00        10\n",
      "         5.0       0.71      1.00      0.83        10\n",
      "         6.0       0.77      1.00      0.87        10\n",
      "         7.0       0.36      0.40      0.38        10\n",
      "         8.0       1.00      0.90      0.95        10\n",
      "         9.0       0.67      0.40      0.50        10\n",
      "        10.0       0.40      0.80      0.53        10\n",
      "        11.0       0.00      0.00      0.00        10\n",
      "        12.0       0.29      0.20      0.24        10\n",
      "        13.0       0.75      0.60      0.67        10\n",
      "        14.0       0.18      0.20      0.19        10\n",
      "        15.0       1.00      0.40      0.57        10\n",
      "\n",
      "    accuracy                           0.54       160\n",
      "   macro avg       0.54      0.54      0.51       160\n",
      "weighted avg       0.54      0.54      0.51       160\n",
      "\n"
     ]
    }
   ],
   "source": [
    "# prob_zx = tf.keras.Sequential([model_zx, tf.keras.layers.Softmax()])\n",
    "# y_pred_zx = prob_zx.predict(X_test_zx)\n",
    "y_pred_zx = model_zx.predict(X_test_zx)\n",
    "y_pred = np.argmax(y_pred_zx, axis=1)\n",
    "print(classification_report(y_test_zx.ravel(), y_pred, zero_division=0))\n",
    "prc_zx = precision_score(y_test_zx.ravel(), y_pred, zero_division=0, average=None)\n",
    "tf.keras.backend.clear_session()"
   ]
  },
  {
   "cell_type": "code",
   "execution_count": 16,
   "id": "selective-geography",
   "metadata": {
    "id": "selective-geography"
   },
   "outputs": [
    {
     "name": "stdout",
     "output_type": "stream",
     "text": [
      "              precision    recall  f1-score   support\n",
      "\n",
      "         0.0       1.00      1.00      1.00        10\n",
      "         1.0       1.00      0.80      0.89        10\n",
      "         2.0       1.00      0.70      0.82        10\n",
      "         3.0       1.00      1.00      1.00        10\n",
      "         4.0       1.00      1.00      1.00        10\n",
      "         5.0       1.00      1.00      1.00        10\n",
      "         6.0       1.00      1.00      1.00        10\n",
      "         7.0       0.83      1.00      0.91        10\n",
      "         8.0       1.00      1.00      1.00        10\n",
      "         9.0       1.00      1.00      1.00        10\n",
      "        10.0       1.00      1.00      1.00        10\n",
      "        11.0       0.45      0.50      0.48        10\n",
      "        12.0       0.38      0.30      0.33        10\n",
      "        13.0       1.00      1.00      1.00        10\n",
      "        14.0       0.73      0.80      0.76        10\n",
      "        15.0       0.77      1.00      0.87        10\n",
      "\n",
      "    accuracy                           0.88       160\n",
      "   macro avg       0.88      0.88      0.88       160\n",
      "weighted avg       0.88      0.88      0.88       160\n",
      "\n"
     ]
    }
   ],
   "source": [
    "y_total = y_pred_xy + y_pred_yz + y_pred_zx\n",
    "y_pred = np.argmax(y_total, axis=1)\n",
    "report = classification_report(y_test_xy.ravel(), y_pred, zero_division=0)\n",
    "print(report)"
   ]
  },
  {
   "cell_type": "code",
   "execution_count": 17,
   "id": "collected-palmer",
   "metadata": {
    "id": "collected-palmer"
   },
   "outputs": [],
   "source": [
    "# config = '\\n\\nTEST_USER ' + TEST_USER + ' T: ' + str(int(time.time())) + '\\n'\n",
    "# underline = '=====================================\\n'\n",
    "# log_dir = os.path.join(BASE_DIR, LOG_DIR)\n",
    "# if not os.path.exists(log_dir):\n",
    "#     os.mkdir(log_dir)\n",
    "# f = open(os.path.join(log_dir, 'logs_sptl_bw' + CONFIG + '.txt'), 'a')\n",
    "# f.write(config)\n",
    "# f.write(underline)\n",
    "# f.write(report)\n",
    "# f.close()"
   ]
  },
  {
   "cell_type": "code",
   "execution_count": 18,
   "id": "intellectual-lunch",
   "metadata": {
    "id": "intellectual-lunch"
   },
   "outputs": [],
   "source": [
    "# config = TEST_USER + ' :'\n",
    "# log_dir = os.path.join(BASE_DIR, LOG_DIR)\n",
    "# if not os.path.exists(log_dir):\n",
    "#     os.mkdir(log_dir)\n",
    "# f = open(os.path.join(log_dir, 'prc_sptl_bw_xy' + CONFIG + '.txt'), 'a')\n",
    "# f.write(config)\n",
    "# f.write(np.array2string(prc_xy, precision=2, max_line_width=100) + '\\n')\n",
    "# f.close()"
   ]
  },
  {
   "cell_type": "code",
   "execution_count": 19,
   "id": "trying-thread",
   "metadata": {
    "id": "trying-thread"
   },
   "outputs": [],
   "source": [
    "# config = TEST_USER + ' :'\n",
    "# log_dir = os.path.join(BASE_DIR, LOG_DIR)\n",
    "# if not os.path.exists(log_dir):\n",
    "#     os.mkdir(log_dir)\n",
    "# f = open(os.path.join(log_dir, 'prc_sptl_bw_yz' + CONFIG + '.txt'), 'a')\n",
    "# f.write(config)\n",
    "# f.write(np.array2string(prc_yz, precision=2, max_line_width=100) + '\\n')\n",
    "# f.close()"
   ]
  },
  {
   "cell_type": "code",
   "execution_count": 20,
   "id": "general-plant",
   "metadata": {
    "id": "general-plant"
   },
   "outputs": [],
   "source": [
    "# config = TEST_USER + ' :'\n",
    "# log_dir = os.path.join(BASE_DIR, LOG_DIR)\n",
    "# if not os.path.exists(log_dir):\n",
    "#     os.mkdir(log_dir)\n",
    "# f = open(os.path.join(log_dir, 'prc_sptl_bw_zx' + CONFIG + '.txt'), 'a')\n",
    "# f.write(config)\n",
    "# f.write(np.array2string(prc_zx, precision=2, max_line_width=100) + '\\n')\n",
    "# f.close()"
   ]
  }
 ],
 "metadata": {
  "accelerator": "GPU",
  "colab": {
   "name": "Spatial_Path_Transfer_Learning_BW.ipynb",
   "provenance": []
  },
  "kernelspec": {
   "display_name": "Python 3",
   "language": "python",
   "name": "python3"
  },
  "language_info": {
   "codemirror_mode": {
    "name": "ipython",
    "version": 3
   },
   "file_extension": ".py",
   "mimetype": "text/x-python",
   "name": "python",
   "nbconvert_exporter": "python",
   "pygments_lexer": "ipython3",
   "version": "3.8.5"
  }
 },
 "nbformat": 4,
 "nbformat_minor": 5
}
