{
 "cells": [
  {
   "cell_type": "code",
   "execution_count": 1,
   "id": "tamil-chrome",
   "metadata": {},
   "outputs": [
    {
     "data": {
      "text/plain": [
       "'2.4.1'"
      ]
     },
     "execution_count": 1,
     "metadata": {},
     "output_type": "execute_result"
    }
   ],
   "source": [
    "import os\n",
    "import cv2\n",
    "import time\n",
    "import numpy as np\n",
    "import matplotlib.pyplot as plt\n",
    "import tensorflow as tf\n",
    "\n",
    "from sklearn.metrics import classification_report, accuracy_score, precision_score\n",
    "\n",
    "tf.__version__"
   ]
  },
  {
   "cell_type": "code",
   "execution_count": 2,
   "id": "casual-stack",
   "metadata": {},
   "outputs": [],
   "source": [
    "# -------- TEST USER ----------- #\n",
    "\n",
    "TEST_USER      = '001'\n",
    "\n",
    "BASE_DIR       = '../'\n",
    "IMG_DIR        = 'BW-Spatial-Path-Images/'\n",
    "LOG_DIR        = 'Logs/'\n",
    "\n",
    "USERS          = ['001', '002', '003', '004', '005', '006', '007']\n",
    "\n",
    "# ------------------------------- Only Dynalic Gestures ------------------------------ #\n",
    "GESTURES       = ['j', 'z', 'bad', 'deaf', 'fine', 'good', 'goodbye', 'hello', 'hungry',\n",
    "                  'me', 'no', 'please', 'sorry', 'thankyou', 'yes', 'you']\n",
    "\n",
    "PLANES         = ['XY', 'YZ', 'ZX']\n",
    "\n",
    "BATCH_SIZE     = 32\n",
    "IMG_LEN        = 160\n",
    "IMG_SIZE       = (IMG_LEN, IMG_LEN)\n",
    "\n",
    "# ------------- FOR THE GREATER GOOD :) ------------- #\n",
    "TRAIN_LEN      = 960\n",
    "TEST_LEN       = 160\n",
    "\n",
    "EPOCHS         = 7\n",
    "LEARNING_RATE  = 0.001\n",
    "DECAY          = 0.0\n",
    "\n",
    "CONFIG         = '_L_7_S_160x160_E_7'\n",
    "\n",
    "XY_WEIGHTS     = np.array([0.91, 0.75, 0.61, 0.63, 0.51, 0.66, 0.81, 0.65, 0.65, 0.31,\n",
    "                           0.66, 0.29, 0.34, 0.64, 0.64, 0.31])\n",
    "YZ_WEIGHTS     = np.array([0.73, 0.71, 0.70, 0.79, 0.76, 0.38, 0.80, 0.61, 0.58, 0.73,\n",
    "                           0.49, 0.26, 0.26, 0.52, 0.59, 0.54])\n",
    "ZX_WEIGHTS     = np.array([0.33, 0.66, 0.51, 0.54, 0.37, 0.51, 0.71, 0.30, 0.75, 0.41,\n",
    "                           0.40, 0.27, 0.24, 0.61, 0.36, 0.49])"
   ]
  },
  {
   "cell_type": "code",
   "execution_count": 3,
   "id": "stylish-banner",
   "metadata": {},
   "outputs": [],
   "source": [
    "def load_data(plane):\n",
    "    X_train = np.zeros((TRAIN_LEN, IMG_LEN, IMG_LEN, 3))\n",
    "    X_test = np.zeros((TEST_LEN, IMG_LEN, IMG_LEN, 3))\n",
    "    y_train = np.zeros((TRAIN_LEN, 1))\n",
    "    y_test = np.zeros((TEST_LEN, 1))\n",
    "    \n",
    "    train_count = 0\n",
    "    test_count = 0\n",
    "        \n",
    "    for gesture in GESTURES:\n",
    "        print('loading data for ' + gesture + ' gesture on the ' + plane + ' plane ... ', end='')\n",
    "        path = os.path.join(BASE_DIR, IMG_DIR, plane, gesture)\n",
    "        for filename in os.listdir(path):\n",
    "            img = cv2.imread(os.path.join(path, filename))\n",
    "            resized = cv2.resize(img, IMG_SIZE)\n",
    "            if filename[1:4] != TEST_USER:\n",
    "                X_train[train_count, :] = resized\n",
    "                y_train[train_count, 0] = GESTURES.index(gesture)\n",
    "                train_count = train_count + 1\n",
    "            else:\n",
    "                X_test[test_count, :] = resized\n",
    "                y_test[test_count, 0] = GESTURES.index(gesture)\n",
    "                test_count = test_count + 1\n",
    "                \n",
    "        print('√')\n",
    "        \n",
    "    return X_train, X_test, y_train, y_test"
   ]
  },
  {
   "cell_type": "code",
   "execution_count": 4,
   "id": "extra-disclosure",
   "metadata": {},
   "outputs": [
    {
     "name": "stdout",
     "output_type": "stream",
     "text": [
      "loading data for j gesture on the XY plane ... √\n",
      "loading data for z gesture on the XY plane ... √\n",
      "loading data for bad gesture on the XY plane ... √\n",
      "loading data for deaf gesture on the XY plane ... √\n",
      "loading data for fine gesture on the XY plane ... √\n",
      "loading data for good gesture on the XY plane ... √\n",
      "loading data for goodbye gesture on the XY plane ... √\n",
      "loading data for hello gesture on the XY plane ... √\n",
      "loading data for hungry gesture on the XY plane ... √\n",
      "loading data for me gesture on the XY plane ... √\n",
      "loading data for no gesture on the XY plane ... √\n",
      "loading data for please gesture on the XY plane ... √\n",
      "loading data for sorry gesture on the XY plane ... √\n",
      "loading data for thankyou gesture on the XY plane ... √\n",
      "loading data for yes gesture on the XY plane ... √\n",
      "loading data for you gesture on the XY plane ... √\n",
      "loading data for j gesture on the YZ plane ... √\n",
      "loading data for z gesture on the YZ plane ... √\n",
      "loading data for bad gesture on the YZ plane ... √\n",
      "loading data for deaf gesture on the YZ plane ... √\n",
      "loading data for fine gesture on the YZ plane ... √\n",
      "loading data for good gesture on the YZ plane ... √\n",
      "loading data for goodbye gesture on the YZ plane ... √\n",
      "loading data for hello gesture on the YZ plane ... √\n",
      "loading data for hungry gesture on the YZ plane ... √\n",
      "loading data for me gesture on the YZ plane ... √\n",
      "loading data for no gesture on the YZ plane ... √\n",
      "loading data for please gesture on the YZ plane ... √\n",
      "loading data for sorry gesture on the YZ plane ... √\n",
      "loading data for thankyou gesture on the YZ plane ... √\n",
      "loading data for yes gesture on the YZ plane ... √\n",
      "loading data for you gesture on the YZ plane ... √\n",
      "loading data for j gesture on the ZX plane ... √\n",
      "loading data for z gesture on the ZX plane ... √\n",
      "loading data for bad gesture on the ZX plane ... √\n",
      "loading data for deaf gesture on the ZX plane ... √\n",
      "loading data for fine gesture on the ZX plane ... √\n",
      "loading data for good gesture on the ZX plane ... √\n",
      "loading data for goodbye gesture on the ZX plane ... √\n",
      "loading data for hello gesture on the ZX plane ... √\n",
      "loading data for hungry gesture on the ZX plane ... √\n",
      "loading data for me gesture on the ZX plane ... √\n",
      "loading data for no gesture on the ZX plane ... √\n",
      "loading data for please gesture on the ZX plane ... √\n",
      "loading data for sorry gesture on the ZX plane ... √\n",
      "loading data for thankyou gesture on the ZX plane ... √\n",
      "loading data for yes gesture on the ZX plane ... √\n",
      "loading data for you gesture on the ZX plane ... √\n"
     ]
    }
   ],
   "source": [
    "X_train_xy, X_test_xy, y_train_xy, y_test_xy = load_data('XY')\n",
    "X_train_yz, X_test_yz, y_train_yz, y_test_yz = load_data('YZ')\n",
    "X_train_zx, X_test_zx, y_train_zx, y_test_zx = load_data('ZX')"
   ]
  },
  {
   "cell_type": "code",
   "execution_count": 5,
   "id": "conditional-advisory",
   "metadata": {},
   "outputs": [],
   "source": [
    "preprocess_input = tf.keras.applications.mobilenet_v2.preprocess_input\n",
    "rescale = tf.keras.layers.experimental.preprocessing.Rescaling(1./127.5, offset= -1)"
   ]
  },
  {
   "cell_type": "code",
   "execution_count": 6,
   "id": "internal-arkansas",
   "metadata": {},
   "outputs": [],
   "source": [
    "IMG_SHAPE = IMG_SIZE + (3,)\n",
    "base_model = tf.keras.applications.MobileNetV2(input_shape=IMG_SHAPE, include_top=False, weights='imagenet')\n",
    "base_model.trainable = False"
   ]
  },
  {
   "cell_type": "code",
   "execution_count": 7,
   "id": "strange-encoding",
   "metadata": {},
   "outputs": [],
   "source": [
    "global_average_layer = tf.keras.layers.GlobalAveragePooling2D()\n",
    "prediction_layer = tf.keras.layers.Dense(len(GESTURES))"
   ]
  },
  {
   "cell_type": "code",
   "execution_count": 8,
   "id": "upper-tobago",
   "metadata": {},
   "outputs": [],
   "source": [
    "def get_model():\n",
    "    inputs = tf.keras.Input(shape=IMG_SHAPE)\n",
    "    x = preprocess_input(inputs)\n",
    "    x = base_model(x, training=False)\n",
    "    x = global_average_layer(x)\n",
    "    x = tf.keras.layers.Dropout(0.2)(x)\n",
    "    outputs = prediction_layer(x)\n",
    "    model = tf.keras.Model(inputs, outputs)\n",
    "    model.compile(optimizer=tf.keras.optimizers.Adam(lr=LEARNING_RATE, decay=DECAY),\n",
    "              loss=tf.keras.losses.SparseCategoricalCrossentropy(from_logits=True),\n",
    "              metrics=['accuracy'])\n",
    "    return model"
   ]
  },
  {
   "cell_type": "code",
   "execution_count": 9,
   "id": "distinct-appendix",
   "metadata": {
    "scrolled": true
   },
   "outputs": [
    {
     "name": "stdout",
     "output_type": "stream",
     "text": [
      "Epoch 1/7\n",
      "30/30 [==============================] - 18s 512ms/step - loss: 2.8625 - accuracy: 0.1433 - val_loss: 1.7491 - val_accuracy: 0.4500\n",
      "Epoch 2/7\n",
      "30/30 [==============================] - 12s 401ms/step - loss: 1.6415 - accuracy: 0.5030 - val_loss: 1.3942 - val_accuracy: 0.5063\n",
      "Epoch 3/7\n",
      "30/30 [==============================] - 12s 402ms/step - loss: 1.2349 - accuracy: 0.6217 - val_loss: 1.1672 - val_accuracy: 0.5875\n",
      "Epoch 4/7\n",
      "30/30 [==============================] - 12s 406ms/step - loss: 1.0477 - accuracy: 0.6686 - val_loss: 1.1056 - val_accuracy: 0.6187\n",
      "Epoch 5/7\n",
      "30/30 [==============================] - 12s 398ms/step - loss: 0.9225 - accuracy: 0.7016 - val_loss: 1.0391 - val_accuracy: 0.6500\n",
      "Epoch 6/7\n",
      "30/30 [==============================] - 12s 401ms/step - loss: 0.7511 - accuracy: 0.7683 - val_loss: 1.0003 - val_accuracy: 0.6687\n",
      "Epoch 7/7\n",
      "30/30 [==============================] - 12s 397ms/step - loss: 0.6902 - accuracy: 0.7877 - val_loss: 0.9439 - val_accuracy: 0.6875\n"
     ]
    }
   ],
   "source": [
    "model_xy = get_model()\n",
    "history_xy = model_xy.fit(X_train_xy, y_train_xy, validation_data=(X_test_xy, y_test_xy), epochs=EPOCHS)"
   ]
  },
  {
   "cell_type": "code",
   "execution_count": 10,
   "id": "constitutional-genre",
   "metadata": {},
   "outputs": [
    {
     "name": "stdout",
     "output_type": "stream",
     "text": [
      "              precision    recall  f1-score   support\n",
      "\n",
      "         0.0       1.00      1.00      1.00        10\n",
      "         1.0       1.00      0.20      0.33        10\n",
      "         2.0       0.86      0.60      0.71        10\n",
      "         3.0       1.00      0.70      0.82        10\n",
      "         4.0       1.00      0.90      0.95        10\n",
      "         5.0       0.29      0.20      0.24        10\n",
      "         6.0       0.73      0.80      0.76        10\n",
      "         7.0       0.40      1.00      0.57        10\n",
      "         8.0       0.89      0.80      0.84        10\n",
      "         9.0       0.39      0.70      0.50        10\n",
      "        10.0       0.89      0.80      0.84        10\n",
      "        11.0       0.53      0.80      0.64        10\n",
      "        12.0       0.67      0.20      0.31        10\n",
      "        13.0       0.71      1.00      0.83        10\n",
      "        14.0       0.90      0.90      0.90        10\n",
      "        15.0       1.00      0.40      0.57        10\n",
      "\n",
      "    accuracy                           0.69       160\n",
      "   macro avg       0.77      0.69      0.68       160\n",
      "weighted avg       0.77      0.69      0.68       160\n",
      "\n"
     ]
    }
   ],
   "source": [
    "# prob_xy = tf.keras.Sequential([model_xy, tf.keras.layers.Softmax()])\n",
    "# y_pred_xy = prob_xy.predict(X_test_xy)\n",
    "y_pred_xy = model_xy.predict(X_test_xy)\n",
    "y_pred = np.argmax(y_pred_xy, axis=1)\n",
    "print(classification_report(y_test_xy.ravel(), y_pred, zero_division=0))\n",
    "prc_xy = precision_score(y_test_xy.ravel(), y_pred, zero_division=0, average=None)"
   ]
  },
  {
   "cell_type": "code",
   "execution_count": 11,
   "id": "emotional-chrome",
   "metadata": {},
   "outputs": [
    {
     "name": "stdout",
     "output_type": "stream",
     "text": [
      "Epoch 1/7\n",
      "30/30 [==============================] - 16s 429ms/step - loss: 3.4017 - accuracy: 0.1638 - val_loss: 1.9807 - val_accuracy: 0.3375\n",
      "Epoch 2/7\n",
      "30/30 [==============================] - 12s 401ms/step - loss: 1.8208 - accuracy: 0.3805 - val_loss: 1.4431 - val_accuracy: 0.5375\n",
      "Epoch 3/7\n",
      "30/30 [==============================] - 12s 400ms/step - loss: 1.2406 - accuracy: 0.5629 - val_loss: 1.1815 - val_accuracy: 0.5938\n",
      "Epoch 4/7\n",
      "30/30 [==============================] - 12s 399ms/step - loss: 0.9735 - accuracy: 0.6910 - val_loss: 1.1434 - val_accuracy: 0.5750\n",
      "Epoch 5/7\n",
      "30/30 [==============================] - 12s 389ms/step - loss: 0.7539 - accuracy: 0.7705 - val_loss: 1.0840 - val_accuracy: 0.6125\n",
      "Epoch 6/7\n",
      "30/30 [==============================] - 12s 396ms/step - loss: 0.6689 - accuracy: 0.7960 - val_loss: 1.0236 - val_accuracy: 0.6313\n",
      "Epoch 7/7\n",
      "30/30 [==============================] - 12s 389ms/step - loss: 0.5880 - accuracy: 0.8289 - val_loss: 1.0512 - val_accuracy: 0.6125\n"
     ]
    }
   ],
   "source": [
    "model_yz = get_model()\n",
    "history_yz = model_yz.fit(X_train_yz, y_train_yz, validation_data=(X_test_yz, y_test_yz), epochs=EPOCHS)"
   ]
  },
  {
   "cell_type": "code",
   "execution_count": 12,
   "id": "boring-insurance",
   "metadata": {},
   "outputs": [
    {
     "name": "stdout",
     "output_type": "stream",
     "text": [
      "              precision    recall  f1-score   support\n",
      "\n",
      "         0.0       0.40      0.20      0.27        10\n",
      "         1.0       0.67      0.20      0.31        10\n",
      "         2.0       0.60      0.30      0.40        10\n",
      "         3.0       0.71      1.00      0.83        10\n",
      "         4.0       0.59      1.00      0.74        10\n",
      "         5.0       0.67      0.20      0.31        10\n",
      "         6.0       0.62      0.50      0.56        10\n",
      "         7.0       0.62      0.80      0.70        10\n",
      "         8.0       0.77      1.00      0.87        10\n",
      "         9.0       1.00      1.00      1.00        10\n",
      "        10.0       0.67      1.00      0.80        10\n",
      "        11.0       0.38      0.50      0.43        10\n",
      "        12.0       0.33      0.40      0.36        10\n",
      "        13.0       0.67      1.00      0.80        10\n",
      "        14.0       0.00      0.00      0.00        10\n",
      "        15.0       0.54      0.70      0.61        10\n",
      "\n",
      "    accuracy                           0.61       160\n",
      "   macro avg       0.58      0.61      0.56       160\n",
      "weighted avg       0.58      0.61      0.56       160\n",
      "\n"
     ]
    }
   ],
   "source": [
    "# prob_yz = tf.keras.Sequential([model_yz, tf.keras.layers.Softmax()])\n",
    "# y_pred_yz = prob_yz.predict(X_test_yz)\n",
    "y_pred_yz = model_yz.predict(X_test_yz)\n",
    "y_pred = np.argmax(y_pred_yz, axis=1)\n",
    "print(classification_report(y_test_yz.ravel(), y_pred, zero_division=0))\n",
    "prc_yz = precision_score(y_test_yz.ravel(), y_pred, zero_division=0, average=None)"
   ]
  },
  {
   "cell_type": "code",
   "execution_count": 13,
   "id": "joint-evaluation",
   "metadata": {},
   "outputs": [
    {
     "name": "stdout",
     "output_type": "stream",
     "text": [
      "Epoch 1/7\n",
      "30/30 [==============================] - 15s 427ms/step - loss: 3.5039 - accuracy: 0.1888 - val_loss: 2.5778 - val_accuracy: 0.2937\n",
      "Epoch 2/7\n",
      "30/30 [==============================] - 12s 391ms/step - loss: 2.2362 - accuracy: 0.3506 - val_loss: 1.9653 - val_accuracy: 0.4250\n",
      "Epoch 3/7\n",
      "30/30 [==============================] - 12s 393ms/step - loss: 1.6728 - accuracy: 0.4717 - val_loss: 1.5998 - val_accuracy: 0.5125\n",
      "Epoch 4/7\n",
      "30/30 [==============================] - 12s 392ms/step - loss: 1.3308 - accuracy: 0.5721 - val_loss: 1.5000 - val_accuracy: 0.5250\n",
      "Epoch 5/7\n",
      "30/30 [==============================] - 12s 395ms/step - loss: 1.1019 - accuracy: 0.6419 - val_loss: 1.4311 - val_accuracy: 0.4812\n",
      "Epoch 6/7\n",
      "30/30 [==============================] - 12s 396ms/step - loss: 0.9908 - accuracy: 0.6838 - val_loss: 1.3896 - val_accuracy: 0.5437\n",
      "Epoch 7/7\n",
      "30/30 [==============================] - 12s 392ms/step - loss: 0.9052 - accuracy: 0.7223 - val_loss: 1.2202 - val_accuracy: 0.5688\n"
     ]
    }
   ],
   "source": [
    "model_zx = get_model()\n",
    "history_zx = model_zx.fit(X_train_zx, y_train_zx, validation_data=(X_test_zx, y_test_zx), epochs=EPOCHS)"
   ]
  },
  {
   "cell_type": "code",
   "execution_count": 14,
   "id": "designed-still",
   "metadata": {},
   "outputs": [
    {
     "name": "stdout",
     "output_type": "stream",
     "text": [
      "              precision    recall  f1-score   support\n",
      "\n",
      "         0.0       0.82      0.90      0.86        10\n",
      "         1.0       0.82      0.90      0.86        10\n",
      "         2.0       0.43      0.30      0.35        10\n",
      "         3.0       1.00      0.90      0.95        10\n",
      "         4.0       0.00      0.00      0.00        10\n",
      "         5.0       0.59      1.00      0.74        10\n",
      "         6.0       0.71      1.00      0.83        10\n",
      "         7.0       0.50      0.60      0.55        10\n",
      "         8.0       0.82      0.90      0.86        10\n",
      "         9.0       0.75      0.30      0.43        10\n",
      "        10.0       0.42      0.80      0.55        10\n",
      "        11.0       0.08      0.10      0.09        10\n",
      "        12.0       0.30      0.30      0.30        10\n",
      "        13.0       0.67      0.80      0.73        10\n",
      "        14.0       0.00      0.00      0.00        10\n",
      "        15.0       1.00      0.30      0.46        10\n",
      "\n",
      "    accuracy                           0.57       160\n",
      "   macro avg       0.56      0.57      0.53       160\n",
      "weighted avg       0.56      0.57      0.53       160\n",
      "\n"
     ]
    }
   ],
   "source": [
    "# prob_zx = tf.keras.Sequential([model_zx, tf.keras.layers.Softmax()])\n",
    "# y_pred_zx = prob_zx.predict(X_test_zx)\n",
    "y_pred_zx = model_zx.predict(X_test_zx)\n",
    "y_pred = np.argmax(y_pred_zx, axis=1)\n",
    "print(classification_report(y_test_zx.ravel(), y_pred, zero_division=0))\n",
    "prc_zx = precision_score(y_test_zx.ravel(), y_pred, zero_division=0, average=None)"
   ]
  },
  {
   "cell_type": "code",
   "execution_count": 15,
   "id": "selective-geography",
   "metadata": {},
   "outputs": [
    {
     "name": "stdout",
     "output_type": "stream",
     "text": [
      "              precision    recall  f1-score   support\n",
      "\n",
      "         0.0       1.00      1.00      1.00        10\n",
      "         1.0       1.00      1.00      1.00        10\n",
      "         2.0       1.00      0.90      0.95        10\n",
      "         3.0       1.00      1.00      1.00        10\n",
      "         4.0       1.00      1.00      1.00        10\n",
      "         5.0       1.00      1.00      1.00        10\n",
      "         6.0       1.00      1.00      1.00        10\n",
      "         7.0       1.00      1.00      1.00        10\n",
      "         8.0       1.00      1.00      1.00        10\n",
      "         9.0       1.00      1.00      1.00        10\n",
      "        10.0       1.00      1.00      1.00        10\n",
      "        11.0       0.33      0.70      0.45        10\n",
      "        12.0       0.25      0.10      0.14        10\n",
      "        13.0       0.91      1.00      0.95        10\n",
      "        14.0       0.80      0.40      0.53        10\n",
      "        15.0       0.90      0.90      0.90        10\n",
      "\n",
      "    accuracy                           0.88       160\n",
      "   macro avg       0.89      0.88      0.87       160\n",
      "weighted avg       0.89      0.88      0.87       160\n",
      "\n"
     ]
    }
   ],
   "source": [
    "y_total = y_pred_xy + y_pred_yz + y_pred_zx\n",
    "y_pred = np.argmax(y_total, axis=1)\n",
    "report = classification_report(y_test_xy.ravel(), y_pred, zero_division=0)\n",
    "print(report)"
   ]
  },
  {
   "cell_type": "code",
   "execution_count": 16,
   "id": "collected-palmer",
   "metadata": {},
   "outputs": [],
   "source": [
    "config = '\\n\\nTEST_USER ' + TEST_USER + ' T: ' + str(int(time.time())) + '\\n'\n",
    "underline = '=====================================\\n'\n",
    "log_dir = os.path.join(BASE_DIR, LOG_DIR)\n",
    "if not os.path.exists(log_dir):\n",
    "    os.mkdir(log_dir)\n",
    "f = open(os.path.join(log_dir, 'logs_sptl_bw' + CONFIG + '.txt'), 'a')\n",
    "f.write(config)\n",
    "f.write(underline)\n",
    "f.write(report)\n",
    "f.close()"
   ]
  },
  {
   "cell_type": "code",
   "execution_count": 17,
   "id": "intellectual-lunch",
   "metadata": {},
   "outputs": [],
   "source": [
    "# config = TEST_USER + ' :'\n",
    "# log_dir = os.path.join(BASE_DIR, LOG_DIR)\n",
    "# if not os.path.exists(log_dir):\n",
    "#     os.mkdir(log_dir)\n",
    "# f = open(os.path.join(log_dir, 'prc_sptl_bw_xy' + CONFIG + '.txt'), 'a')\n",
    "# f.write(config)\n",
    "# f.write(np.array2string(prc_xy, precision=2, max_line_width=100) + '\\n')\n",
    "# f.close()"
   ]
  },
  {
   "cell_type": "code",
   "execution_count": 18,
   "id": "trying-thread",
   "metadata": {},
   "outputs": [],
   "source": [
    "# config = TEST_USER + ' :'\n",
    "# log_dir = os.path.join(BASE_DIR, LOG_DIR)\n",
    "# if not os.path.exists(log_dir):\n",
    "#     os.mkdir(log_dir)\n",
    "# f = open(os.path.join(log_dir, 'prc_sptl_bw_yz' + CONFIG + '.txt'), 'a')\n",
    "# f.write(config)\n",
    "# f.write(np.array2string(prc_yz, precision=2, max_line_width=100) + '\\n')\n",
    "# f.close()"
   ]
  },
  {
   "cell_type": "code",
   "execution_count": 19,
   "id": "general-plant",
   "metadata": {},
   "outputs": [],
   "source": [
    "# config = TEST_USER + ' :'\n",
    "# log_dir = os.path.join(BASE_DIR, LOG_DIR)\n",
    "# if not os.path.exists(log_dir):\n",
    "#     os.mkdir(log_dir)\n",
    "# f = open(os.path.join(log_dir, 'prc_sptl_bw_zx' + CONFIG + '.txt'), 'a')\n",
    "# f.write(config)\n",
    "# f.write(np.array2string(prc_zx, precision=2, max_line_width=100) + '\\n')\n",
    "# f.close()"
   ]
  }
 ],
 "metadata": {
  "kernelspec": {
   "display_name": "Python 3",
   "language": "python",
   "name": "python3"
  },
  "language_info": {
   "codemirror_mode": {
    "name": "ipython",
    "version": 3
   },
   "file_extension": ".py",
   "mimetype": "text/x-python",
   "name": "python",
   "nbconvert_exporter": "python",
   "pygments_lexer": "ipython3",
   "version": "3.8.5"
  }
 },
 "nbformat": 4,
 "nbformat_minor": 5
}
