{
 "cells": [
  {
   "cell_type": "code",
   "execution_count": 1,
   "id": "returning-virginia",
   "metadata": {},
   "outputs": [],
   "source": [
    "import os\n",
    "import shutil\n",
    "import tarfile\n",
    "import requests\n",
    "import numpy as np\n",
    "import pandas as pd\n",
    "import matplotlib.pyplot as plt"
   ]
  },
  {
   "cell_type": "code",
   "execution_count": 2,
   "id": "associate-found",
   "metadata": {},
   "outputs": [],
   "source": [
    "DATASET_ID   = '1p0CSRb9gax0sKqdyzOYVt-BXvZ4GtrBv'\n",
    "\n",
    "# -------------BASE DIR (MODIFY THIS TO YOUR NEED) ------------ #\n",
    "BASE_DIR     = '../Dataset/'\n",
    "\n",
    "DATA_DIR     = 'Sensor-Data/'\n",
    "BW_IMG_DIR   = 'BW-Spatial-Path-Images/'\n",
    "RGB_IMG_DIR  = 'RGB-Spatial-Path-Images/'\n",
    "IMG_SIZE     = (3, 3) # INCHES\n",
    "\n",
    "USERS        = ['001', '002', '003', '004', '005', '006', '007', '008', '009',\n",
    "                '010', '011', '012', '013', '014', '015', '016', '017', '018',\n",
    "                '019', '020', '021', '022', '023', '024', '025']\n",
    "# ------------------------------- Only Dynalic Gestures ------------------------------ #\n",
    "GESTURES     = ['j', 'z', 'bad', 'deaf', 'fine', 'good', 'goodbye', 'hello', 'hungry',\n",
    "                'me', 'no', 'please', 'sorry', 'thankyou', 'yes', 'you']\n",
    "\n",
    "PLANES       = ['XY', 'YZ', 'ZX']\n",
    "\n",
    "DT           = 0.01\n",
    "SHAPES       = 100"
   ]
  },
  {
   "cell_type": "code",
   "execution_count": 3,
   "id": "lesbian-dover",
   "metadata": {},
   "outputs": [],
   "source": [
    "#--------------------- Download util for Google Drive ------------------- #\n",
    "\n",
    "def download_file_from_google_drive(id, destination):\n",
    "    URL = \"https://docs.google.com/uc?export=download\"\n",
    "\n",
    "    session = requests.Session()\n",
    "\n",
    "    response = session.get(URL, params = { 'id' : id }, stream = True)\n",
    "    token = get_confirm_token(response)\n",
    "\n",
    "    if token:\n",
    "        params = { 'id' : id, 'confirm' : token }\n",
    "        response = session.get(URL, params = params, stream = True)\n",
    "        \n",
    "    save_response_content(response, destination)    \n",
    "\n",
    "def get_confirm_token(response):\n",
    "    for key, value in response.cookies.items():\n",
    "        if key.startswith('download_warning'):\n",
    "            return value\n",
    "        \n",
    "    return None\n",
    "\n",
    "def save_response_content(response, destination):\n",
    "    CHUNK_SIZE = 32768\n",
    "\n",
    "    with open(destination, \"wb\") as f:\n",
    "        for chunk in response.iter_content(CHUNK_SIZE):\n",
    "            if chunk:\n",
    "                f.write(chunk)\n",
    "\n",
    "def download_data(fid, destination):\n",
    "    print('cleaning already existing files ... ', end='')\n",
    "    try:\n",
    "        shutil.rmtree(destination)\n",
    "        print('√')\n",
    "    except:\n",
    "        print('✕')\n",
    "        \n",
    "    print('creating data directory ... ', end='')\n",
    "    os.mkdir(destination)\n",
    "    print('√')\n",
    "    \n",
    "    print('downloading dataset from the repository ... ', end='')\n",
    "    filename = os.path.join(destination, 'dataset.tar.xz')\n",
    "    try:\n",
    "        download_file_from_google_drive(fid, filename)\n",
    "        print('√')\n",
    "    except:\n",
    "        print('✕')\n",
    "        \n",
    "    print('extracting the dataset ... ', end='')\n",
    "    try:\n",
    "        tar = tarfile.open(filename)\n",
    "        tar.extractall(destination)\n",
    "        tar.close()\n",
    "        print('√')\n",
    "    except:\n",
    "        print('✕')   "
   ]
  },
  {
   "cell_type": "code",
   "execution_count": 4,
   "id": "standing-posting",
   "metadata": {},
   "outputs": [
    {
     "name": "stdout",
     "output_type": "stream",
     "text": [
      "cleaning already existing files ... ✕\n",
      "creating data directory ... √\n",
      "downloading dataset from the repository ... √\n",
      "extracting the dataset ... √\n"
     ]
    }
   ],
   "source": [
    "# ------- Comment This if already downloaded -------- #\n",
    "\n",
    "destination = os.path.join(BASE_DIR, DATA_DIR)\n",
    "download_data(DATASET_ID, destination)"
   ]
  },
  {
   "cell_type": "code",
   "execution_count": 6,
   "id": "prostate-sister",
   "metadata": {},
   "outputs": [],
   "source": [
    "# ------------- Spatial Path Image Generation ----------- #\n",
    "\n",
    "def clean_dir(path):\n",
    "    print('cleaning already existing files ... ', end='')\n",
    "    try:\n",
    "        shutil.rmtree(path)\n",
    "        print('√')\n",
    "    except:\n",
    "        print('✕')\n",
    "    \n",
    "    print('creating ' + path + ' directory ... ', end='')\n",
    "    os.mkdir(path)\n",
    "    print('√')\n",
    "    \n",
    "# ----------- Spatial Path Vector Calculation ----------- #\n",
    "\n",
    "def get_displacement(acc):\n",
    "    v = np.zeros(acc.shape)\n",
    "    d = np.zeros(acc.shape)\n",
    "    for i in range(acc.shape[0] - 1):\n",
    "        v[i + 1] = v[i] + acc[i] * DT\n",
    "        d[i + 1] = v[i] * DT + 0.5 * acc[i] * DT * DT\n",
    "        \n",
    "    return d\n",
    "\n",
    "def write_image(x, y, path):\n",
    "    fig, ax = plt.subplots(frameon=True, figsize=(3, 3))\n",
    "    ax.axis('off')\n",
    "    plt.scatter(x, y, s=SHAPES, c='black')\n",
    "    # plt.savefig(path)\n",
    "    plt.show()\n",
    "\n",
    "def generate_bw_images():\n",
    "    count = 0\n",
    "    image_dir = os.path.join(BASE_DIR, BW_IMG_DIR)\n",
    "    clean_dir(image_dir)\n",
    "    \n",
    "    for plane in PLANES:\n",
    "        print('processing spatial path images for ' + plane + ' plane ... ', end='')\n",
    "        plane_dir = os.path.join(image_dir, plane)\n",
    "        os.mkdir(plane_dir)\n",
    "        \n",
    "        for gesture in GESTURES:\n",
    "            os.mkdir(os.path.join(plane_dir, gesture))\n",
    "    \n",
    "            for user in USERS:\n",
    "                user_dir = os.path.join(BASE_DIR, DATA_DIR, user)\n",
    "                gesture_dir = os.path.join(user_dir, gesture + '.csv')\n",
    "                \n",
    "                accx = pd.read_csv(gesture_dir)['ACCx'].to_numpy()\n",
    "                accy = pd.read_csv(gesture_dir)['ACCy'].to_numpy()\n",
    "                accz = pd.read_csv(gesture_dir)['ACCz'].to_numpy()\n",
    "\n",
    "                x = get_displacement(accx).reshape(-1, 150)\n",
    "                y = get_displacement(accy).reshape(-1, 150)\n",
    "                z = get_displacement(accz).reshape(-1, 150)\n",
    "\n",
    "                for i in range(x.shape[0]):\n",
    "                    image_name = 'u' + user + '_g' + '{:0>2d}'.format(GESTURES.index(gesture)) + \\\n",
    "                                 '_s' + '{:0>7d}'.format(count) + '_p' + plane + '.jpg'\n",
    "                    path = os.path.join(BASE_DIR, BW_IMG_DIR, plane, gesture, image_name)\n",
    "                    \n",
    "                    if plane == 'XY':\n",
    "                        write_image(x[i, :], y[i, :], path)\n",
    "                    elif plane == 'YZ':\n",
    "                        write_image(y[i, :], z[i, :], path)\n",
    "                    else:\n",
    "                        write_image(z[i, :], x[i, :], path)\n",
    "\n",
    "                    count = count + 1\n",
    "            \n",
    "        print('√')"
   ]
  },
  {
   "cell_type": "code",
   "execution_count": 6,
   "id": "promotional-lancaster",
   "metadata": {},
   "outputs": [
    {
     "name": "stdout",
     "output_type": "stream",
     "text": [
      "cleaning already existing files ... √\n",
      "creating ../BW-Spatial-Path-Images/ directory ... √\n",
      "processing spatial path images for XY plane ... √\n",
      "processing spatial path images for YZ plane ... √\n",
      "processing spatial path images for ZX plane ... √\n"
     ]
    }
   ],
   "source": [
    "generate_bw_images()"
   ]
  },
  {
   "cell_type": "code",
   "execution_count": 7,
   "id": "flexible-palestine",
   "metadata": {},
   "outputs": [
    {
     "name": "stdout",
     "output_type": "stream",
     "text": [
      "cleaning already existing files ... ✕\n",
      "creating ../Dataset/BW-Spatial-Path-Images/ directory ... √\n",
      "processing spatial path images for XY plane ... "
     ]
    },
    {
     "data": {
      "image/png": "[encoded data removed]",
      "text/plain": [
       "<Figure size 216x216 with 1 Axes>"
      ]
     },
     "metadata": {
      "needs_background": "light"
     },
     "output_type": "display_data"
    }
   ],
   "source": [
    "count = 0\n",
    "image_dir = os.path.join(BASE_DIR, BW_IMG_DIR)\n",
    "clean_dir(image_dir)\n",
    "\n",
    "for plane in PLANES:\n",
    "    print('processing spatial path images for ' + plane + ' plane ... ', end='')\n",
    "    plane_dir = os.path.join(image_dir, plane)\n",
    "    os.mkdir(plane_dir)\n",
    "    \n",
    "    for gesture in GESTURES:\n",
    "        os.mkdir(os.path.join(plane_dir, gesture))\n",
    "\n",
    "        for user in USERS:\n",
    "            user_dir = os.path.join(BASE_DIR, DATA_DIR, user)\n",
    "            gesture_dir = os.path.join(user_dir, gesture + '.csv')\n",
    "            \n",
    "            accx = pd.read_csv(gesture_dir)['ACCx'].to_numpy()\n",
    "            accy = pd.read_csv(gesture_dir)['ACCy'].to_numpy()\n",
    "            accz = pd.read_csv(gesture_dir)['ACCz'].to_numpy()\n",
    "\n",
    "            x = get_displacement(accx).reshape(-1, 150)\n",
    "            y = get_displacement(accy).reshape(-1, 150)\n",
    "            z = get_displacement(accz).reshape(-1, 150)\n",
    "\n",
    "            for i in range(x.shape[0]):\n",
    "                image_name = 'u' + user + '_g' + '{:0>2d}'.format(GESTURES.index(gesture)) + \\\n",
    "                                '_s' + '{:0>7d}'.format(count) + '_p' + plane + '.jpg'\n",
    "                path = os.path.join(BASE_DIR, BW_IMG_DIR, plane, gesture, image_name)\n",
    "                \n",
    "                if plane == 'XY':\n",
    "                    write_image(x[i, :], y[i, :], path)\n",
    "                elif plane == 'YZ':\n",
    "                    write_image(y[i, :], z[i, :], path)\n",
    "                else:\n",
    "                    write_image(z[i, :], x[i, :], path)\n",
    "\n",
    "                count = count + 1\n",
    "\n",
    "                break\n",
    "            break\n",
    "        break\n",
    "    break\n",
    "        \n",
    "    print('√')"
   ]
  },
  {
   "cell_type": "code",
   "execution_count": null,
   "id": "3a7283cb",
   "metadata": {},
   "outputs": [],
   "source": []
  }
 ],
 "metadata": {
  "kernelspec": {
   "display_name": "Python 3",
   "language": "python",
   "name": "python3"
  },
  "language_info": {
   "codemirror_mode": {
    "name": "ipython",
    "version": 3
   },
   "file_extension": ".py",
   "mimetype": "text/x-python",
   "name": "python",
   "nbconvert_exporter": "python",
   "pygments_lexer": "ipython3",
   "version": "3.9.2"
  }
 },
 "nbformat": 4,
 "nbformat_minor": 5
}
