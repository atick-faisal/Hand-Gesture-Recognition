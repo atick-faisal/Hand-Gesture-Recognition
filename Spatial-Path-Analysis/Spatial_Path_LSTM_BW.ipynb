{
  "nbformat": 4,
  "nbformat_minor": 5,
  "metadata": {
    "kernelspec": {
      "display_name": "Python 3",
      "language": "python",
      "name": "python3"
    },
    "language_info": {
      "codemirror_mode": {
        "name": "ipython",
        "version": 3
      },
      "file_extension": ".py",
      "mimetype": "text/x-python",
      "name": "python",
      "nbconvert_exporter": "python",
      "pygments_lexer": "ipython3",
      "version": "3.8.5"
    },
    "colab": {
      "name": "Spatial_Path_LSTM_BW.ipynb",
      "provenance": []
    },
    "accelerator": "GPU"
  },
  "cells": [
    {
      "cell_type": "code",
      "metadata": {
        "id": "tamil-chrome",
        "colab": {
          "base_uri": "https://localhost:8080/",
          "height": 35
        },
        "outputId": "bca1947b-a366-4c75-8b44-54bf3eddfd5b"
      },
      "source": [
        "import os\n",
        "import cv2\n",
        "import time\n",
        "import joblib\n",
        "import numpy as np\n",
        "import matplotlib.pyplot as plt\n",
        "import tensorflow as tf\n",
        "\n",
        "from tensorflow.keras.models import Sequential\n",
        "from tensorflow.keras.layers import Input, Conv2D, LSTM, Dense, Dropout, MaxPool2D, Flatten\n",
        "\n",
        "from sklearn.utils import shuffle\n",
        "from sklearn.metrics import classification_report, accuracy_score, precision_score\n",
        "\n",
        "tf.__version__"
      ],
      "id": "tamil-chrome",
      "execution_count": 426,
      "outputs": [
        {
          "output_type": "execute_result",
          "data": {
            "application/vnd.google.colaboratory.intrinsic+json": {
              "type": "string"
            },
            "text/plain": [
              "'2.4.1'"
            ]
          },
          "metadata": {
            "tags": []
          },
          "execution_count": 426
        }
      ]
    },
    {
      "cell_type": "code",
      "metadata": {
        "id": "Hss8UyF2dfSV",
        "colab": {
          "base_uri": "https://localhost:8080/"
        },
        "outputId": "3e924d14-083c-4998-ac7f-39e335554c4a"
      },
      "source": [
        "from google.colab import drive\n",
        "drive.mount('/content/drive')"
      ],
      "id": "Hss8UyF2dfSV",
      "execution_count": 427,
      "outputs": [
        {
          "output_type": "stream",
          "text": [
            "Drive already mounted at /content/drive; to attempt to forcibly remount, call drive.mount(\"/content/drive\", force_remount=True).\n"
          ],
          "name": "stdout"
        }
      ]
    },
    {
      "cell_type": "code",
      "metadata": {
        "id": "casual-stack"
      },
      "source": [
        "# -------- TEST USER ----------- #\n",
        "\n",
        "TEST_USER      = '001'\n",
        "\n",
        "# BASE_DIR       = '../'\n",
        "\n",
        "# Google Drive\n",
        "BASE_DIR       = '/content/drive/MyDrive/Research/Hand Gesture/GitHub/'\n",
        "\n",
        "IMG_DIR        = 'BW-Spatial-Path-Images/'\n",
        "LOG_DIR        = 'Logs/'\n",
        "\n",
        "USERS          = ['001', '002', '003', '004', '005', '006', '007']\n",
        "\n",
        "# ------------------------------- Only Dynalic Gestures ------------------------------ #\n",
        "GESTURES       = ['j', 'z', 'bad', 'deaf', 'fine', 'good', 'goodbye', 'hello', 'hungry',\n",
        "                  'me', 'no', 'please', 'sorry', 'thankyou', 'yes', 'you']\n",
        "\n",
        "PLANES         = ['XY', 'YZ', 'ZX']\n",
        "\n",
        "BATCH_SIZE     = 32\n",
        "IMG_LEN        = 40\n",
        "IMG_SIZE       = (IMG_LEN, IMG_LEN)\n",
        "\n",
        "# ------------- FOR THE GREATER GOOD :) ------------- #\n",
        "DATASET_LEN    = 1120\n",
        "TRAIN_LEN      = 960\n",
        "TEST_LEN       = 160\n",
        "\n",
        "EPOCHS         = 30\n",
        "LEARNING_RATE  = 0.001\n",
        "DECAY          = 0.00001\n",
        "\n",
        "C1             = 32\n",
        "C2             = 32\n",
        "D1             = 256\n",
        "DO             = 0.3\n",
        "\n",
        "CONFIG         = 'BW_L7_' + str(IMG_SIZE) + '_C1' + str(C1) + '_C2' + str(C2) + '_D1' + \\\n",
        "                 str(D1) + '_DO' + str(DO) + '_E' + str(EPOCHS) + '_LR' + str(LEARNING_RATE) \n",
        "\n",
        "XY_WEIGHTS     = np.array([0.91, 0.75, 0.61, 0.63, 0.51, 0.66, 0.81, 0.65, 0.65, 0.31,\n",
        "                           0.66, 0.29, 0.34, 0.64, 0.64, 0.31])\n",
        "YZ_WEIGHTS     = np.array([0.73, 0.71, 0.70, 0.79, 0.76, 0.38, 0.80, 0.61, 0.58, 0.73,\n",
        "                           0.49, 0.26, 0.26, 0.52, 0.59, 0.54])\n",
        "ZX_WEIGHTS     = np.array([0.33, 0.66, 0.51, 0.54, 0.37, 0.51, 0.71, 0.30, 0.75, 0.41,\n",
        "                           0.40, 0.27, 0.24, 0.61, 0.36, 0.49])"
      ],
      "id": "casual-stack",
      "execution_count": 428,
      "outputs": []
    },
    {
      "cell_type": "code",
      "metadata": {
        "id": "stylish-banner"
      },
      "source": [
        "def load_data(plane):\n",
        "    X_train = np.zeros((TRAIN_LEN, IMG_LEN, IMG_LEN, 1))\n",
        "    X_test = np.zeros((TEST_LEN, IMG_LEN, IMG_LEN, 1))\n",
        "    y_train = np.zeros((TRAIN_LEN, 1))\n",
        "    y_test = np.zeros((TEST_LEN, 1))\n",
        "    \n",
        "    train_count = 0\n",
        "    test_count = 0\n",
        "        \n",
        "    for gesture in GESTURES:\n",
        "        print('loading data for ' + gesture + ' gesture on the ' + plane + ' plane ... ', end='')\n",
        "        path = os.path.join(BASE_DIR, IMG_DIR, plane, gesture)\n",
        "        for filename in os.listdir(path):\n",
        "            img = cv2.imread(os.path.join(path, filename), cv2.IMREAD_GRAYSCALE)\n",
        "            resized = cv2.resize(img, IMG_SIZE)\n",
        "            if filename[1:4] != TEST_USER:\n",
        "                X_train[train_count, :] = np.expand_dims(resized, axis=-1)\n",
        "                y_train[train_count, 0] = GESTURES.index(gesture)\n",
        "                train_count = train_count + 1\n",
        "            else:\n",
        "                X_test[test_count, :] = np.expand_dims(resized, axis=-1)\n",
        "                y_test[test_count, 0] = GESTURES.index(gesture)\n",
        "                test_count = test_count + 1\n",
        "                \n",
        "        print('√')\n",
        "        \n",
        "    return X_train, X_test, y_train, y_test\n",
        "\n",
        "def load_and_save_data(plane):\n",
        "    X = np.zeros((DATASET_LEN, IMG_LEN, IMG_LEN, 1))\n",
        "    y = np.zeros((DATASET_LEN, 1))\n",
        "    \n",
        "    train_count = 0\n",
        "    test_count  = TRAIN_LEN\n",
        "        \n",
        "    for gesture in GESTURES:\n",
        "        print('loading data for ' + gesture + ' gesture on the ' + plane + ' plane ... ', end='')\n",
        "        path = os.path.join(BASE_DIR, IMG_DIR, plane, gesture)\n",
        "        for filename in os.listdir(path):\n",
        "            img = cv2.imread(os.path.join(path, filename), cv2.IMREAD_GRAYSCALE)\n",
        "            resized = cv2.resize(img, IMG_SIZE)\n",
        "            if filename[1:4] != TEST_USER:\n",
        "                X[train_count, :] = np.expand_dims(resized, axis=-1)\n",
        "                y[train_count, 0] = GESTURES.index(gesture)\n",
        "                train_count = train_count + 1\n",
        "            else:\n",
        "                X[test_count, :] = np.expand_dims(resized, axis=-1)\n",
        "                y[test_count, 0] = GESTURES.index(gesture)\n",
        "                test_count = test_count + 1\n",
        "                \n",
        "        print('√')\n",
        "\n",
        "    joblib.dump(X, BASE_DIR + 'X_BW_' + plane + str(IMG_SIZE) + '.joblib')\n",
        "    joblib.dump(y, BASE_DIR + 'Y_BW_' + plane + str(IMG_SIZE) + '.joblib')\n",
        "\n",
        "def load_data_from_joblib(plane):\n",
        "    print('Loading data for ' + plane + ' plane ... ', end='')\n",
        "    X = joblib.load(BASE_DIR + 'X_BW_' + plane + str(IMG_SIZE) + '.joblib')\n",
        "    y = joblib.load(BASE_DIR + 'Y_BW_' + plane + str(IMG_SIZE) + '.joblib')\n",
        "    test_user = int(TEST_USER)\n",
        "    X_train = X[:TRAIN_LEN, :, :, :]\n",
        "    y_train = y[:TRAIN_LEN, :]\n",
        "    X_test = X[TRAIN_LEN:, :, :, :]\n",
        "    y_test = y[TRAIN_LEN:, :]\n",
        "\n",
        "    print('√')\n",
        "\n",
        "    return X_train, X_test, y_train, y_test"
      ],
      "id": "stylish-banner",
      "execution_count": 429,
      "outputs": []
    },
    {
      "cell_type": "code",
      "metadata": {
        "id": "AEubcZCvI9wF",
        "colab": {
          "base_uri": "https://localhost:8080/"
        },
        "outputId": "18195b1b-3289-40f0-b97e-ef5f7531c8d2"
      },
      "source": [
        "# X_train_xy, X_test_xy, y_train_xy, y_test_xy = load_data('XY')\n",
        "# X_train_yz, X_test_yz, y_train_yz, y_test_yz = load_data('YZ')\n",
        "# X_train_zx, X_test_zx, y_train_zx, y_test_zx = load_data('ZX')\n",
        "\n",
        "# Save to Google  Drive\n",
        "# load_and_save_data('XY')\n",
        "# load_and_save_data('YZ')\n",
        "# load_and_save_data('ZX')\n",
        "\n",
        "# # Load from Google Drive\n",
        "X_train_xy, X_test_xy, y_train_xy, y_test_xy = load_data_from_joblib('XY')\n",
        "X_train_yz, X_test_yz, y_train_yz, y_test_yz = load_data_from_joblib('YZ')\n",
        "X_train_zx, X_test_zx, y_train_zx, y_test_zx = load_data_from_joblib('ZX')"
      ],
      "id": "AEubcZCvI9wF",
      "execution_count": 430,
      "outputs": [
        {
          "output_type": "stream",
          "text": [
            "Loading data for XY plane ... √\n",
            "Loading data for YZ plane ... √\n",
            "Loading data for ZX plane ... √\n"
          ],
          "name": "stdout"
        }
      ]
    },
    {
      "cell_type": "code",
      "metadata": {
        "id": "conditional-advisory"
      },
      "source": [
        "IMG_SHAPE = IMG_SIZE + (1,)\n",
        "rescale = tf.keras.layers.experimental.preprocessing.Rescaling(1./255.0, offset= 0, input_shape=IMG_SHAPE)"
      ],
      "id": "conditional-advisory",
      "execution_count": 431,
      "outputs": []
    },
    {
      "cell_type": "code",
      "metadata": {
        "id": "upper-tobago"
      },
      "source": [
        "def get_model():\n",
        "    model = Sequential()\n",
        "\n",
        "    model.add(rescale)\n",
        "\n",
        "    model.add(Conv2D(C1, (3, 3), activation='relu'))\n",
        "    model.add(MaxPool2D(pool_size=(2, 2)))\n",
        "    model.add(Dropout(DO))\n",
        "\n",
        "    model.add(Conv2D(C2, (3, 3), activation='relu'))\n",
        "    model.add(MaxPool2D(pool_size=(2, 2)))\n",
        "    model.add(Dropout(DO))\n",
        "\n",
        "    model.add(Flatten())\n",
        "    model.add(Dense(D1, activation='relu'))\n",
        "    model.add(Dropout(DO))\n",
        "\n",
        "    model.add(Dense(len(GESTURES)))\n",
        "    \n",
        "    model.compile(optimizer=tf.keras.optimizers.Adam(lr=LEARNING_RATE, decay=DECAY),\n",
        "              loss=tf.keras.losses.SparseCategoricalCrossentropy(from_logits=True),\n",
        "              metrics=['accuracy'])\n",
        "    \n",
        "    return model"
      ],
      "id": "upper-tobago",
      "execution_count": 432,
      "outputs": []
    },
    {
      "cell_type": "code",
      "metadata": {
        "id": "_mi2HD8JgcPC"
      },
      "source": [
        "# !pip install -q -U keras-tuner\n",
        "\n",
        "# import kerastuner as kt\n",
        "\n",
        "# def model_builder(hp):\n",
        "#     model = Sequential()\n",
        "#     model.add(rescale)\n",
        "#     model.add(Flatten())\n",
        "\n",
        "#     # Tune the number of units in the first Dense layer\n",
        "#     # Choose an optimal value between 32-512\n",
        "#     hp_units = hp.Int('units', min_value=32, max_value=512, step=32)\n",
        "#     model.add(Dense(units=hp_units, activation='relu'))\n",
        "#     model.add(Dense(16))\n",
        "\n",
        "#     # Tune the learning rate for the optimizer\n",
        "#     # Choose an optimal value from 0.01, 0.001, or 0.0001\n",
        "#     hp_learning_rate = hp.Choice('learning_rate', values=[1e-2, 1e-3, 1e-4])\n",
        "\n",
        "#     model.compile(optimizer=tf.keras.optimizers.Adam(learning_rate=hp_learning_rate),\n",
        "#                 loss=tf.keras.losses.SparseCategoricalCrossentropy(from_logits=True),\n",
        "#                 metrics=['accuracy'])\n",
        "\n",
        "#     return model\n",
        "\n",
        "# tuner = kt.Hyperband(model_builder,\n",
        "#                     objective='val_accuracy',\n",
        "#                     max_epochs=10,\n",
        "#                     factor=3,\n",
        "#                     directory='my_dir',\n",
        "#                     project_name='hand_gesture')\n",
        "  \n",
        "# stop_early = tf.keras.callbacks.EarlyStopping(monitor='val_loss', patience=5)\n",
        "\n",
        "# tuner.search(X_train_xy, y_train_xy, epochs=50, validation_data=(X_test_xy, y_test_xy), callbacks=[stop_early])\n",
        "\n",
        "# # Get the optimal hyperparameters\n",
        "# best_hps=tuner.get_best_hyperparameters(num_trials=1)[0]\n",
        "\n",
        "# print(f\"\"\"\n",
        "# The hyperparameter search is complete. The optimal number of units in the first densely-connected\n",
        "# layer is {best_hps.get('units')} and the optimal learning rate for the optimizer\n",
        "# is {best_hps.get('learning_rate')}.\n",
        "# \"\"\")"
      ],
      "id": "_mi2HD8JgcPC",
      "execution_count": 433,
      "outputs": []
    },
    {
      "cell_type": "code",
      "metadata": {
        "scrolled": true,
        "id": "distinct-appendix",
        "colab": {
          "base_uri": "https://localhost:8080/"
        },
        "outputId": "17c9d44e-38c4-4a14-c73a-faf0f52eb0f9"
      },
      "source": [
        "model_xy = get_model()\n",
        "X_train_xy, y_train_xy = shuffle(X_train_xy, y_train_xy)\n",
        "history_xy = model_xy.fit(X_train_xy, y_train_xy, validation_data=(X_test_xy, y_test_xy), epochs=EPOCHS)"
      ],
      "id": "distinct-appendix",
      "execution_count": 434,
      "outputs": [
        {
          "output_type": "stream",
          "text": [
            "Epoch 1/30\n",
            "30/30 [==============================] - 1s 15ms/step - loss: 2.7896 - accuracy: 0.0647 - val_loss: 2.7179 - val_accuracy: 0.2125\n",
            "Epoch 2/30\n",
            "30/30 [==============================] - 0s 9ms/step - loss: 2.5521 - accuracy: 0.2064 - val_loss: 2.2379 - val_accuracy: 0.4437\n",
            "Epoch 3/30\n",
            "30/30 [==============================] - 0s 9ms/step - loss: 1.9773 - accuracy: 0.3590 - val_loss: 2.0180 - val_accuracy: 0.4000\n",
            "Epoch 4/30\n",
            "30/30 [==============================] - 0s 9ms/step - loss: 1.4902 - accuracy: 0.5529 - val_loss: 1.8556 - val_accuracy: 0.4563\n",
            "Epoch 5/30\n",
            "30/30 [==============================] - 0s 10ms/step - loss: 1.2143 - accuracy: 0.6216 - val_loss: 1.8546 - val_accuracy: 0.4250\n",
            "Epoch 6/30\n",
            "30/30 [==============================] - 0s 9ms/step - loss: 0.9928 - accuracy: 0.6666 - val_loss: 1.7892 - val_accuracy: 0.4187\n",
            "Epoch 7/30\n",
            "30/30 [==============================] - 0s 9ms/step - loss: 0.8182 - accuracy: 0.7320 - val_loss: 1.8707 - val_accuracy: 0.4375\n",
            "Epoch 8/30\n",
            "30/30 [==============================] - 0s 9ms/step - loss: 0.7356 - accuracy: 0.7505 - val_loss: 1.7009 - val_accuracy: 0.4938\n",
            "Epoch 9/30\n",
            "30/30 [==============================] - 0s 10ms/step - loss: 0.6682 - accuracy: 0.7771 - val_loss: 1.9129 - val_accuracy: 0.4500\n",
            "Epoch 10/30\n",
            "30/30 [==============================] - 0s 9ms/step - loss: 0.5543 - accuracy: 0.8221 - val_loss: 1.9052 - val_accuracy: 0.4688\n",
            "Epoch 11/30\n",
            "30/30 [==============================] - 0s 9ms/step - loss: 0.4936 - accuracy: 0.8473 - val_loss: 1.7940 - val_accuracy: 0.4250\n",
            "Epoch 12/30\n",
            "30/30 [==============================] - 0s 9ms/step - loss: 0.5327 - accuracy: 0.8093 - val_loss: 1.8590 - val_accuracy: 0.4500\n",
            "Epoch 13/30\n",
            "30/30 [==============================] - 0s 10ms/step - loss: 0.4885 - accuracy: 0.8235 - val_loss: 1.9275 - val_accuracy: 0.4313\n",
            "Epoch 14/30\n",
            "30/30 [==============================] - 0s 9ms/step - loss: 0.4274 - accuracy: 0.8476 - val_loss: 1.8588 - val_accuracy: 0.4437\n",
            "Epoch 15/30\n",
            "30/30 [==============================] - 0s 10ms/step - loss: 0.4109 - accuracy: 0.8346 - val_loss: 1.8281 - val_accuracy: 0.4313\n",
            "Epoch 16/30\n",
            "30/30 [==============================] - 0s 9ms/step - loss: 0.3582 - accuracy: 0.8949 - val_loss: 1.8157 - val_accuracy: 0.4750\n",
            "Epoch 17/30\n",
            "30/30 [==============================] - 0s 9ms/step - loss: 0.3359 - accuracy: 0.8866 - val_loss: 1.9119 - val_accuracy: 0.4375\n",
            "Epoch 18/30\n",
            "30/30 [==============================] - 0s 9ms/step - loss: 0.2763 - accuracy: 0.9041 - val_loss: 1.9777 - val_accuracy: 0.4375\n",
            "Epoch 19/30\n",
            "30/30 [==============================] - 0s 9ms/step - loss: 0.3106 - accuracy: 0.8813 - val_loss: 1.9862 - val_accuracy: 0.4375\n",
            "Epoch 20/30\n",
            "30/30 [==============================] - 0s 9ms/step - loss: 0.2486 - accuracy: 0.9128 - val_loss: 2.0209 - val_accuracy: 0.4563\n",
            "Epoch 21/30\n",
            "30/30 [==============================] - 0s 9ms/step - loss: 0.2577 - accuracy: 0.9007 - val_loss: 2.1192 - val_accuracy: 0.4688\n",
            "Epoch 22/30\n",
            "30/30 [==============================] - 0s 9ms/step - loss: 0.1951 - accuracy: 0.9274 - val_loss: 2.1499 - val_accuracy: 0.4250\n",
            "Epoch 23/30\n",
            "30/30 [==============================] - 0s 9ms/step - loss: 0.2503 - accuracy: 0.9041 - val_loss: 2.0722 - val_accuracy: 0.4250\n",
            "Epoch 24/30\n",
            "30/30 [==============================] - 0s 10ms/step - loss: 0.2092 - accuracy: 0.9383 - val_loss: 2.3639 - val_accuracy: 0.4437\n",
            "Epoch 25/30\n",
            "30/30 [==============================] - 0s 9ms/step - loss: 0.2037 - accuracy: 0.9204 - val_loss: 2.2628 - val_accuracy: 0.4313\n",
            "Epoch 26/30\n",
            "30/30 [==============================] - 0s 9ms/step - loss: 0.1829 - accuracy: 0.9287 - val_loss: 2.4406 - val_accuracy: 0.4375\n",
            "Epoch 27/30\n",
            "30/30 [==============================] - 0s 9ms/step - loss: 0.1493 - accuracy: 0.9458 - val_loss: 2.2465 - val_accuracy: 0.4563\n",
            "Epoch 28/30\n",
            "30/30 [==============================] - 0s 9ms/step - loss: 0.1500 - accuracy: 0.9445 - val_loss: 2.4707 - val_accuracy: 0.4688\n",
            "Epoch 29/30\n",
            "30/30 [==============================] - 0s 9ms/step - loss: 0.1722 - accuracy: 0.9503 - val_loss: 2.5901 - val_accuracy: 0.4500\n",
            "Epoch 30/30\n",
            "30/30 [==============================] - 0s 9ms/step - loss: 0.1283 - accuracy: 0.9573 - val_loss: 2.4661 - val_accuracy: 0.4625\n"
          ],
          "name": "stdout"
        }
      ]
    },
    {
      "cell_type": "code",
      "metadata": {
        "id": "constitutional-genre",
        "outputId": "eea2de76-85bb-483a-ac9e-3a4773619d92",
        "colab": {
          "base_uri": "https://localhost:8080/"
        }
      },
      "source": [
        "# prob_xy = tf.keras.Sequential([model_xy, tf.keras.layers.Softmax()])\n",
        "# y_pred_xy = prob_xy.predict(X_test_xy)\n",
        "y_pred_xy = model_xy.predict(X_test_xy)\n",
        "y_pred = np.argmax(y_pred_xy, axis=1)\n",
        "print(classification_report(y_test_xy.ravel(), y_pred, zero_division=0))\n",
        "prc_xy = precision_score(y_test_xy.ravel(), y_pred, zero_division=0, average=None)\n",
        "tf.keras.backend.clear_session()"
      ],
      "id": "constitutional-genre",
      "execution_count": 435,
      "outputs": [
        {
          "output_type": "stream",
          "text": [
            "              precision    recall  f1-score   support\n",
            "\n",
            "         0.0       1.00      1.00      1.00        10\n",
            "         1.0       1.00      0.10      0.18        10\n",
            "         2.0       0.25      0.10      0.14        10\n",
            "         3.0       0.50      0.60      0.55        10\n",
            "         4.0       0.60      0.90      0.72        10\n",
            "         5.0       0.00      0.00      0.00        10\n",
            "         6.0       0.53      0.90      0.67        10\n",
            "         7.0       0.67      0.60      0.63        10\n",
            "         8.0       0.60      0.90      0.72        10\n",
            "         9.0       0.21      0.60      0.32        10\n",
            "        10.0       0.67      0.60      0.63        10\n",
            "        11.0       0.00      0.00      0.00        10\n",
            "        12.0       0.00      0.00      0.00        10\n",
            "        13.0       0.40      0.20      0.27        10\n",
            "        14.0       0.33      0.80      0.47        10\n",
            "        15.0       0.50      0.10      0.17        10\n",
            "\n",
            "    accuracy                           0.46       160\n",
            "   macro avg       0.45      0.46      0.40       160\n",
            "weighted avg       0.45      0.46      0.40       160\n",
            "\n"
          ],
          "name": "stdout"
        }
      ]
    },
    {
      "cell_type": "code",
      "metadata": {
        "id": "emotional-chrome",
        "outputId": "7bdc7505-48d1-462e-b521-7436bb092798",
        "colab": {
          "base_uri": "https://localhost:8080/"
        }
      },
      "source": [
        "model_yz = get_model()\n",
        "X_train_yz, y_train_yz = shuffle(X_train_yz, y_train_yz)\n",
        "history_yz = model_yz.fit(X_train_yz, y_train_yz, validation_data=(X_test_yz, y_test_yz), epochs=EPOCHS)"
      ],
      "id": "emotional-chrome",
      "execution_count": 436,
      "outputs": [
        {
          "output_type": "stream",
          "text": [
            "Epoch 1/30\n",
            "30/30 [==============================] - 1s 15ms/step - loss: 2.8520 - accuracy: 0.0767 - val_loss: 2.7320 - val_accuracy: 0.1688\n",
            "Epoch 2/30\n",
            "30/30 [==============================] - 0s 9ms/step - loss: 2.6030 - accuracy: 0.2135 - val_loss: 2.0515 - val_accuracy: 0.2500\n",
            "Epoch 3/30\n",
            "30/30 [==============================] - 0s 9ms/step - loss: 1.9048 - accuracy: 0.3643 - val_loss: 1.7648 - val_accuracy: 0.4375\n",
            "Epoch 4/30\n",
            "30/30 [==============================] - 0s 9ms/step - loss: 1.4131 - accuracy: 0.5391 - val_loss: 1.6186 - val_accuracy: 0.5250\n",
            "Epoch 5/30\n",
            "30/30 [==============================] - 0s 9ms/step - loss: 1.2830 - accuracy: 0.5820 - val_loss: 1.5680 - val_accuracy: 0.5562\n",
            "Epoch 6/30\n",
            "30/30 [==============================] - 0s 9ms/step - loss: 1.0312 - accuracy: 0.6555 - val_loss: 1.4815 - val_accuracy: 0.5500\n",
            "Epoch 7/30\n",
            "30/30 [==============================] - 0s 9ms/step - loss: 0.9248 - accuracy: 0.6918 - val_loss: 1.4869 - val_accuracy: 0.5437\n",
            "Epoch 8/30\n",
            "30/30 [==============================] - 0s 9ms/step - loss: 0.8140 - accuracy: 0.7295 - val_loss: 1.5084 - val_accuracy: 0.5250\n",
            "Epoch 9/30\n",
            "30/30 [==============================] - 0s 9ms/step - loss: 0.7351 - accuracy: 0.7421 - val_loss: 1.4406 - val_accuracy: 0.5938\n",
            "Epoch 10/30\n",
            "30/30 [==============================] - 0s 9ms/step - loss: 0.6922 - accuracy: 0.7536 - val_loss: 1.4859 - val_accuracy: 0.5562\n",
            "Epoch 11/30\n",
            "30/30 [==============================] - 0s 9ms/step - loss: 0.6299 - accuracy: 0.7800 - val_loss: 1.5034 - val_accuracy: 0.5625\n",
            "Epoch 12/30\n",
            "30/30 [==============================] - 0s 9ms/step - loss: 0.5303 - accuracy: 0.8266 - val_loss: 1.5684 - val_accuracy: 0.6125\n",
            "Epoch 13/30\n",
            "30/30 [==============================] - 0s 9ms/step - loss: 0.5052 - accuracy: 0.8326 - val_loss: 1.5876 - val_accuracy: 0.6187\n",
            "Epoch 14/30\n",
            "30/30 [==============================] - 0s 9ms/step - loss: 0.4381 - accuracy: 0.8502 - val_loss: 1.4847 - val_accuracy: 0.6313\n",
            "Epoch 15/30\n",
            "30/30 [==============================] - 0s 9ms/step - loss: 0.3743 - accuracy: 0.8674 - val_loss: 1.6953 - val_accuracy: 0.5875\n",
            "Epoch 16/30\n",
            "30/30 [==============================] - 0s 9ms/step - loss: 0.3724 - accuracy: 0.8599 - val_loss: 1.8366 - val_accuracy: 0.6062\n",
            "Epoch 17/30\n",
            "30/30 [==============================] - 0s 9ms/step - loss: 0.3416 - accuracy: 0.8837 - val_loss: 1.6436 - val_accuracy: 0.6000\n",
            "Epoch 18/30\n",
            "30/30 [==============================] - 0s 9ms/step - loss: 0.2719 - accuracy: 0.9086 - val_loss: 1.6509 - val_accuracy: 0.5875\n",
            "Epoch 19/30\n",
            "30/30 [==============================] - 0s 9ms/step - loss: 0.2795 - accuracy: 0.8971 - val_loss: 1.7899 - val_accuracy: 0.6313\n",
            "Epoch 20/30\n",
            "30/30 [==============================] - 0s 9ms/step - loss: 0.2392 - accuracy: 0.9122 - val_loss: 1.9087 - val_accuracy: 0.6000\n",
            "Epoch 21/30\n",
            "30/30 [==============================] - 0s 9ms/step - loss: 0.2608 - accuracy: 0.9049 - val_loss: 1.6693 - val_accuracy: 0.6250\n",
            "Epoch 22/30\n",
            "30/30 [==============================] - 0s 9ms/step - loss: 0.2441 - accuracy: 0.9098 - val_loss: 1.7753 - val_accuracy: 0.5938\n",
            "Epoch 23/30\n",
            "30/30 [==============================] - 0s 9ms/step - loss: 0.1966 - accuracy: 0.9394 - val_loss: 1.8379 - val_accuracy: 0.6062\n",
            "Epoch 24/30\n",
            "30/30 [==============================] - 0s 9ms/step - loss: 0.1891 - accuracy: 0.9285 - val_loss: 1.9189 - val_accuracy: 0.6000\n",
            "Epoch 25/30\n",
            "30/30 [==============================] - 0s 9ms/step - loss: 0.1978 - accuracy: 0.9251 - val_loss: 1.9012 - val_accuracy: 0.6062\n",
            "Epoch 26/30\n",
            "30/30 [==============================] - 0s 9ms/step - loss: 0.1622 - accuracy: 0.9433 - val_loss: 1.9502 - val_accuracy: 0.6000\n",
            "Epoch 27/30\n",
            "30/30 [==============================] - 0s 9ms/step - loss: 0.2090 - accuracy: 0.9291 - val_loss: 1.9481 - val_accuracy: 0.5938\n",
            "Epoch 28/30\n",
            "30/30 [==============================] - 0s 9ms/step - loss: 0.1645 - accuracy: 0.9499 - val_loss: 1.9024 - val_accuracy: 0.6187\n",
            "Epoch 29/30\n",
            "30/30 [==============================] - 0s 9ms/step - loss: 0.1567 - accuracy: 0.9425 - val_loss: 2.1125 - val_accuracy: 0.6062\n",
            "Epoch 30/30\n",
            "30/30 [==============================] - 0s 9ms/step - loss: 0.1438 - accuracy: 0.9491 - val_loss: 2.2582 - val_accuracy: 0.5875\n"
          ],
          "name": "stdout"
        }
      ]
    },
    {
      "cell_type": "code",
      "metadata": {
        "id": "boring-insurance",
        "outputId": "c7b8686b-45c8-42a7-c316-2c263d27d55c",
        "colab": {
          "base_uri": "https://localhost:8080/"
        }
      },
      "source": [
        "# prob_yz = tf.keras.Sequential([model_yz, tf.keras.layers.Softmax()])\n",
        "# y_pred_yz = prob_yz.predict(X_test_yz)\n",
        "y_pred_yz = model_yz.predict(X_test_yz)\n",
        "y_pred = np.argmax(y_pred_yz, axis=1)\n",
        "print(classification_report(y_test_yz.ravel(), y_pred, zero_division=0))\n",
        "prc_yz = precision_score(y_test_yz.ravel(), y_pred, zero_division=0, average=None)\n",
        "tf.keras.backend.clear_session()"
      ],
      "id": "boring-insurance",
      "execution_count": 437,
      "outputs": [
        {
          "output_type": "stream",
          "text": [
            "              precision    recall  f1-score   support\n",
            "\n",
            "         0.0       1.00      0.90      0.95        10\n",
            "         1.0       1.00      0.30      0.46        10\n",
            "         2.0       0.33      0.30      0.32        10\n",
            "         3.0       1.00      0.90      0.95        10\n",
            "         4.0       0.90      0.90      0.90        10\n",
            "         5.0       1.00      0.30      0.46        10\n",
            "         6.0       0.83      0.50      0.62        10\n",
            "         7.0       0.60      0.90      0.72        10\n",
            "         8.0       0.77      1.00      0.87        10\n",
            "         9.0       0.91      1.00      0.95        10\n",
            "        10.0       0.00      0.00      0.00        10\n",
            "        11.0       0.14      0.20      0.17        10\n",
            "        12.0       0.60      0.30      0.40        10\n",
            "        13.0       0.57      0.80      0.67        10\n",
            "        14.0       0.75      0.30      0.43        10\n",
            "        15.0       0.25      0.80      0.38        10\n",
            "\n",
            "    accuracy                           0.59       160\n",
            "   macro avg       0.67      0.59      0.58       160\n",
            "weighted avg       0.67      0.59      0.58       160\n",
            "\n"
          ],
          "name": "stdout"
        }
      ]
    },
    {
      "cell_type": "code",
      "metadata": {
        "id": "joint-evaluation",
        "outputId": "94f3ca7c-75db-4b61-e072-4ac947c659f3",
        "colab": {
          "base_uri": "https://localhost:8080/"
        }
      },
      "source": [
        "model_zx = get_model()\n",
        "X_train_zx, y_train_zx = shuffle(X_train_zx, y_train_zx)\n",
        "history_zx = model_zx.fit(X_train_zx, y_train_zx, validation_data=(X_test_zx, y_test_zx), epochs=EPOCHS)"
      ],
      "id": "joint-evaluation",
      "execution_count": 438,
      "outputs": [
        {
          "output_type": "stream",
          "text": [
            "Epoch 1/30\n",
            "30/30 [==============================] - 1s 15ms/step - loss: 2.8354 - accuracy: 0.0759 - val_loss: 2.7347 - val_accuracy: 0.1375\n",
            "Epoch 2/30\n",
            "30/30 [==============================] - 0s 9ms/step - loss: 2.6344 - accuracy: 0.1433 - val_loss: 2.0579 - val_accuracy: 0.3250\n",
            "Epoch 3/30\n",
            "30/30 [==============================] - 0s 9ms/step - loss: 1.9791 - accuracy: 0.3412 - val_loss: 1.7245 - val_accuracy: 0.3750\n",
            "Epoch 4/30\n",
            "30/30 [==============================] - 0s 9ms/step - loss: 1.6395 - accuracy: 0.4637 - val_loss: 1.7193 - val_accuracy: 0.3812\n",
            "Epoch 5/30\n",
            "30/30 [==============================] - 0s 9ms/step - loss: 1.4100 - accuracy: 0.5315 - val_loss: 1.5583 - val_accuracy: 0.4125\n",
            "Epoch 6/30\n",
            "30/30 [==============================] - 0s 9ms/step - loss: 1.1851 - accuracy: 0.6215 - val_loss: 1.6474 - val_accuracy: 0.3500\n",
            "Epoch 7/30\n",
            "30/30 [==============================] - 0s 9ms/step - loss: 0.9858 - accuracy: 0.6807 - val_loss: 1.6285 - val_accuracy: 0.3562\n",
            "Epoch 8/30\n",
            "30/30 [==============================] - 0s 10ms/step - loss: 0.8019 - accuracy: 0.7354 - val_loss: 1.5504 - val_accuracy: 0.4313\n",
            "Epoch 9/30\n",
            "30/30 [==============================] - 0s 9ms/step - loss: 0.7618 - accuracy: 0.7402 - val_loss: 1.4630 - val_accuracy: 0.4375\n",
            "Epoch 10/30\n",
            "30/30 [==============================] - 0s 10ms/step - loss: 0.6664 - accuracy: 0.7941 - val_loss: 1.6132 - val_accuracy: 0.4000\n",
            "Epoch 11/30\n",
            "30/30 [==============================] - 0s 9ms/step - loss: 0.6083 - accuracy: 0.8054 - val_loss: 1.5424 - val_accuracy: 0.4375\n",
            "Epoch 12/30\n",
            "30/30 [==============================] - 0s 9ms/step - loss: 0.5208 - accuracy: 0.8210 - val_loss: 1.5532 - val_accuracy: 0.4000\n",
            "Epoch 13/30\n",
            "30/30 [==============================] - 0s 9ms/step - loss: 0.4551 - accuracy: 0.8457 - val_loss: 1.4062 - val_accuracy: 0.5063\n",
            "Epoch 14/30\n",
            "30/30 [==============================] - 0s 9ms/step - loss: 0.4580 - accuracy: 0.8416 - val_loss: 1.5789 - val_accuracy: 0.4062\n",
            "Epoch 15/30\n",
            "30/30 [==============================] - 0s 9ms/step - loss: 0.3748 - accuracy: 0.8642 - val_loss: 1.6214 - val_accuracy: 0.3938\n",
            "Epoch 16/30\n",
            "30/30 [==============================] - 0s 9ms/step - loss: 0.3556 - accuracy: 0.8770 - val_loss: 1.5875 - val_accuracy: 0.4500\n",
            "Epoch 17/30\n",
            "30/30 [==============================] - 0s 9ms/step - loss: 0.3634 - accuracy: 0.8673 - val_loss: 1.6482 - val_accuracy: 0.4563\n",
            "Epoch 18/30\n",
            "30/30 [==============================] - 0s 9ms/step - loss: 0.3208 - accuracy: 0.8956 - val_loss: 1.6549 - val_accuracy: 0.4313\n",
            "Epoch 19/30\n",
            "30/30 [==============================] - 0s 9ms/step - loss: 0.3395 - accuracy: 0.8762 - val_loss: 1.8523 - val_accuracy: 0.3875\n",
            "Epoch 20/30\n",
            "30/30 [==============================] - 0s 9ms/step - loss: 0.2970 - accuracy: 0.8936 - val_loss: 1.8655 - val_accuracy: 0.4250\n",
            "Epoch 21/30\n",
            "30/30 [==============================] - 0s 9ms/step - loss: 0.2302 - accuracy: 0.9264 - val_loss: 1.8049 - val_accuracy: 0.4437\n",
            "Epoch 22/30\n",
            "30/30 [==============================] - 0s 9ms/step - loss: 0.2662 - accuracy: 0.9094 - val_loss: 1.7911 - val_accuracy: 0.4250\n",
            "Epoch 23/30\n",
            "30/30 [==============================] - 0s 9ms/step - loss: 0.2395 - accuracy: 0.9172 - val_loss: 1.9471 - val_accuracy: 0.4187\n",
            "Epoch 24/30\n",
            "30/30 [==============================] - 0s 9ms/step - loss: 0.2478 - accuracy: 0.9191 - val_loss: 1.7280 - val_accuracy: 0.4563\n",
            "Epoch 25/30\n",
            "30/30 [==============================] - 0s 9ms/step - loss: 0.2228 - accuracy: 0.9220 - val_loss: 1.8606 - val_accuracy: 0.4313\n",
            "Epoch 26/30\n",
            "30/30 [==============================] - 0s 9ms/step - loss: 0.2138 - accuracy: 0.9401 - val_loss: 1.8615 - val_accuracy: 0.4750\n",
            "Epoch 27/30\n",
            "30/30 [==============================] - 0s 9ms/step - loss: 0.2309 - accuracy: 0.9209 - val_loss: 2.0926 - val_accuracy: 0.4062\n",
            "Epoch 28/30\n",
            "30/30 [==============================] - 0s 9ms/step - loss: 0.2312 - accuracy: 0.9148 - val_loss: 1.8524 - val_accuracy: 0.4313\n",
            "Epoch 29/30\n",
            "30/30 [==============================] - 0s 9ms/step - loss: 0.2175 - accuracy: 0.9095 - val_loss: 1.8933 - val_accuracy: 0.4500\n",
            "Epoch 30/30\n",
            "30/30 [==============================] - 0s 9ms/step - loss: 0.1922 - accuracy: 0.9272 - val_loss: 2.0104 - val_accuracy: 0.4187\n"
          ],
          "name": "stdout"
        }
      ]
    },
    {
      "cell_type": "code",
      "metadata": {
        "id": "designed-still",
        "outputId": "2ed62748-d37d-4253-9373-68259fc49c4f",
        "colab": {
          "base_uri": "https://localhost:8080/"
        }
      },
      "source": [
        "# prob_zx = tf.keras.Sequential([model_zx, tf.keras.layers.Softmax()])\n",
        "# y_pred_zx = prob_zx.predict(X_test_zx)\n",
        "y_pred_zx = model_zx.predict(X_test_zx)\n",
        "y_pred = np.argmax(y_pred_zx, axis=1)\n",
        "print(classification_report(y_test_zx.ravel(), y_pred, zero_division=0))\n",
        "prc_zx = precision_score(y_test_zx.ravel(), y_pred, zero_division=0, average=None)\n",
        "tf.keras.backend.clear_session()"
      ],
      "id": "designed-still",
      "execution_count": 439,
      "outputs": [
        {
          "output_type": "stream",
          "text": [
            "              precision    recall  f1-score   support\n",
            "\n",
            "         0.0       0.43      0.30      0.35        10\n",
            "         1.0       0.43      1.00      0.61        10\n",
            "         2.0       0.33      0.20      0.25        10\n",
            "         3.0       0.62      0.80      0.70        10\n",
            "         4.0       0.30      0.30      0.30        10\n",
            "         5.0       0.50      0.20      0.29        10\n",
            "         6.0       0.30      0.30      0.30        10\n",
            "         7.0       0.20      0.20      0.20        10\n",
            "         8.0       0.45      0.90      0.60        10\n",
            "         9.0       0.33      0.10      0.15        10\n",
            "        10.0       0.56      1.00      0.71        10\n",
            "        11.0       0.00      0.00      0.00        10\n",
            "        12.0       0.67      0.20      0.31        10\n",
            "        13.0       0.33      0.20      0.25        10\n",
            "        14.0       0.67      0.40      0.50        10\n",
            "        15.0       0.55      0.60      0.57        10\n",
            "\n",
            "    accuracy                           0.42       160\n",
            "   macro avg       0.42      0.42      0.38       160\n",
            "weighted avg       0.42      0.42      0.38       160\n",
            "\n"
          ],
          "name": "stdout"
        }
      ]
    },
    {
      "cell_type": "code",
      "metadata": {
        "id": "selective-geography",
        "outputId": "e4287af4-5ac0-40db-859f-707577ca5ce6",
        "colab": {
          "base_uri": "https://localhost:8080/"
        }
      },
      "source": [
        "y_total = y_pred_xy + y_pred_yz + y_pred_zx\n",
        "y_pred = np.argmax(y_total, axis=1)\n",
        "report = classification_report(y_test_xy.ravel(), y_pred, zero_division=0)\n",
        "print(report)"
      ],
      "id": "selective-geography",
      "execution_count": 440,
      "outputs": [
        {
          "output_type": "stream",
          "text": [
            "              precision    recall  f1-score   support\n",
            "\n",
            "         0.0       1.00      1.00      1.00        10\n",
            "         1.0       1.00      0.50      0.67        10\n",
            "         2.0       0.60      0.30      0.40        10\n",
            "         3.0       1.00      1.00      1.00        10\n",
            "         4.0       0.90      0.90      0.90        10\n",
            "         5.0       0.67      0.20      0.31        10\n",
            "         6.0       0.69      0.90      0.78        10\n",
            "         7.0       0.91      1.00      0.95        10\n",
            "         8.0       0.75      0.90      0.82        10\n",
            "         9.0       1.00      1.00      1.00        10\n",
            "        10.0       0.91      1.00      0.95        10\n",
            "        11.0       0.31      0.50      0.38        10\n",
            "        12.0       0.50      0.20      0.29        10\n",
            "        13.0       0.67      1.00      0.80        10\n",
            "        14.0       0.88      0.70      0.78        10\n",
            "        15.0       0.47      0.80      0.59        10\n",
            "\n",
            "    accuracy                           0.74       160\n",
            "   macro avg       0.77      0.74      0.73       160\n",
            "weighted avg       0.77      0.74      0.73       160\n",
            "\n"
          ],
          "name": "stdout"
        }
      ]
    },
    {
      "cell_type": "code",
      "metadata": {
        "id": "collected-palmer"
      },
      "source": [
        "config = '\\n\\nTEST_USER ' + TEST_USER + ' T: ' + str(int(time.time())) + '\\n'\n",
        "underline = '=====================================\\n'\n",
        "log_dir = os.path.join(BASE_DIR, LOG_DIR)\n",
        "if not os.path.exists(log_dir):\n",
        "    os.mkdir(log_dir)\n",
        "f = open(os.path.join(log_dir, 'logs_splstm_bw' + CONFIG + '.txt'), 'a')\n",
        "f.write(config)\n",
        "f.write(underline)\n",
        "f.write(report)\n",
        "f.close()"
      ],
      "id": "collected-palmer",
      "execution_count": 441,
      "outputs": []
    },
    {
      "cell_type": "code",
      "metadata": {
        "id": "intellectual-lunch"
      },
      "source": [
        "# config = TEST_USER + ' :'\n",
        "# log_dir = os.path.join(BASE_DIR, LOG_DIR)\n",
        "# if not os.path.exists(log_dir):\n",
        "#     os.mkdir(log_dir)\n",
        "# f = open(os.path.join(log_dir, 'prc_sptl_bw_xy' + CONFIG + '.txt'), 'a')\n",
        "# f.write(config)\n",
        "# f.write(np.array2string(prc_xy, precision=2, max_line_width=100) + '\\n')\n",
        "# f.close()"
      ],
      "id": "intellectual-lunch",
      "execution_count": 442,
      "outputs": []
    },
    {
      "cell_type": "code",
      "metadata": {
        "id": "trying-thread"
      },
      "source": [
        "# config = TEST_USER + ' :'\n",
        "# log_dir = os.path.join(BASE_DIR, LOG_DIR)\n",
        "# if not os.path.exists(log_dir):\n",
        "#     os.mkdir(log_dir)\n",
        "# f = open(os.path.join(log_dir, 'prc_sptl_bw_yz' + CONFIG + '.txt'), 'a')\n",
        "# f.write(config)\n",
        "# f.write(np.array2string(prc_yz, precision=2, max_line_width=100) + '\\n')\n",
        "# f.close()"
      ],
      "id": "trying-thread",
      "execution_count": 443,
      "outputs": []
    },
    {
      "cell_type": "code",
      "metadata": {
        "id": "general-plant"
      },
      "source": [
        "# config = TEST_USER + ' :'\n",
        "# log_dir = os.path.join(BASE_DIR, LOG_DIR)\n",
        "# if not os.path.exists(log_dir):\n",
        "#     os.mkdir(log_dir)\n",
        "# f = open(os.path.join(log_dir, 'prc_sptl_bw_zx' + CONFIG + '.txt'), 'a')\n",
        "# f.write(config)\n",
        "# f.write(np.array2string(prc_zx, precision=2, max_line_width=100) + '\\n')\n",
        "# f.close()"
      ],
      "id": "general-plant",
      "execution_count": 444,
      "outputs": []
    }
  ]
}