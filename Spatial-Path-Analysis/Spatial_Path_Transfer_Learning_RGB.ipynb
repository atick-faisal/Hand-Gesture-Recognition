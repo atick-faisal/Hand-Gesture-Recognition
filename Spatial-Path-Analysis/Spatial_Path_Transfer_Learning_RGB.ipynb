{
 "cells": [
  {
   "cell_type": "code",
   "execution_count": 1,
   "id": "tamil-chrome",
   "metadata": {},
   "outputs": [
    {
     "data": {
      "text/plain": [
       "'2.7.0'"
      ]
     },
     "execution_count": 1,
     "metadata": {},
     "output_type": "execute_result"
    }
   ],
   "source": [
    "import os\n",
    "import gc\n",
    "import cv2\n",
    "import numpy as np\n",
    "import matplotlib.pyplot as plt\n",
    "import tensorflow as tf\n",
    "\n",
    "from sklearn.metrics import classification_report, accuracy_score, confusion_matrix\n",
    "\n",
    "tf.__version__"
   ]
  },
  {
   "cell_type": "code",
   "execution_count": 2,
   "id": "casual-stack",
   "metadata": {},
   "outputs": [],
   "source": [
    "# -------- TEST USER ----------- #\n",
    "\n",
    "TEST_USER      = '001'\n",
    "\n",
    "BASE_DIR       = '../Dataset/'\n",
    "IMG_DIR        = 'RGB-Spatial-Path-Images/'\n",
    "LOG_DIR        = 'Logs/'\n",
    "\n",
    "USERS          = ['001', '002', '003', '004', '005', '006', '007', '008', '009',\n",
    "                '010', '011', '012', '013', '014', '015', '016', '017', '018',\n",
    "                '019', '020', '021', '022', '023', '024', '025']\n",
    "\n",
    "# ------------------------------- Only Dynalic Gestures ------------------------------ #\n",
    "GESTURES       = ['j', 'z', 'bad', 'deaf', 'fine', 'good', 'goodbye', 'hello', 'hungry',\n",
    "                  'me', 'no', 'please', 'sorry', 'thankyou', 'yes', 'you']\n",
    "\n",
    "PLANES         = ['XY', 'YZ', 'ZX']\n",
    "\n",
    "BATCH_SIZE     = 8\n",
    "IMG_LEN        = 160\n",
    "IMG_SIZE       = (IMG_LEN, IMG_LEN)\n",
    "\n",
    "# ------------- FOR THE GREATER GOOD :) ------------- #\n",
    "TRAIN_LEN      = 3840\n",
    "TEST_LEN       = 160\n",
    "\n",
    "EPOCHS         = 7\n",
    "LEARNING_RATE  = 0.001"
   ]
  },
  {
   "cell_type": "code",
   "execution_count": 3,
   "id": "stylish-banner",
   "metadata": {},
   "outputs": [],
   "source": [
    "def load_data(plane):\n",
    "    X_train = np.zeros((TRAIN_LEN, IMG_LEN, IMG_LEN, 3), dtype='uint8')\n",
    "    X_test = np.zeros((TEST_LEN, IMG_LEN, IMG_LEN, 3), dtype='uint8')\n",
    "    y_train = np.zeros((TRAIN_LEN, 1), dtype='uint8')\n",
    "    y_test = np.zeros((TEST_LEN, 1), dtype='uint8')\n",
    "    \n",
    "    train_count = 0\n",
    "    test_count = 0\n",
    "        \n",
    "    for gesture in GESTURES:\n",
    "        print('loading data for ' + gesture + ' gesture on the ' + plane + ' plane ... ', end='')\n",
    "        path = os.path.join(BASE_DIR, IMG_DIR, plane, gesture)\n",
    "        for filename in os.listdir(path):\n",
    "            img = cv2.imread(os.path.join(path, filename))\n",
    "            resized = cv2.resize(img, IMG_SIZE)\n",
    "            if filename[1:4] != TEST_USER:\n",
    "                X_train[train_count, :] = resized\n",
    "                y_train[train_count, 0] = GESTURES.index(gesture)\n",
    "                train_count = train_count + 1\n",
    "            else:\n",
    "                X_test[test_count, :] = resized\n",
    "                y_test[test_count, 0] = GESTURES.index(gesture)\n",
    "                test_count = test_count + 1\n",
    "                \n",
    "        print('√')\n",
    "        \n",
    "    return X_train, X_test, y_train, y_test"
   ]
  },
  {
   "cell_type": "code",
   "execution_count": 4,
   "id": "conditional-advisory",
   "metadata": {},
   "outputs": [],
   "source": [
    "preprocess_input = tf.keras.applications.mobilenet_v2.preprocess_input\n",
    "rescale = tf.keras.layers.experimental.preprocessing.Rescaling(1./127.5, offset= -1)"
   ]
  },
  {
   "cell_type": "code",
   "execution_count": 5,
   "id": "internal-arkansas",
   "metadata": {},
   "outputs": [
    {
     "name": "stderr",
     "output_type": "stream",
     "text": [
      "2021-12-29 19:31:31.202621: I tensorflow/stream_executor/cuda/cuda_gpu_executor.cc:939] successful NUMA node read from SysFS had negative value (-1), but there must be at least one NUMA node, so returning NUMA node zero\n",
      "2021-12-29 19:31:31.244681: I tensorflow/stream_executor/cuda/cuda_gpu_executor.cc:939] successful NUMA node read from SysFS had negative value (-1), but there must be at least one NUMA node, so returning NUMA node zero\n",
      "2021-12-29 19:31:31.245271: I tensorflow/stream_executor/cuda/cuda_gpu_executor.cc:939] successful NUMA node read from SysFS had negative value (-1), but there must be at least one NUMA node, so returning NUMA node zero\n",
      "2021-12-29 19:31:31.246332: I tensorflow/core/platform/cpu_feature_guard.cc:151] This TensorFlow binary is optimized with oneAPI Deep Neural Network Library (oneDNN) to use the following CPU instructions in performance-critical operations:  AVX2 AVX512F FMA\n",
      "To enable them in other operations, rebuild TensorFlow with the appropriate compiler flags.\n",
      "2021-12-29 19:31:31.247195: I tensorflow/stream_executor/cuda/cuda_gpu_executor.cc:939] successful NUMA node read from SysFS had negative value (-1), but there must be at least one NUMA node, so returning NUMA node zero\n",
      "2021-12-29 19:31:31.247623: I tensorflow/stream_executor/cuda/cuda_gpu_executor.cc:939] successful NUMA node read from SysFS had negative value (-1), but there must be at least one NUMA node, so returning NUMA node zero\n",
      "2021-12-29 19:31:31.247969: I tensorflow/stream_executor/cuda/cuda_gpu_executor.cc:939] successful NUMA node read from SysFS had negative value (-1), but there must be at least one NUMA node, so returning NUMA node zero\n",
      "2021-12-29 19:31:32.158446: I tensorflow/stream_executor/cuda/cuda_gpu_executor.cc:939] successful NUMA node read from SysFS had negative value (-1), but there must be at least one NUMA node, so returning NUMA node zero\n",
      "2021-12-29 19:31:32.158731: I tensorflow/stream_executor/cuda/cuda_gpu_executor.cc:939] successful NUMA node read from SysFS had negative value (-1), but there must be at least one NUMA node, so returning NUMA node zero\n",
      "2021-12-29 19:31:32.158981: I tensorflow/stream_executor/cuda/cuda_gpu_executor.cc:939] successful NUMA node read from SysFS had negative value (-1), but there must be at least one NUMA node, so returning NUMA node zero\n",
      "2021-12-29 19:31:32.159203: I tensorflow/core/common_runtime/gpu/gpu_device.cc:1525] Created device /job:localhost/replica:0/task:0/device:GPU:0 with 1613 MB memory:  -> device: 0, name: GeForce MX330, pci bus id: 0000:02:00.0, compute capability: 6.1\n"
     ]
    }
   ],
   "source": [
    "IMG_SHAPE = IMG_SIZE + (3,)\n",
    "base_model = tf.keras.applications.MobileNetV2(input_shape=IMG_SHAPE, include_top=False, weights='imagenet')\n",
    "base_model.trainable = False"
   ]
  },
  {
   "cell_type": "code",
   "execution_count": 6,
   "id": "strange-encoding",
   "metadata": {},
   "outputs": [],
   "source": [
    "global_average_layer = tf.keras.layers.GlobalAveragePooling2D()\n",
    "prediction_layer = tf.keras.layers.Dense(len(GESTURES))"
   ]
  },
  {
   "cell_type": "code",
   "execution_count": 7,
   "id": "upper-tobago",
   "metadata": {},
   "outputs": [],
   "source": [
    "def get_model():\n",
    "    inputs = tf.keras.Input(shape=IMG_SHAPE)\n",
    "    x = preprocess_input(inputs)\n",
    "    x = base_model(x, training=False)\n",
    "    x = global_average_layer(x)\n",
    "    x = tf.keras.layers.Dropout(0.2)(x)\n",
    "    outputs = prediction_layer(x)\n",
    "    model = tf.keras.Model(inputs, outputs)\n",
    "    model.compile(optimizer=tf.keras.optimizers.Adam(lr=LEARNING_RATE),\n",
    "              loss=tf.keras.losses.SparseCategoricalCrossentropy(from_logits=True),\n",
    "              metrics=['accuracy'])\n",
    "    return model"
   ]
  },
  {
   "cell_type": "code",
   "execution_count": null,
   "id": "3a36adf4",
   "metadata": {},
   "outputs": [],
   "source": []
  },
  {
   "cell_type": "code",
   "execution_count": 18,
   "id": "6f8ddafe",
   "metadata": {},
   "outputs": [
    {
     "name": "stdout",
     "output_type": "stream",
     "text": [
      "Model: \"model_3\"\n",
      "_________________________________________________________________\n",
      " Layer (type)                Output Shape              Param #   \n",
      "=================================================================\n",
      " input_5 (InputLayer)        [(None, 160, 160, 3)]     0         \n",
      "                                                                 \n",
      " tf.math.truediv_3 (TFOpLamb  (None, 160, 160, 3)      0         \n",
      " da)                                                             \n",
      "                                                                 \n",
      " tf.math.subtract_3 (TFOpLam  (None, 160, 160, 3)      0         \n",
      " bda)                                                            \n",
      "                                                                 \n",
      " mobilenetv2_1.00_160 (Funct  (None, 5, 5, 1280)       2257984   \n",
      " ional)                                                          \n",
      "                                                                 \n",
      " global_average_pooling2d (G  (None, 1280)             0         \n",
      " lobalAveragePooling2D)                                          \n",
      "                                                                 \n",
      " dropout_3 (Dropout)         (None, 1280)              0         \n",
      "                                                                 \n",
      " dense (Dense)               (None, 16)                20496     \n",
      "                                                                 \n",
      "=================================================================\n",
      "Total params: 2,278,480\n",
      "Trainable params: 20,496\n",
      "Non-trainable params: 2,257,984\n",
      "_________________________________________________________________\n"
     ]
    },
    {
     "name": "stderr",
     "output_type": "stream",
     "text": [
      "/home/ai/Ai/lib/python3.9/site-packages/keras/optimizer_v2/adam.py:105: UserWarning: The `lr` argument is deprecated, use `learning_rate` instead.\n",
      "  super(Adam, self).__init__(name, **kwargs)\n"
     ]
    }
   ],
   "source": [
    "model = get_model()\n",
    "model.summary()"
   ]
  },
  {
   "cell_type": "code",
   "execution_count": 8,
   "id": "distinct-appendix",
   "metadata": {
    "scrolled": true
   },
   "outputs": [
    {
     "name": "stdout",
     "output_type": "stream",
     "text": [
      "loading data for j gesture on the XY plane ... √\n",
      "loading data for z gesture on the XY plane ... √\n",
      "loading data for bad gesture on the XY plane ... √\n",
      "loading data for deaf gesture on the XY plane ... √\n",
      "loading data for fine gesture on the XY plane ... √\n",
      "loading data for good gesture on the XY plane ... √\n",
      "loading data for goodbye gesture on the XY plane ... √\n",
      "loading data for hello gesture on the XY plane ... √\n",
      "loading data for hungry gesture on the XY plane ... √\n",
      "loading data for me gesture on the XY plane ... √\n",
      "loading data for no gesture on the XY plane ... √\n",
      "loading data for please gesture on the XY plane ... √\n",
      "loading data for sorry gesture on the XY plane ... √\n",
      "loading data for thankyou gesture on the XY plane ... √\n",
      "loading data for yes gesture on the XY plane ... √\n",
      "loading data for you gesture on the XY plane ... √\n"
     ]
    },
    {
     "name": "stderr",
     "output_type": "stream",
     "text": [
      "/home/ai/Ai/lib/python3.9/site-packages/keras/optimizer_v2/adam.py:105: UserWarning: The `lr` argument is deprecated, use `learning_rate` instead.\n",
      "  super(Adam, self).__init__(name, **kwargs)\n"
     ]
    },
    {
     "name": "stdout",
     "output_type": "stream",
     "text": [
      "Epoch 1/7\n"
     ]
    },
    {
     "name": "stderr",
     "output_type": "stream",
     "text": [
      "2021-12-29 19:31:37.365930: I tensorflow/stream_executor/cuda/cuda_dnn.cc:366] Loaded cuDNN version 8201\n"
     ]
    },
    {
     "name": "stdout",
     "output_type": "stream",
     "text": [
      "120/120 [==============================] - 16s 100ms/step - loss: 1.4494 - accuracy: 0.5539\n",
      "Epoch 2/7\n",
      "120/120 [==============================] - 12s 101ms/step - loss: 0.6803 - accuracy: 0.7875\n",
      "Epoch 3/7\n",
      "120/120 [==============================] - 12s 101ms/step - loss: 0.5026 - accuracy: 0.8443s - los\n",
      "Epoch 4/7\n",
      "120/120 [==============================] - 12s 101ms/step - loss: 0.4114 - accuracy: 0.8661\n",
      "Epoch 5/7\n",
      "120/120 [==============================] - 12s 101ms/step - loss: 0.3528 - accuracy: 0.8815\n",
      "Epoch 6/7\n",
      "120/120 [==============================] - 12s 101ms/step - loss: 0.3083 - accuracy: 0.9021\n",
      "Epoch 7/7\n",
      "120/120 [==============================] - 12s 101ms/step - loss: 0.2731 - accuracy: 0.9094\n"
     ]
    }
   ],
   "source": [
    "X_train_xy, X_test_xy, y_train_xy, y_test_xy = load_data('XY')\n",
    "model_xy = get_model()\n",
    "history_xy = model_xy.fit(X_train_xy, y_train_xy, epochs=EPOCHS)"
   ]
  },
  {
   "cell_type": "code",
   "execution_count": 9,
   "id": "constitutional-genre",
   "metadata": {},
   "outputs": [
    {
     "name": "stdout",
     "output_type": "stream",
     "text": [
      "              precision    recall  f1-score   support\n",
      "\n",
      "           0       1.00      1.00      1.00        10\n",
      "           1       1.00      0.80      0.89        10\n",
      "           2       0.71      1.00      0.83        10\n",
      "           3       0.83      1.00      0.91        10\n",
      "           4       1.00      1.00      1.00        10\n",
      "           5       0.88      0.70      0.78        10\n",
      "           6       1.00      1.00      1.00        10\n",
      "           7       1.00      1.00      1.00        10\n",
      "           8       1.00      1.00      1.00        10\n",
      "           9       1.00      0.90      0.95        10\n",
      "          10       1.00      1.00      1.00        10\n",
      "          11       0.18      0.20      0.19        10\n",
      "          12       0.00      0.00      0.00        10\n",
      "          13       0.77      1.00      0.87        10\n",
      "          14       0.53      1.00      0.69        10\n",
      "          15       1.00      0.60      0.75        10\n",
      "\n",
      "    accuracy                           0.82       160\n",
      "   macro avg       0.81      0.83      0.80       160\n",
      "weighted avg       0.81      0.82      0.80       160\n",
      "\n"
     ]
    },
    {
     "data": {
      "text/plain": [
       "8865"
      ]
     },
     "execution_count": 9,
     "metadata": {},
     "output_type": "execute_result"
    }
   ],
   "source": [
    "prob_xy = tf.keras.Sequential([model_xy, tf.keras.layers.Softmax()])\n",
    "y_pred_xy = prob_xy.predict(X_test_xy)\n",
    "y_pred = np.argmax(y_pred_xy, axis=1)\n",
    "print(classification_report(y_test_xy.ravel(), y_pred, zero_division=0))\n",
    "X_train_xy = None\n",
    "X_test_xy = None\n",
    "gc.collect()\n"
   ]
  },
  {
   "cell_type": "code",
   "execution_count": 10,
   "id": "emotional-chrome",
   "metadata": {},
   "outputs": [
    {
     "name": "stdout",
     "output_type": "stream",
     "text": [
      "loading data for j gesture on the YZ plane ... √\n",
      "loading data for z gesture on the YZ plane ... √\n",
      "loading data for bad gesture on the YZ plane ... √\n",
      "loading data for deaf gesture on the YZ plane ... √\n",
      "loading data for fine gesture on the YZ plane ... √\n",
      "loading data for good gesture on the YZ plane ... √\n",
      "loading data for goodbye gesture on the YZ plane ... √\n",
      "loading data for hello gesture on the YZ plane ... √\n",
      "loading data for hungry gesture on the YZ plane ... √\n",
      "loading data for me gesture on the YZ plane ... √\n",
      "loading data for no gesture on the YZ plane ... √\n",
      "loading data for please gesture on the YZ plane ... √\n",
      "loading data for sorry gesture on the YZ plane ... √\n",
      "loading data for thankyou gesture on the YZ plane ... √\n",
      "loading data for yes gesture on the YZ plane ... √\n",
      "loading data for you gesture on the YZ plane ... √\n"
     ]
    },
    {
     "name": "stderr",
     "output_type": "stream",
     "text": [
      "/home/ai/Ai/lib/python3.9/site-packages/keras/optimizer_v2/adam.py:105: UserWarning: The `lr` argument is deprecated, use `learning_rate` instead.\n",
      "  super(Adam, self).__init__(name, **kwargs)\n"
     ]
    },
    {
     "name": "stdout",
     "output_type": "stream",
     "text": [
      "Epoch 1/7\n",
      "120/120 [==============================] - 13s 101ms/step - loss: 2.0619 - accuracy: 0.4492\n",
      "Epoch 2/7\n",
      "120/120 [==============================] - 12s 101ms/step - loss: 0.7809 - accuracy: 0.7456\n",
      "Epoch 3/7\n",
      "120/120 [==============================] - 12s 100ms/step - loss: 0.5465 - accuracy: 0.8156\n",
      "Epoch 4/7\n",
      "120/120 [==============================] - 12s 101ms/step - loss: 0.4195 - accuracy: 0.8581\n",
      "Epoch 5/7\n",
      "120/120 [==============================] - 12s 100ms/step - loss: 0.3504 - accuracy: 0.8859\n",
      "Epoch 6/7\n",
      "120/120 [==============================] - 12s 100ms/step - loss: 0.3062 - accuracy: 0.9016\n",
      "Epoch 7/7\n",
      "120/120 [==============================] - 12s 100ms/step - loss: 0.2782 - accuracy: 0.9083\n"
     ]
    }
   ],
   "source": [
    "X_train_yz, X_test_yz, y_train_yz, y_test_yz = load_data('YZ')\n",
    "model_yz = get_model()\n",
    "history_yz = model_yz.fit(X_train_yz, y_train_yz, epochs=EPOCHS)"
   ]
  },
  {
   "cell_type": "code",
   "execution_count": 11,
   "id": "boring-insurance",
   "metadata": {},
   "outputs": [
    {
     "name": "stdout",
     "output_type": "stream",
     "text": [
      "              precision    recall  f1-score   support\n",
      "\n",
      "           0       0.67      0.20      0.31        10\n",
      "           1       1.00      0.70      0.82        10\n",
      "           2       0.89      0.80      0.84        10\n",
      "           3       0.56      0.90      0.69        10\n",
      "           4       0.78      0.70      0.74        10\n",
      "           5       1.00      0.30      0.46        10\n",
      "           6       0.80      0.80      0.80        10\n",
      "           7       0.82      0.90      0.86        10\n",
      "           8       1.00      1.00      1.00        10\n",
      "           9       1.00      0.90      0.95        10\n",
      "          10       0.62      1.00      0.77        10\n",
      "          11       0.38      0.30      0.33        10\n",
      "          12       0.50      0.30      0.37        10\n",
      "          13       0.59      1.00      0.74        10\n",
      "          14       0.75      0.90      0.82        10\n",
      "          15       0.64      0.90      0.75        10\n",
      "\n",
      "    accuracy                           0.73       160\n",
      "   macro avg       0.75      0.72      0.70       160\n",
      "weighted avg       0.75      0.72      0.70       160\n",
      "\n"
     ]
    },
    {
     "data": {
      "text/plain": [
       "16020"
      ]
     },
     "execution_count": 11,
     "metadata": {},
     "output_type": "execute_result"
    }
   ],
   "source": [
    "prob_yz = tf.keras.Sequential([model_yz, tf.keras.layers.Softmax()])\n",
    "y_pred_yz = prob_yz.predict(X_test_yz)\n",
    "y_pred = np.argmax(y_pred_yz, axis=1)\n",
    "print(classification_report(y_test_yz.ravel(), y_pred, zero_division=0))\n",
    "X_train_yz = None\n",
    "X_test_yz = None\n",
    "gc.collect()"
   ]
  },
  {
   "cell_type": "code",
   "execution_count": 12,
   "id": "joint-evaluation",
   "metadata": {},
   "outputs": [
    {
     "name": "stdout",
     "output_type": "stream",
     "text": [
      "loading data for j gesture on the ZX plane ... √\n",
      "loading data for z gesture on the ZX plane ... √\n",
      "loading data for bad gesture on the ZX plane ... √\n",
      "loading data for deaf gesture on the ZX plane ... √\n",
      "loading data for fine gesture on the ZX plane ... √\n",
      "loading data for good gesture on the ZX plane ... √\n",
      "loading data for goodbye gesture on the ZX plane ... √\n",
      "loading data for hello gesture on the ZX plane ... √\n",
      "loading data for hungry gesture on the ZX plane ... √\n",
      "loading data for me gesture on the ZX plane ... √\n",
      "loading data for no gesture on the ZX plane ... √\n",
      "loading data for please gesture on the ZX plane ... √\n",
      "loading data for sorry gesture on the ZX plane ... √\n",
      "loading data for thankyou gesture on the ZX plane ... √\n",
      "loading data for yes gesture on the ZX plane ... √\n",
      "loading data for you gesture on the ZX plane ... √\n"
     ]
    },
    {
     "name": "stderr",
     "output_type": "stream",
     "text": [
      "/home/ai/Ai/lib/python3.9/site-packages/keras/optimizer_v2/adam.py:105: UserWarning: The `lr` argument is deprecated, use `learning_rate` instead.\n",
      "  super(Adam, self).__init__(name, **kwargs)\n"
     ]
    },
    {
     "name": "stdout",
     "output_type": "stream",
     "text": [
      "Epoch 1/7\n",
      "120/120 [==============================] - 13s 100ms/step - loss: 2.5013 - accuracy: 0.3674\n",
      "Epoch 2/7\n",
      "120/120 [==============================] - 12s 100ms/step - loss: 1.1182 - accuracy: 0.6448\n",
      "Epoch 3/7\n",
      "120/120 [==============================] - 12s 100ms/step - loss: 0.7945 - accuracy: 0.7388\n",
      "Epoch 4/7\n",
      "120/120 [==============================] - 12s 100ms/step - loss: 0.6272 - accuracy: 0.7943s - loss: 0.6318 - accuracy: 0.79 - ETA: \n",
      "Epoch 5/7\n",
      "120/120 [==============================] - 12s 100ms/step - loss: 0.5261 - accuracy: 0.8268\n",
      "Epoch 6/7\n",
      "120/120 [==============================] - 12s 100ms/step - loss: 0.4519 - accuracy: 0.8529\n",
      "Epoch 7/7\n",
      "120/120 [==============================] - 12s 100ms/step - loss: 0.3971 - accuracy: 0.8661s -\n"
     ]
    }
   ],
   "source": [
    "X_train_zx, X_test_zx, y_train_zx, y_test_zx = load_data('ZX')\n",
    "model_zx = get_model()\n",
    "history_zx = model_zx.fit(X_train_zx, y_train_zx, epochs=EPOCHS)"
   ]
  },
  {
   "cell_type": "code",
   "execution_count": 13,
   "id": "designed-still",
   "metadata": {},
   "outputs": [
    {
     "name": "stdout",
     "output_type": "stream",
     "text": [
      "              precision    recall  f1-score   support\n",
      "\n",
      "           0       0.90      0.90      0.90        10\n",
      "           1       0.89      0.80      0.84        10\n",
      "           2       0.31      0.40      0.35        10\n",
      "           3       0.90      0.90      0.90        10\n",
      "           4       0.25      0.10      0.14        10\n",
      "           5       0.56      0.90      0.69        10\n",
      "           6       0.77      1.00      0.87        10\n",
      "           7       1.00      1.00      1.00        10\n",
      "           8       0.91      1.00      0.95        10\n",
      "           9       1.00      0.20      0.33        10\n",
      "          10       0.42      1.00      0.59        10\n",
      "          11       0.00      0.00      0.00        10\n",
      "          12       0.73      0.80      0.76        10\n",
      "          13       0.91      1.00      0.95        10\n",
      "          14       1.00      0.80      0.89        10\n",
      "          15       1.00      0.60      0.75        10\n",
      "\n",
      "    accuracy                           0.71       160\n",
      "   macro avg       0.72      0.71      0.68       160\n",
      "weighted avg       0.72      0.71      0.68       160\n",
      "\n"
     ]
    },
    {
     "data": {
      "text/plain": [
       "16020"
      ]
     },
     "execution_count": 13,
     "metadata": {},
     "output_type": "execute_result"
    }
   ],
   "source": [
    "prob_zx = tf.keras.Sequential([model_zx, tf.keras.layers.Softmax()])\n",
    "y_pred_zx = prob_zx.predict(X_test_zx)\n",
    "y_pred = np.argmax(y_pred_zx, axis=1)\n",
    "print(classification_report(y_test_zx.ravel(), y_pred, zero_division=0))\n",
    "X_train_zx = None\n",
    "X_test_zx = None\n",
    "gc.collect()"
   ]
  },
  {
   "cell_type": "code",
   "execution_count": 14,
   "id": "selective-geography",
   "metadata": {},
   "outputs": [
    {
     "name": "stdout",
     "output_type": "stream",
     "text": [
      "              precision    recall  f1-score   support\n",
      "\n",
      "           0       1.00      1.00      1.00        10\n",
      "           1       1.00      0.90      0.95        10\n",
      "           2       1.00      1.00      1.00        10\n",
      "           3       1.00      1.00      1.00        10\n",
      "           4       0.90      0.90      0.90        10\n",
      "           5       1.00      0.90      0.95        10\n",
      "           6       1.00      1.00      1.00        10\n",
      "           7       1.00      1.00      1.00        10\n",
      "           8       1.00      1.00      1.00        10\n",
      "           9       1.00      1.00      1.00        10\n",
      "          10       0.83      1.00      0.91        10\n",
      "          11       0.50      0.80      0.62        10\n",
      "          12       0.67      0.20      0.31        10\n",
      "          13       0.91      1.00      0.95        10\n",
      "          14       1.00      1.00      1.00        10\n",
      "          15       1.00      1.00      1.00        10\n",
      "\n",
      "    accuracy                           0.92       160\n",
      "   macro avg       0.93      0.92      0.91       160\n",
      "weighted avg       0.93      0.92      0.91       160\n",
      "\n"
     ]
    }
   ],
   "source": [
    "y_total = y_pred_xy * y_pred_yz * y_pred_zx\n",
    "y_pred = np.argmax(y_total, axis=1)\n",
    "report = classification_report(y_test_xy.ravel(), y_pred, zero_division=0)\n",
    "print(report)"
   ]
  },
  {
   "cell_type": "code",
   "execution_count": 15,
   "id": "collected-palmer",
   "metadata": {},
   "outputs": [],
   "source": [
    "config = '\\n\\nTEST_USER ' + TEST_USER + '\\n'\n",
    "underline = '=====================================\\n'\n",
    "log_dir = os.path.join(BASE_DIR, LOG_DIR)\n",
    "if not os.path.exists(log_dir):\n",
    "    os.mkdir(log_dir)\n",
    "f = open(os.path.join(log_dir, 'logs_sptl_rgb_v2.txt'), 'a')\n",
    "f.write(config)\n",
    "f.write(underline)\n",
    "f.write(report)\n",
    "f.close()"
   ]
  },
  {
   "cell_type": "code",
   "execution_count": 16,
   "id": "behavioral-earth",
   "metadata": {},
   "outputs": [
    {
     "data": {
      "text/plain": [
       "'\\n            Spatial Path TL RGB\\n      shapes -> z, colors -> start-end\\n        ----------------------------\\n           USER           ACCURACY\\n           =======================\\n            001              86%\\n            002              82%\\n            003              93%\\n            004              53%\\n            005              76%\\n            006              82%\\n            007              73%\\n\\n'"
      ]
     },
     "execution_count": 16,
     "metadata": {},
     "output_type": "execute_result"
    }
   ],
   "source": [
    "'''\n",
    "            Spatial Path TL RGB\n",
    "      shapes -> z, colors -> start-end\n",
    "        ----------------------------\n",
    "           USER           ACCURACY\n",
    "           =======================\n",
    "            001              86%\n",
    "            002              82%\n",
    "            003              93%\n",
    "            004              53%\n",
    "            005              76%\n",
    "            006              82%\n",
    "            007              73%\n",
    "\n",
    "'''"
   ]
  },
  {
   "cell_type": "code",
   "execution_count": 17,
   "id": "multiple-belly",
   "metadata": {},
   "outputs": [
    {
     "data": {
      "text/plain": [
       "array([[10,  0,  0,  0,  0,  0,  0,  0,  0,  0,  0,  0,  0,  0,  0,  0],\n",
       "       [ 0,  9,  0,  0,  1,  0,  0,  0,  0,  0,  0,  0,  0,  0,  0,  0],\n",
       "       [ 0,  0, 10,  0,  0,  0,  0,  0,  0,  0,  0,  0,  0,  0,  0,  0],\n",
       "       [ 0,  0,  0, 10,  0,  0,  0,  0,  0,  0,  0,  0,  0,  0,  0,  0],\n",
       "       [ 0,  0,  0,  0,  9,  0,  0,  0,  0,  0,  1,  0,  0,  0,  0,  0],\n",
       "       [ 0,  0,  0,  0,  0,  9,  0,  0,  0,  0,  0,  0,  0,  1,  0,  0],\n",
       "       [ 0,  0,  0,  0,  0,  0, 10,  0,  0,  0,  0,  0,  0,  0,  0,  0],\n",
       "       [ 0,  0,  0,  0,  0,  0,  0, 10,  0,  0,  0,  0,  0,  0,  0,  0],\n",
       "       [ 0,  0,  0,  0,  0,  0,  0,  0, 10,  0,  0,  0,  0,  0,  0,  0],\n",
       "       [ 0,  0,  0,  0,  0,  0,  0,  0,  0, 10,  0,  0,  0,  0,  0,  0],\n",
       "       [ 0,  0,  0,  0,  0,  0,  0,  0,  0,  0, 10,  0,  0,  0,  0,  0],\n",
       "       [ 0,  0,  0,  0,  0,  0,  0,  0,  0,  0,  1,  8,  1,  0,  0,  0],\n",
       "       [ 0,  0,  0,  0,  0,  0,  0,  0,  0,  0,  0,  8,  2,  0,  0,  0],\n",
       "       [ 0,  0,  0,  0,  0,  0,  0,  0,  0,  0,  0,  0,  0, 10,  0,  0],\n",
       "       [ 0,  0,  0,  0,  0,  0,  0,  0,  0,  0,  0,  0,  0,  0, 10,  0],\n",
       "       [ 0,  0,  0,  0,  0,  0,  0,  0,  0,  0,  0,  0,  0,  0,  0, 10]])"
      ]
     },
     "execution_count": 17,
     "metadata": {},
     "output_type": "execute_result"
    }
   ],
   "source": [
    "confusion_matrix(y_test_xy.ravel(), y_pred)"
   ]
  },
  {
   "cell_type": "code",
   "execution_count": null,
   "id": "golden-neighborhood",
   "metadata": {},
   "outputs": [],
   "source": []
  }
 ],
 "metadata": {
  "kernelspec": {
   "display_name": "Python 3",
   "language": "python",
   "name": "python3"
  },
  "language_info": {
   "codemirror_mode": {
    "name": "ipython",
    "version": 3
   },
   "file_extension": ".py",
   "mimetype": "text/x-python",
   "name": "python",
   "nbconvert_exporter": "python",
   "pygments_lexer": "ipython3",
   "version": "3.9.2"
  }
 },
 "nbformat": 4,
 "nbformat_minor": 5
}
