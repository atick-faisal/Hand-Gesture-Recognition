{
 "cells": [
  {
   "cell_type": "code",
   "execution_count": 19,
   "id": "tamil-chrome",
   "metadata": {},
   "outputs": [
    {
     "data": {
      "text/plain": [
       "'2.4.1'"
      ]
     },
     "execution_count": 19,
     "metadata": {},
     "output_type": "execute_result"
    }
   ],
   "source": [
    "import os\n",
    "import cv2\n",
    "import numpy as np\n",
    "import matplotlib.pyplot as plt\n",
    "import tensorflow as tf\n",
    "\n",
    "from sklearn.metrics import classification_report, accuracy_score, confusion_matrix\n",
    "\n",
    "tf.__version__"
   ]
  },
  {
   "cell_type": "code",
   "execution_count": 2,
   "id": "casual-stack",
   "metadata": {},
   "outputs": [],
   "source": [
    "# -------- TEST USER ----------- #\n",
    "\n",
    "TEST_USER      = '001'\n",
    "\n",
    "BASE_DIR       = '../'\n",
    "IMG_DIR        = 'RGB-Spatial-Path-Images/'\n",
    "LOG_DIR        = 'Logs/'\n",
    "\n",
    "USERS          = ['001', '002', '003', '004', '005', '006', '007']\n",
    "\n",
    "# ------------------------------- Only Dynalic Gestures ------------------------------ #\n",
    "GESTURES       = ['j', 'z', 'bad', 'deaf', 'fine', 'good', 'goodbye', 'hello', 'hungry',\n",
    "                  'me', 'no', 'please', 'sorry', 'thankyou', 'yes', 'you']\n",
    "\n",
    "PLANES         = ['XY', 'YZ', 'ZX']\n",
    "\n",
    "BATCH_SIZE     = 32\n",
    "IMG_LEN        = 160\n",
    "IMG_SIZE       = (IMG_LEN, IMG_LEN)\n",
    "\n",
    "# ------------- FOR THE GREATER GOOD :) ------------- #\n",
    "TRAIN_LEN      = 960\n",
    "TEST_LEN       = 160\n",
    "\n",
    "EPOCHS         = 7\n",
    "LEARNING_RATE  = 0.001"
   ]
  },
  {
   "cell_type": "code",
   "execution_count": 3,
   "id": "stylish-banner",
   "metadata": {},
   "outputs": [],
   "source": [
    "def load_data(plane):\n",
    "    X_train = np.zeros((TRAIN_LEN, IMG_LEN, IMG_LEN, 3))\n",
    "    X_test = np.zeros((TEST_LEN, IMG_LEN, IMG_LEN, 3))\n",
    "    y_train = np.zeros((TRAIN_LEN, 1))\n",
    "    y_test = np.zeros((TEST_LEN, 1))\n",
    "    \n",
    "    train_count = 0\n",
    "    test_count = 0\n",
    "        \n",
    "    for gesture in GESTURES:\n",
    "        print('loading data for ' + gesture + ' gesture on the ' + plane + ' plane ... ', end='')\n",
    "        path = os.path.join(BASE_DIR, IMG_DIR, plane, gesture)\n",
    "        for filename in os.listdir(path):\n",
    "            img = cv2.imread(os.path.join(path, filename))\n",
    "            resized = cv2.resize(img, IMG_SIZE)\n",
    "            if filename[1:4] != TEST_USER:\n",
    "                X_train[train_count, :] = resized\n",
    "                y_train[train_count, 0] = GESTURES.index(gesture)\n",
    "                train_count = train_count + 1\n",
    "            else:\n",
    "                X_test[test_count, :] = resized\n",
    "                y_test[test_count, 0] = GESTURES.index(gesture)\n",
    "                test_count = test_count + 1\n",
    "                \n",
    "        print('√')\n",
    "        \n",
    "    return X_train, X_test, y_train, y_test"
   ]
  },
  {
   "cell_type": "code",
   "execution_count": 4,
   "id": "extra-disclosure",
   "metadata": {},
   "outputs": [
    {
     "name": "stdout",
     "output_type": "stream",
     "text": [
      "loading data for j gesture on the XY plane ... √\n",
      "loading data for z gesture on the XY plane ... √\n",
      "loading data for bad gesture on the XY plane ... √\n",
      "loading data for deaf gesture on the XY plane ... √\n",
      "loading data for fine gesture on the XY plane ... √\n",
      "loading data for good gesture on the XY plane ... √\n",
      "loading data for goodbye gesture on the XY plane ... √\n",
      "loading data for hello gesture on the XY plane ... √\n",
      "loading data for hungry gesture on the XY plane ... √\n",
      "loading data for me gesture on the XY plane ... √\n",
      "loading data for no gesture on the XY plane ... √\n",
      "loading data for please gesture on the XY plane ... √\n",
      "loading data for sorry gesture on the XY plane ... √\n",
      "loading data for thankyou gesture on the XY plane ... √\n",
      "loading data for yes gesture on the XY plane ... √\n",
      "loading data for you gesture on the XY plane ... √\n",
      "loading data for j gesture on the YZ plane ... √\n",
      "loading data for z gesture on the YZ plane ... √\n",
      "loading data for bad gesture on the YZ plane ... √\n",
      "loading data for deaf gesture on the YZ plane ... √\n",
      "loading data for fine gesture on the YZ plane ... √\n",
      "loading data for good gesture on the YZ plane ... √\n",
      "loading data for goodbye gesture on the YZ plane ... √\n",
      "loading data for hello gesture on the YZ plane ... √\n",
      "loading data for hungry gesture on the YZ plane ... √\n",
      "loading data for me gesture on the YZ plane ... √\n",
      "loading data for no gesture on the YZ plane ... √\n",
      "loading data for please gesture on the YZ plane ... √\n",
      "loading data for sorry gesture on the YZ plane ... √\n",
      "loading data for thankyou gesture on the YZ plane ... √\n",
      "loading data for yes gesture on the YZ plane ... √\n",
      "loading data for you gesture on the YZ plane ... √\n",
      "loading data for j gesture on the ZX plane ... √\n",
      "loading data for z gesture on the ZX plane ... √\n",
      "loading data for bad gesture on the ZX plane ... √\n",
      "loading data for deaf gesture on the ZX plane ... √\n",
      "loading data for fine gesture on the ZX plane ... √\n",
      "loading data for good gesture on the ZX plane ... √\n",
      "loading data for goodbye gesture on the ZX plane ... √\n",
      "loading data for hello gesture on the ZX plane ... √\n",
      "loading data for hungry gesture on the ZX plane ... √\n",
      "loading data for me gesture on the ZX plane ... √\n",
      "loading data for no gesture on the ZX plane ... √\n",
      "loading data for please gesture on the ZX plane ... √\n",
      "loading data for sorry gesture on the ZX plane ... √\n",
      "loading data for thankyou gesture on the ZX plane ... √\n",
      "loading data for yes gesture on the ZX plane ... √\n",
      "loading data for you gesture on the ZX plane ... √\n"
     ]
    }
   ],
   "source": [
    "X_train_xy, X_test_xy, y_train_xy, y_test_xy = load_data('XY')\n",
    "X_train_yz, X_test_yz, y_train_yz, y_test_yz = load_data('YZ')\n",
    "X_train_zx, X_test_zx, y_train_zx, y_test_zx = load_data('ZX')"
   ]
  },
  {
   "cell_type": "code",
   "execution_count": 5,
   "id": "conditional-advisory",
   "metadata": {},
   "outputs": [],
   "source": [
    "preprocess_input = tf.keras.applications.mobilenet_v2.preprocess_input\n",
    "rescale = tf.keras.layers.experimental.preprocessing.Rescaling(1./127.5, offset= -1)"
   ]
  },
  {
   "cell_type": "code",
   "execution_count": 6,
   "id": "internal-arkansas",
   "metadata": {},
   "outputs": [],
   "source": [
    "IMG_SHAPE = IMG_SIZE + (3,)\n",
    "base_model = tf.keras.applications.MobileNetV2(input_shape=IMG_SHAPE, include_top=False, weights='imagenet')\n",
    "base_model.trainable = False"
   ]
  },
  {
   "cell_type": "code",
   "execution_count": 7,
   "id": "strange-encoding",
   "metadata": {},
   "outputs": [],
   "source": [
    "global_average_layer = tf.keras.layers.GlobalAveragePooling2D()\n",
    "prediction_layer = tf.keras.layers.Dense(len(GESTURES))"
   ]
  },
  {
   "cell_type": "code",
   "execution_count": 8,
   "id": "upper-tobago",
   "metadata": {},
   "outputs": [],
   "source": [
    "def get_model():\n",
    "    inputs = tf.keras.Input(shape=IMG_SHAPE)\n",
    "    x = preprocess_input(inputs)\n",
    "    x = base_model(x, training=False)\n",
    "    x = global_average_layer(x)\n",
    "    x = tf.keras.layers.Dropout(0.2)(x)\n",
    "    outputs = prediction_layer(x)\n",
    "    model = tf.keras.Model(inputs, outputs)\n",
    "    model.compile(optimizer=tf.keras.optimizers.Adam(lr=LEARNING_RATE),\n",
    "              loss=tf.keras.losses.SparseCategoricalCrossentropy(from_logits=True),\n",
    "              metrics=['accuracy'])\n",
    "    return model"
   ]
  },
  {
   "cell_type": "code",
   "execution_count": 9,
   "id": "distinct-appendix",
   "metadata": {
    "scrolled": true
   },
   "outputs": [
    {
     "name": "stdout",
     "output_type": "stream",
     "text": [
      "Epoch 1/7\n",
      "30/30 [==============================] - 12s 334ms/step - loss: 2.8746 - accuracy: 0.1588\n",
      "Epoch 2/7\n",
      "30/30 [==============================] - 10s 333ms/step - loss: 1.5876 - accuracy: 0.5333\n",
      "Epoch 3/7\n",
      "30/30 [==============================] - 10s 330ms/step - loss: 1.1324 - accuracy: 0.6685\n",
      "Epoch 4/7\n",
      "30/30 [==============================] - 10s 333ms/step - loss: 0.8214 - accuracy: 0.8160\n",
      "Epoch 5/7\n",
      "30/30 [==============================] - 10s 334ms/step - loss: 0.6676 - accuracy: 0.8315\n",
      "Epoch 6/7\n",
      "30/30 [==============================] - 10s 328ms/step - loss: 0.5569 - accuracy: 0.8590\n",
      "Epoch 7/7\n",
      "30/30 [==============================] - 10s 328ms/step - loss: 0.4737 - accuracy: 0.8997\n"
     ]
    }
   ],
   "source": [
    "model_xy = get_model()\n",
    "history_xy = model_xy.fit(X_train_xy, y_train_xy, epochs=EPOCHS)"
   ]
  },
  {
   "cell_type": "code",
   "execution_count": 11,
   "id": "constitutional-genre",
   "metadata": {},
   "outputs": [
    {
     "name": "stdout",
     "output_type": "stream",
     "text": [
      "              precision    recall  f1-score   support\n",
      "\n",
      "         0.0       1.00      1.00      1.00        10\n",
      "         1.0       1.00      0.10      0.18        10\n",
      "         2.0       0.67      0.60      0.63        10\n",
      "         3.0       0.77      1.00      0.87        10\n",
      "         4.0       1.00      1.00      1.00        10\n",
      "         5.0       0.82      0.90      0.86        10\n",
      "         6.0       1.00      1.00      1.00        10\n",
      "         7.0       0.59      1.00      0.74        10\n",
      "         8.0       0.90      0.90      0.90        10\n",
      "         9.0       0.77      1.00      0.87        10\n",
      "        10.0       1.00      1.00      1.00        10\n",
      "        11.0       0.25      0.30      0.27        10\n",
      "        12.0       0.12      0.10      0.11        10\n",
      "        13.0       1.00      0.70      0.82        10\n",
      "        14.0       0.90      0.90      0.90        10\n",
      "        15.0       0.67      0.60      0.63        10\n",
      "\n",
      "    accuracy                           0.76       160\n",
      "   macro avg       0.78      0.76      0.74       160\n",
      "weighted avg       0.78      0.76      0.74       160\n",
      "\n"
     ]
    }
   ],
   "source": [
    "prob_xy = tf.keras.Sequential([model_xy, tf.keras.layers.Softmax()])\n",
    "y_pred_xy = prob_xy.predict(X_test_xy)\n",
    "y_pred = np.argmax(y_pred_xy, axis=1)\n",
    "print(classification_report(y_test_xy.ravel(), y_pred, zero_division=0))"
   ]
  },
  {
   "cell_type": "code",
   "execution_count": 12,
   "id": "emotional-chrome",
   "metadata": {},
   "outputs": [
    {
     "name": "stdout",
     "output_type": "stream",
     "text": [
      "Epoch 1/7\n",
      "30/30 [==============================] - 12s 328ms/step - loss: 3.1101 - accuracy: 0.2321\n",
      "Epoch 2/7\n",
      "30/30 [==============================] - 10s 332ms/step - loss: 1.7680 - accuracy: 0.4362\n",
      "Epoch 3/7\n",
      "30/30 [==============================] - 10s 323ms/step - loss: 1.1939 - accuracy: 0.6164\n",
      "Epoch 4/7\n",
      "30/30 [==============================] - 10s 324ms/step - loss: 0.8107 - accuracy: 0.7776\n",
      "Epoch 5/7\n",
      "30/30 [==============================] - 10s 326ms/step - loss: 0.6178 - accuracy: 0.8216\n",
      "Epoch 6/7\n",
      "30/30 [==============================] - 10s 325ms/step - loss: 0.5111 - accuracy: 0.8683\n",
      "Epoch 7/7\n",
      "30/30 [==============================] - 10s 325ms/step - loss: 0.4444 - accuracy: 0.8760\n"
     ]
    }
   ],
   "source": [
    "model_yz = get_model()\n",
    "history_yz = model_yz.fit(X_train_yz, y_train_yz, epochs=EPOCHS)"
   ]
  },
  {
   "cell_type": "code",
   "execution_count": 13,
   "id": "boring-insurance",
   "metadata": {},
   "outputs": [
    {
     "name": "stdout",
     "output_type": "stream",
     "text": [
      "              precision    recall  f1-score   support\n",
      "\n",
      "         0.0       0.00      0.00      0.00        10\n",
      "         1.0       0.50      0.10      0.17        10\n",
      "         2.0       1.00      0.50      0.67        10\n",
      "         3.0       0.53      0.90      0.67        10\n",
      "         4.0       0.50      0.80      0.62        10\n",
      "         5.0       0.67      0.40      0.50        10\n",
      "         6.0       0.73      0.80      0.76        10\n",
      "         7.0       0.53      0.90      0.67        10\n",
      "         8.0       1.00      0.90      0.95        10\n",
      "         9.0       0.77      1.00      0.87        10\n",
      "        10.0       0.77      1.00      0.87        10\n",
      "        11.0       0.40      0.20      0.27        10\n",
      "        12.0       0.33      0.40      0.36        10\n",
      "        13.0       0.62      1.00      0.77        10\n",
      "        14.0       0.71      0.50      0.59        10\n",
      "        15.0       1.00      1.00      1.00        10\n",
      "\n",
      "    accuracy                           0.65       160\n",
      "   macro avg       0.63      0.65      0.61       160\n",
      "weighted avg       0.63      0.65      0.61       160\n",
      "\n"
     ]
    }
   ],
   "source": [
    "prob_yz = tf.keras.Sequential([model_yz, tf.keras.layers.Softmax()])\n",
    "y_pred_yz = prob_yz.predict(X_test_yz)\n",
    "y_pred = np.argmax(y_pred_yz, axis=1)\n",
    "print(classification_report(y_test_yz.ravel(), y_pred, zero_division=0))"
   ]
  },
  {
   "cell_type": "code",
   "execution_count": 14,
   "id": "joint-evaluation",
   "metadata": {},
   "outputs": [
    {
     "name": "stdout",
     "output_type": "stream",
     "text": [
      "Epoch 1/7\n",
      "30/30 [==============================] - 12s 330ms/step - loss: 3.5204 - accuracy: 0.1798\n",
      "Epoch 2/7\n",
      "30/30 [==============================] - 10s 330ms/step - loss: 2.1979 - accuracy: 0.3271\n",
      "Epoch 3/7\n",
      "30/30 [==============================] - 10s 329ms/step - loss: 1.5170 - accuracy: 0.5031\n",
      "Epoch 4/7\n",
      "30/30 [==============================] - 10s 330ms/step - loss: 1.1738 - accuracy: 0.6146\n",
      "Epoch 5/7\n",
      "30/30 [==============================] - 10s 330ms/step - loss: 0.9723 - accuracy: 0.7206\n",
      "Epoch 6/7\n",
      "30/30 [==============================] - 10s 324ms/step - loss: 0.8190 - accuracy: 0.7655\n",
      "Epoch 7/7\n",
      "30/30 [==============================] - 10s 331ms/step - loss: 0.6982 - accuracy: 0.7876\n"
     ]
    }
   ],
   "source": [
    "model_zx = get_model()\n",
    "history_zx = model_zx.fit(X_train_zx, y_train_zx, epochs=EPOCHS)"
   ]
  },
  {
   "cell_type": "code",
   "execution_count": 15,
   "id": "designed-still",
   "metadata": {},
   "outputs": [
    {
     "name": "stdout",
     "output_type": "stream",
     "text": [
      "              precision    recall  f1-score   support\n",
      "\n",
      "         0.0       1.00      0.90      0.95        10\n",
      "         1.0       0.89      0.80      0.84        10\n",
      "         2.0       0.11      0.10      0.11        10\n",
      "         3.0       0.83      1.00      0.91        10\n",
      "         4.0       0.00      0.00      0.00        10\n",
      "         5.0       0.44      0.80      0.57        10\n",
      "         6.0       0.77      1.00      0.87        10\n",
      "         7.0       0.69      0.90      0.78        10\n",
      "         8.0       1.00      0.90      0.95        10\n",
      "         9.0       1.00      0.60      0.75        10\n",
      "        10.0       0.50      1.00      0.67        10\n",
      "        11.0       0.24      0.40      0.30        10\n",
      "        12.0       0.75      0.30      0.43        10\n",
      "        13.0       1.00      1.00      1.00        10\n",
      "        14.0       1.00      0.10      0.18        10\n",
      "        15.0       0.67      0.20      0.31        10\n",
      "\n",
      "    accuracy                           0.62       160\n",
      "   macro avg       0.68      0.62      0.60       160\n",
      "weighted avg       0.68      0.62      0.60       160\n",
      "\n"
     ]
    }
   ],
   "source": [
    "prob_zx = tf.keras.Sequential([model_zx, tf.keras.layers.Softmax()])\n",
    "y_pred_zx = prob_zx.predict(X_test_zx)\n",
    "y_pred = np.argmax(y_pred_zx, axis=1)\n",
    "print(classification_report(y_test_zx.ravel(), y_pred, zero_division=0))"
   ]
  },
  {
   "cell_type": "code",
   "execution_count": 17,
   "id": "selective-geography",
   "metadata": {},
   "outputs": [
    {
     "name": "stdout",
     "output_type": "stream",
     "text": [
      "              precision    recall  f1-score   support\n",
      "\n",
      "         0.0       1.00      1.00      1.00        10\n",
      "         1.0       1.00      0.10      0.18        10\n",
      "         2.0       0.88      0.70      0.78        10\n",
      "         3.0       1.00      1.00      1.00        10\n",
      "         4.0       0.89      0.80      0.84        10\n",
      "         5.0       0.75      0.90      0.82        10\n",
      "         6.0       1.00      1.00      1.00        10\n",
      "         7.0       0.56      1.00      0.71        10\n",
      "         8.0       1.00      1.00      1.00        10\n",
      "         9.0       1.00      1.00      1.00        10\n",
      "        10.0       0.83      1.00      0.91        10\n",
      "        11.0       0.44      0.80      0.57        10\n",
      "        12.0       0.25      0.10      0.14        10\n",
      "        13.0       0.91      1.00      0.95        10\n",
      "        14.0       1.00      0.80      0.89        10\n",
      "        15.0       1.00      0.90      0.95        10\n",
      "\n",
      "    accuracy                           0.82       160\n",
      "   macro avg       0.84      0.82      0.80       160\n",
      "weighted avg       0.84      0.82      0.80       160\n",
      "\n"
     ]
    }
   ],
   "source": [
    "y_total = y_pred_xy * y_pred_yz * y_pred_zx\n",
    "y_pred = np.argmax(y_total, axis=1)\n",
    "report = classification_report(y_test_xy.ravel(), y_pred, zero_division=0)\n",
    "print(report)"
   ]
  },
  {
   "cell_type": "code",
   "execution_count": null,
   "id": "collected-palmer",
   "metadata": {},
   "outputs": [],
   "source": [
    "config = '\\n\\nTEST_USER ' + TEST_USER + '\\n'\n",
    "underline = '=====================================\\n'\n",
    "log_dir = os.path.join(BASE_DIR, LOG_DIR)\n",
    "if not os.path.exists(log_dir):\n",
    "    os.mkdir(log_dir)\n",
    "f = open(os.path.join(log_dir, 'logs_sptl_rgb_v2.txt'), 'a')\n",
    "f.write(config)\n",
    "f.write(underline)\n",
    "f.write(report)\n",
    "f.close()"
   ]
  },
  {
   "cell_type": "code",
   "execution_count": null,
   "id": "behavioral-earth",
   "metadata": {},
   "outputs": [],
   "source": [
    "'''\n",
    "            Spatial Path TL RGB\n",
    "      shapes -> z, colors -> start-end\n",
    "        ----------------------------\n",
    "           USER           ACCURACY\n",
    "           =======================\n",
    "            001              86%\n",
    "            002              82%\n",
    "            003              93%\n",
    "            004              53%\n",
    "            005              76%\n",
    "            006              82%\n",
    "            007              73%\n",
    "\n",
    "'''"
   ]
  },
  {
   "cell_type": "code",
   "execution_count": 20,
   "id": "multiple-belly",
   "metadata": {},
   "outputs": [
    {
     "data": {
      "text/plain": [
       "array([[10,  0,  0,  0,  0,  0,  0,  0,  0,  0,  0,  0,  0,  0,  0,  0],\n",
       "       [ 0,  1,  0,  0,  1,  0,  0,  8,  0,  0,  0,  0,  0,  0,  0,  0],\n",
       "       [ 0,  0,  7,  0,  0,  3,  0,  0,  0,  0,  0,  0,  0,  0,  0,  0],\n",
       "       [ 0,  0,  0, 10,  0,  0,  0,  0,  0,  0,  0,  0,  0,  0,  0,  0],\n",
       "       [ 0,  0,  0,  0,  8,  0,  0,  0,  0,  0,  2,  0,  0,  0,  0,  0],\n",
       "       [ 0,  0,  0,  0,  0,  9,  0,  0,  0,  0,  0,  0,  0,  1,  0,  0],\n",
       "       [ 0,  0,  0,  0,  0,  0, 10,  0,  0,  0,  0,  0,  0,  0,  0,  0],\n",
       "       [ 0,  0,  0,  0,  0,  0,  0, 10,  0,  0,  0,  0,  0,  0,  0,  0],\n",
       "       [ 0,  0,  0,  0,  0,  0,  0,  0, 10,  0,  0,  0,  0,  0,  0,  0],\n",
       "       [ 0,  0,  0,  0,  0,  0,  0,  0,  0, 10,  0,  0,  0,  0,  0,  0],\n",
       "       [ 0,  0,  0,  0,  0,  0,  0,  0,  0,  0, 10,  0,  0,  0,  0,  0],\n",
       "       [ 0,  0,  0,  0,  0,  0,  0,  0,  0,  0,  0,  8,  2,  0,  0,  0],\n",
       "       [ 0,  0,  0,  0,  0,  0,  0,  0,  0,  0,  0,  9,  1,  0,  0,  0],\n",
       "       [ 0,  0,  0,  0,  0,  0,  0,  0,  0,  0,  0,  0,  0, 10,  0,  0],\n",
       "       [ 0,  0,  0,  0,  0,  0,  0,  0,  0,  0,  0,  1,  1,  0,  8,  0],\n",
       "       [ 0,  0,  1,  0,  0,  0,  0,  0,  0,  0,  0,  0,  0,  0,  0,  9]])"
      ]
     },
     "execution_count": 20,
     "metadata": {},
     "output_type": "execute_result"
    }
   ],
   "source": [
    "confusion_matrix(y_test_xy.ravel(), y_pred)"
   ]
  },
  {
   "cell_type": "code",
   "execution_count": null,
   "id": "golden-neighborhood",
   "metadata": {},
   "outputs": [],
   "source": []
  }
 ],
 "metadata": {
  "kernelspec": {
   "display_name": "Python 3",
   "language": "python",
   "name": "python3"
  },
  "language_info": {
   "codemirror_mode": {
    "name": "ipython",
    "version": 3
   },
   "file_extension": ".py",
   "mimetype": "text/x-python",
   "name": "python",
   "nbconvert_exporter": "python",
   "pygments_lexer": "ipython3",
   "version": "3.8.5"
  }
 },
 "nbformat": 4,
 "nbformat_minor": 5
}
