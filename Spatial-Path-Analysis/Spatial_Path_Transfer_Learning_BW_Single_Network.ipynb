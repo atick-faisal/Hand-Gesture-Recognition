{
 "cells": [
  {
   "cell_type": "code",
   "execution_count": 1,
   "id": "tamil-chrome",
   "metadata": {},
   "outputs": [
    {
     "data": {
      "text/plain": [
       "'2.4.1'"
      ]
     },
     "execution_count": 1,
     "metadata": {},
     "output_type": "execute_result"
    }
   ],
   "source": [
    "import os\n",
    "import cv2\n",
    "import numpy as np\n",
    "import matplotlib.pyplot as plt\n",
    "import tensorflow as tf\n",
    "from tensorflow.keras.models import Sequential\n",
    "from tensorflow.keras.layers import Conv2D, Dense, Dropout, Flatten\n",
    "\n",
    "from sklearn.metrics import classification_report, accuracy_score\n",
    "\n",
    "tf.__version__"
   ]
  },
  {
   "cell_type": "code",
   "execution_count": 2,
   "id": "casual-stack",
   "metadata": {},
   "outputs": [],
   "source": [
    "# -------- TEST USER ----------- #\n",
    "\n",
    "TEST_USER      = '001'\n",
    "\n",
    "BASE_DIR       = '../'\n",
    "IMG_DIR        = 'BW-Spatial-Path-Images/'\n",
    "LOG_DIR        = 'Logs/'\n",
    "\n",
    "USERS          = ['001', '002', '003', '004', '005', '006', '007']\n",
    "\n",
    "# ------------------------------- Only Dynalic Gestures ------------------------------ #\n",
    "GESTURES       = ['j', 'z', 'bad', 'deaf', 'fine', 'good', 'goodbye', 'hello', 'hungry',\n",
    "                  'me', 'no', 'please', 'sorry', 'thankyou', 'yes', 'you']\n",
    "\n",
    "PLANES         = ['XY', 'YZ', 'ZX']\n",
    "\n",
    "BATCH_SIZE     = 32\n",
    "IMG_LEN        = 32\n",
    "IMG_SIZE       = (IMG_LEN, IMG_LEN)\n",
    "\n",
    "# ------------- FOR THE GREATER GOOD :) ------------- #\n",
    "TRAIN_LEN      = 960\n",
    "TEST_LEN       = 160\n",
    "\n",
    "EPOCHS         = 16\n",
    "LEARNING_RATE  = 0.001"
   ]
  },
  {
   "cell_type": "code",
   "execution_count": 3,
   "id": "stylish-banner",
   "metadata": {},
   "outputs": [],
   "source": [
    "def load_data(plane):\n",
    "    X_train = np.zeros((TRAIN_LEN, IMG_LEN, IMG_LEN, 3))\n",
    "    X_test = np.zeros((TEST_LEN, IMG_LEN, IMG_LEN, 3))\n",
    "    y_train = np.zeros((TRAIN_LEN, 1))\n",
    "    y_test = np.zeros((TEST_LEN, 1))\n",
    "    \n",
    "    train_count = 0\n",
    "    test_count = 0\n",
    "        \n",
    "    for gesture in GESTURES:\n",
    "        print('loading data for ' + gesture + ' gesture on the ' + plane + ' plane ... ', end='')\n",
    "        path = os.path.join(BASE_DIR, IMG_DIR, plane, gesture)\n",
    "        for filename in os.listdir(path):\n",
    "            img = cv2.imread(os.path.join(path, filename))\n",
    "            resized = cv2.resize(img, IMG_SIZE)\n",
    "            if filename[1:4] != TEST_USER:\n",
    "                X_train[train_count, :] = resized\n",
    "                y_train[train_count, 0] = GESTURES.index(gesture)\n",
    "                train_count = train_count + 1\n",
    "            else:\n",
    "                X_test[test_count, :] = resized\n",
    "                y_test[test_count, 0] = GESTURES.index(gesture)\n",
    "                test_count = test_count + 1\n",
    "                \n",
    "        print('√')\n",
    "        \n",
    "    return X_train, X_test, y_train, y_test"
   ]
  },
  {
   "cell_type": "code",
   "execution_count": 4,
   "id": "extra-disclosure",
   "metadata": {},
   "outputs": [
    {
     "name": "stdout",
     "output_type": "stream",
     "text": [
      "loading data for j gesture on the XY plane ... √\n",
      "loading data for z gesture on the XY plane ... √\n",
      "loading data for bad gesture on the XY plane ... √\n",
      "loading data for deaf gesture on the XY plane ... √\n",
      "loading data for fine gesture on the XY plane ... √\n",
      "loading data for good gesture on the XY plane ... √\n",
      "loading data for goodbye gesture on the XY plane ... √\n",
      "loading data for hello gesture on the XY plane ... √\n",
      "loading data for hungry gesture on the XY plane ... √\n",
      "loading data for me gesture on the XY plane ... √\n",
      "loading data for no gesture on the XY plane ... √\n",
      "loading data for please gesture on the XY plane ... √\n",
      "loading data for sorry gesture on the XY plane ... √\n",
      "loading data for thankyou gesture on the XY plane ... √\n",
      "loading data for yes gesture on the XY plane ... √\n",
      "loading data for you gesture on the XY plane ... √\n",
      "loading data for j gesture on the YZ plane ... √\n",
      "loading data for z gesture on the YZ plane ... √\n",
      "loading data for bad gesture on the YZ plane ... √\n",
      "loading data for deaf gesture on the YZ plane ... √\n",
      "loading data for fine gesture on the YZ plane ... √\n",
      "loading data for good gesture on the YZ plane ... √\n",
      "loading data for goodbye gesture on the YZ plane ... √\n",
      "loading data for hello gesture on the YZ plane ... √\n",
      "loading data for hungry gesture on the YZ plane ... √\n",
      "loading data for me gesture on the YZ plane ... √\n",
      "loading data for no gesture on the YZ plane ... √\n",
      "loading data for please gesture on the YZ plane ... √\n",
      "loading data for sorry gesture on the YZ plane ... √\n",
      "loading data for thankyou gesture on the YZ plane ... √\n",
      "loading data for yes gesture on the YZ plane ... √\n",
      "loading data for you gesture on the YZ plane ... √\n",
      "loading data for j gesture on the ZX plane ... √\n",
      "loading data for z gesture on the ZX plane ... √\n",
      "loading data for bad gesture on the ZX plane ... √\n",
      "loading data for deaf gesture on the ZX plane ... √\n",
      "loading data for fine gesture on the ZX plane ... √\n",
      "loading data for good gesture on the ZX plane ... √\n",
      "loading data for goodbye gesture on the ZX plane ... √\n",
      "loading data for hello gesture on the ZX plane ... √\n",
      "loading data for hungry gesture on the ZX plane ... √\n",
      "loading data for me gesture on the ZX plane ... √\n",
      "loading data for no gesture on the ZX plane ... √\n",
      "loading data for please gesture on the ZX plane ... √\n",
      "loading data for sorry gesture on the ZX plane ... √\n",
      "loading data for thankyou gesture on the ZX plane ... √\n",
      "loading data for yes gesture on the ZX plane ... √\n",
      "loading data for you gesture on the ZX plane ... √\n"
     ]
    }
   ],
   "source": [
    "X_train_xy, X_test_xy, y_train_xy, y_test_xy = load_data('XY')\n",
    "X_train_yz, X_test_yz, y_train_yz, y_test_yz = load_data('YZ')\n",
    "X_train_zx, X_test_zx, y_train_zx, y_test_zx = load_data('ZX')"
   ]
  },
  {
   "cell_type": "code",
   "execution_count": 5,
   "id": "ultimate-grove",
   "metadata": {},
   "outputs": [],
   "source": [
    "X_train = np.stack([X_train_xy[:, :, :, 0], X_train_yz[:, :, :, 0], X_train_zx[:, :, :, 0]], axis=3)\n",
    "X_test = np.stack([X_test_xy[:, :, :, 0], X_test_yz[:, :, :, 0], X_test_zx[:, :, :, 0]], axis=3)\n",
    "y_train = y_train_xy\n",
    "y_test = y_test_xy"
   ]
  },
  {
   "cell_type": "code",
   "execution_count": 6,
   "id": "upper-tobago",
   "metadata": {},
   "outputs": [],
   "source": [
    "model = Sequential()\n",
    "model.add(Conv2D(32, kernel_size=(3,3), input_shape=(32, 32, 3), activation='relu'))\n",
    "model.add(Dropout(0.2))\n",
    "\n",
    "model.add(Conv2D(32, kernel_size=(3,3), activation='relu'))\n",
    "model.add(Dropout(0.2))\n",
    "\n",
    "model.add(Flatten())\n",
    "model.add(Dense(128, activation='relu'))\n",
    "model.add(Dropout(0.2))\n",
    "\n",
    "model.add(Dense(16, activation='softmax'))"
   ]
  },
  {
   "cell_type": "code",
   "execution_count": 7,
   "id": "distinct-appendix",
   "metadata": {
    "scrolled": true
   },
   "outputs": [
    {
     "name": "stdout",
     "output_type": "stream",
     "text": [
      "Epoch 1/16\n",
      "30/30 [==============================] - 3s 72ms/step - loss: 246.0351 - accuracy: 0.0833\n",
      "Epoch 2/16\n",
      "30/30 [==============================] - 2s 68ms/step - loss: 2.7611 - accuracy: 0.1180\n",
      "Epoch 3/16\n",
      "30/30 [==============================] - 2s 67ms/step - loss: 2.6643 - accuracy: 0.1587\n",
      "Epoch 4/16\n",
      "30/30 [==============================] - 2s 70ms/step - loss: 2.5633 - accuracy: 0.1857\n",
      "Epoch 5/16\n",
      "30/30 [==============================] - 2s 68ms/step - loss: 2.2426 - accuracy: 0.3207\n",
      "Epoch 6/16\n",
      "30/30 [==============================] - 2s 68ms/step - loss: 1.8495 - accuracy: 0.4650\n",
      "Epoch 7/16\n",
      "30/30 [==============================] - 2s 69ms/step - loss: 1.3601 - accuracy: 0.5940\n",
      "Epoch 8/16\n",
      "30/30 [==============================] - 2s 68ms/step - loss: 1.1684 - accuracy: 0.6580\n",
      "Epoch 9/16\n",
      "30/30 [==============================] - 2s 73ms/step - loss: 0.7578 - accuracy: 0.7799\n",
      "Epoch 10/16\n",
      "30/30 [==============================] - 2s 69ms/step - loss: 0.5634 - accuracy: 0.8429\n",
      "Epoch 11/16\n",
      "30/30 [==============================] - 2s 70ms/step - loss: 0.4386 - accuracy: 0.8537\n",
      "Epoch 12/16\n",
      "30/30 [==============================] - 2s 73ms/step - loss: 0.3522 - accuracy: 0.8886\n",
      "Epoch 13/16\n",
      "30/30 [==============================] - 2s 71ms/step - loss: 0.3163 - accuracy: 0.9023\n",
      "Epoch 14/16\n",
      "30/30 [==============================] - 2s 74ms/step - loss: 0.2430 - accuracy: 0.9233\n",
      "Epoch 15/16\n",
      "30/30 [==============================] - 2s 74ms/step - loss: 0.1663 - accuracy: 0.9557\n",
      "Epoch 16/16\n",
      "30/30 [==============================] - 2s 71ms/step - loss: 0.1479 - accuracy: 0.9552\n"
     ]
    }
   ],
   "source": [
    "opt = tf.keras.optimizers.Adam(lr=LEARNING_RATE, decay=1e-5)\n",
    "loss = tf.keras.losses.SparseCategoricalCrossentropy()\n",
    "model.compile(\n",
    "    optimizer=opt,\n",
    "    loss=loss,\n",
    "    metrics=['accuracy']\n",
    ")\n",
    "history = model.fit(X_train, y_train, epochs=EPOCHS)"
   ]
  },
  {
   "cell_type": "code",
   "execution_count": 8,
   "id": "constitutional-genre",
   "metadata": {},
   "outputs": [
    {
     "name": "stdout",
     "output_type": "stream",
     "text": [
      "              precision    recall  f1-score   support\n",
      "\n",
      "         0.0       0.80      0.80      0.80        10\n",
      "         1.0       0.58      0.70      0.64        10\n",
      "         2.0       0.67      0.20      0.31        10\n",
      "         3.0       0.60      0.60      0.60        10\n",
      "         4.0       0.78      0.70      0.74        10\n",
      "         5.0       0.67      0.40      0.50        10\n",
      "         6.0       1.00      0.40      0.57        10\n",
      "         7.0       0.60      0.60      0.60        10\n",
      "         8.0       0.48      1.00      0.65        10\n",
      "         9.0       0.56      0.50      0.53        10\n",
      "        10.0       0.53      1.00      0.69        10\n",
      "        11.0       0.17      0.20      0.18        10\n",
      "        12.0       0.00      0.00      0.00        10\n",
      "        13.0       0.12      0.10      0.11        10\n",
      "        14.0       0.00      0.00      0.00        10\n",
      "        15.0       0.36      0.50      0.42        10\n",
      "\n",
      "    accuracy                           0.48       160\n",
      "   macro avg       0.49      0.48      0.46       160\n",
      "weighted avg       0.49      0.48      0.46       160\n",
      "\n"
     ]
    }
   ],
   "source": [
    "y_pred_hot = model.predict(X_test)\n",
    "y_pred = np.argmax(y_pred_hot, axis=1)\n",
    "print(classification_report(y_test.ravel(), y_pred))"
   ]
  },
  {
   "cell_type": "code",
   "execution_count": null,
   "id": "needed-house",
   "metadata": {},
   "outputs": [],
   "source": []
  }
 ],
 "metadata": {
  "kernelspec": {
   "display_name": "Python 3",
   "language": "python",
   "name": "python3"
  },
  "language_info": {
   "codemirror_mode": {
    "name": "ipython",
    "version": 3
   },
   "file_extension": ".py",
   "mimetype": "text/x-python",
   "name": "python",
   "nbconvert_exporter": "python",
   "pygments_lexer": "ipython3",
   "version": "3.8.5"
  }
 },
 "nbformat": 4,
 "nbformat_minor": 5
}
