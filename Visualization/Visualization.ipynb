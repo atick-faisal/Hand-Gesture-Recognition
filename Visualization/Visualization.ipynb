{
  "nbformat": 4,
  "nbformat_minor": 0,
  "metadata": {
    "interpreter": {
      "hash": "b9e8b413bd195f698761fbb7f1cc8940f40efdff75a04973931ad61a6fc56074"
    },
    "kernelspec": {
      "display_name": "Python 3.8.8 64-bit ('base': conda)",
      "name": "python3"
    },
    "language_info": {
      "codemirror_mode": {
        "name": "ipython",
        "version": 3
      },
      "file_extension": ".py",
      "mimetype": "text/x-python",
      "name": "python",
      "nbconvert_exporter": "python",
      "pygments_lexer": "ipython3",
      "version": "3.8.8"
    },
    "orig_nbformat": 4,
    "colab": {
      "name": "Visualization.ipynb",
      "provenance": [],
      "include_colab_link": true
    }
  },
  "cells": [
    {
      "cell_type": "markdown",
      "metadata": {
        "id": "view-in-github",
        "colab_type": "text"
      },
      "source": [
        "<a href=\"https://colab.research.google.com/github/atick-faisal/Hand-Gesture-Recognition/blob/main/Visualization/Visualization.ipynb\" target=\"_parent\"><img src=\"https://colab.research.google.com/assets/colab-badge.svg\" alt=\"Open In Colab\"/></a>"
      ]
    },
    {
      "cell_type": "code",
      "metadata": {
        "id": "h7Jp-E-tqGVO"
      },
      "source": [
        "import os\n",
        "import time\n",
        "import joblib\n",
        "import shutil\n",
        "import tarfile\n",
        "import requests\n",
        "\n",
        "import numpy as np\n",
        "import pandas as pd\n",
        "import tensorflow as tf\n",
        "import matplotlib.pyplot as plt\n",
        "import seaborn as sns\n",
        "\n",
        "from scipy.signal import butter, lfilter\n",
        "\n",
        "from tensorflow.keras.models import Model\n",
        "from tensorflow.keras.models import Sequential\n",
        "from tensorflow.keras.layers import Input\n",
        "from tensorflow.keras.layers import Dense\n",
        "from tensorflow.keras.layers import Flatten\n",
        "from tensorflow.keras.layers import Dropout\n",
        "from tensorflow.keras.layers import BatchNormalization\n",
        "from tensorflow.keras.layers import Conv1D\n",
        "from tensorflow.keras.layers import MaxPooling1D\n",
        "from tensorflow.keras.layers import concatenate\n",
        "from tensorflow.keras.utils import to_categorical\n",
        "\n",
        "from sklearn.utils import shuffle\n",
        "from sklearn.metrics import classification_report, accuracy_score\n",
        "\n",
        "sns.set(font_scale=2)\n",
        "sns.set_style('white')"
      ],
      "execution_count": 4,
      "outputs": []
    },
    {
      "cell_type": "code",
      "metadata": {
        "id": "4RHVNpsCq1MD"
      },
      "source": [
        "\n",
        "DATASET_ID      = '1p0CSRb9gax0sKqdyzOYVt-BXvZ4GtrBv'\n",
        "\n",
        "# -------------BASE DIR (MODIFY THIS TO YOUR NEED) ------------ #\n",
        "# BASE_DIR        = '../'\n",
        "BASE_DIR        = '/content'\n",
        "\n",
        "DATA_DIR        = 'Sensor-Data/'\n",
        "CHANNELS_DIR    = 'Channels/'\n",
        "FEATURES_DIR    = 'Features/'\n",
        "FIGURE_DIR      = 'Figures/'\n",
        "LOG_DIR         = 'Logs/'\n",
        "\n",
        "USERS           = ['001', '002', '003', '004', '005', '006', '007', '008', '009',\n",
        "                   '010', '011', '012', '013', '014', '015', '016', '017', '018',\n",
        "                   '019', '020', '021', '022', '023', '024', '025']\n",
        "GESTURES        = ['j', 'z', 'bad', 'deaf', 'fine', 'good', 'goodbye', 'hello', 'hungry',\n",
        "                   'me', 'no', 'please', 'sorry', 'thankyou', 'yes', 'you']\n",
        "\n",
        "WINDOW_LEN      = 150\n",
        "\n",
        "# ------------- FOR THE GREATER GOOD :) ------------- #\n",
        "DATASET_LEN     = 1120\n",
        "TRAIN_LEN       = 960\n",
        "TEST_LEN        = 160\n",
        "\n",
        "TEST_USER       = '001'\n",
        "EPOCHS          = 5\n",
        "\n",
        "CHANNELS_GROUP  = 'DYNAMIC_ACC_ONLY_'\n",
        "CUT_OFF         = 3.0\n",
        "ORDER           = 4\n",
        "FS              = 100\n",
        "\n",
        "CONFIG          = \"Rolling median filter for flex, LPF for IMU, Stacked CNN, epochs 20, lr 0.001\\n\""
      ],
      "execution_count": 5,
      "outputs": []
    },
    {
      "cell_type": "code",
      "metadata": {
        "id": "4cmtAmlesLFK"
      },
      "source": [
        "\n",
        "#--------------------- Download util for Google Drive ------------------- #\n",
        "\n",
        "def download_file_from_google_drive(id, destination):\n",
        "    URL = \"https://docs.google.com/uc?export=download\"\n",
        "\n",
        "    session = requests.Session()\n",
        "\n",
        "    response = session.get(URL, params = { 'id' : id }, stream = True)\n",
        "    token = get_confirm_token(response)\n",
        "\n",
        "    if token:\n",
        "        params = { 'id' : id, 'confirm' : token }\n",
        "        response = session.get(URL, params = params, stream = True)\n",
        "        \n",
        "    save_response_content(response, destination)    \n",
        "\n",
        "def get_confirm_token(response):\n",
        "    for key, value in response.cookies.items():\n",
        "        if key.startswith('download_warning'):\n",
        "            return value\n",
        "        \n",
        "    return None\n",
        "\n",
        "def save_response_content(response, destination):\n",
        "    CHUNK_SIZE = 32768\n",
        "\n",
        "    with open(destination, \"wb\") as f:\n",
        "        for chunk in response.iter_content(CHUNK_SIZE):\n",
        "            if chunk:\n",
        "                f.write(chunk)\n",
        "\n",
        "def download_data(fid, destination):\n",
        "    print('cleaning already existing files ... ', end='')\n",
        "    try:\n",
        "        shutil.rmtree(destination)\n",
        "        print('√')\n",
        "    except:\n",
        "        print('✕')\n",
        "        \n",
        "    print('creating data directory ... ', end='')\n",
        "    os.mkdir(destination)\n",
        "    print('√')\n",
        "    \n",
        "    print('downloading dataset from the repository ... ', end='')\n",
        "    filename = os.path.join(destination, 'dataset.tar.xz')\n",
        "    try:\n",
        "        download_file_from_google_drive(fid, filename)\n",
        "        print('√')\n",
        "    except:\n",
        "        print('✕')\n",
        "        \n",
        "    print('extracting the dataset ... ', end='')\n",
        "    try:\n",
        "        tar = tarfile.open(filename)\n",
        "        tar.extractall(destination)\n",
        "        tar.close()\n",
        "        print('√')\n",
        "    except:\n",
        "        print('✕')"
      ],
      "execution_count": 6,
      "outputs": []
    },
    {
      "cell_type": "code",
      "metadata": {
        "id": "zjhmdJZ4sV0-",
        "colab": {
          "base_uri": "https://localhost:8080/"
        },
        "outputId": "b75d38ed-6f5a-4679-a9d4-a1226c96f8fc"
      },
      "source": [
        "\n",
        "# ------- Comment This if already downloaded -------- #\n",
        "\n",
        "destination = os.path.join(BASE_DIR, DATA_DIR)\n",
        "download_data(DATASET_ID, destination)"
      ],
      "execution_count": 7,
      "outputs": [
        {
          "output_type": "stream",
          "name": "stdout",
          "text": [
            "cleaning already existing files ... ✕\n",
            "creating data directory ... √\n",
            "downloading dataset from the repository ... √\n",
            "extracting the dataset ... √\n"
          ]
        }
      ]
    },
    {
      "cell_type": "code",
      "metadata": {
        "id": "FYwwxz-qtB8j"
      },
      "source": [
        "class LowPassFilter(object): \n",
        "    def butter_lowpass(cutoff, fs, order):\n",
        "        nyq = 0.5 * fs\n",
        "        normal_cutoff = cutoff / nyq\n",
        "        b, a = butter(order, normal_cutoff, btype='low', analog=False)\n",
        "        return b, a\n",
        "\n",
        "    def apply(data, cutoff=CUT_OFF, fs=FS, order=ORDER):\n",
        "        b, a = LowPassFilter.butter_lowpass(cutoff, fs, order=order)\n",
        "        y = lfilter(b, a, data)\n",
        "        return y"
      ],
      "execution_count": 8,
      "outputs": []
    },
    {
      "cell_type": "code",
      "metadata": {
        "id": "KTQMZeCarNeJ"
      },
      "source": [
        "def clean_dir(path):\n",
        "    print('cleaning already existing files ... ', end='')\n",
        "    try:\n",
        "        shutil.rmtree(path)\n",
        "        print('√')\n",
        "    except:\n",
        "        print('✕')\n",
        "    \n",
        "    print('creating ' + path + ' directory ... ', end='')\n",
        "    os.mkdir(path)\n",
        "    print('√')\n",
        "\n",
        "def extract_channels():\n",
        "    channels_dir = os.path.join(BASE_DIR, CHANNELS_DIR)\n",
        "    clean_dir(channels_dir)\n",
        "        \n",
        "    for user in USERS:\n",
        "        print('Processing data for user ' + user, end=' ')\n",
        "        \n",
        "        X = []\n",
        "        y = []\n",
        "        first_time = True\n",
        "        \n",
        "        for gesture in GESTURES:\n",
        "              \n",
        "            user_dir = os.path.join(BASE_DIR, DATA_DIR, user)\n",
        "            gesture_dir = os.path.join(user_dir, gesture + '.csv')\n",
        "\n",
        "            dataset = pd.read_csv(gesture_dir)\n",
        "\n",
        "            dataset['flex_1'] = dataset['flex_1'].rolling(3).median()\n",
        "            dataset['flex_2'] = dataset['flex_2'].rolling(3).median()\n",
        "            dataset['flex_3'] = dataset['flex_3'].rolling(3).median()\n",
        "            dataset['flex_4'] = dataset['flex_4'].rolling(3).median()\n",
        "            dataset['flex_5'] = dataset['flex_5'].rolling(3).median()\n",
        "\n",
        "            dataset.fillna(0, inplace=True)\n",
        "\n",
        "            # flex = ['flex_1', 'flex_2', 'flex_3', 'flex_4', 'flex_5']\n",
        "            # max_flex = dataset[flex].max(axis=1)\n",
        "            # max_flex.replace(0, 1, inplace=True)\n",
        "            # dataset[flex] = dataset[flex].divide(max_flex, axis=0)\n",
        "            \n",
        "            flx1 = dataset['flex_1'].to_numpy().reshape(-1, WINDOW_LEN)\n",
        "            flx2 = dataset['flex_2'].to_numpy().reshape(-1, WINDOW_LEN)\n",
        "            flx3 = dataset['flex_3'].to_numpy().reshape(-1, WINDOW_LEN)\n",
        "            flx4 = dataset['flex_4'].to_numpy().reshape(-1, WINDOW_LEN)\n",
        "            flx5 = dataset['flex_5'].to_numpy().reshape(-1, WINDOW_LEN)\n",
        "            \n",
        "            accx = dataset['ACCx'].to_numpy()\n",
        "            accy = dataset['ACCy'].to_numpy()\n",
        "            accz = dataset['ACCz'].to_numpy()\n",
        "            \n",
        "            accx = LowPassFilter.apply(accx).reshape(-1, WINDOW_LEN)\n",
        "            accy = LowPassFilter.apply(accy).reshape(-1, WINDOW_LEN)\n",
        "            accz = LowPassFilter.apply(accz).reshape(-1, WINDOW_LEN)\n",
        "            \n",
        "            gyrx = dataset['GYRx'].to_numpy()\n",
        "            gyry = dataset['GYRy'].to_numpy()\n",
        "            gyrz = dataset['GYRz'].to_numpy()\n",
        "            \n",
        "            gyrx = LowPassFilter.apply(gyrx).reshape(-1, WINDOW_LEN)\n",
        "            gyry = LowPassFilter.apply(gyry).reshape(-1, WINDOW_LEN)\n",
        "            gyrz = LowPassFilter.apply(gyrz).reshape(-1, WINDOW_LEN)\n",
        "            \n",
        "            accm = np.sqrt(accx ** 2 + accy ** 2 + accz ** 2)\n",
        "            gyrm = np.sqrt(gyrx ** 2 + gyry ** 2 + gyrz ** 2)\n",
        "            \n",
        "            g_idx = GESTURES.index(gesture)\n",
        "            labels = np.ones((accx.shape[0], 1)) * g_idx\n",
        "            \n",
        "            channels = np.stack([\n",
        "                flx1, flx2, flx3, flx4, flx5,\n",
        "                accx, accy, accz\n",
        "            ], axis=-1)\n",
        "            \n",
        "            if first_time == True:\n",
        "                X = channels\n",
        "                y = labels\n",
        "                first_time = False\n",
        "            else:\n",
        "                X = np.append(X, channels, axis=0)\n",
        "                y = np.append(y, labels, axis=0)\n",
        "            \n",
        "        \n",
        "        x_path = os.path.join(BASE_DIR, CHANNELS_DIR, CHANNELS_GROUP + user + '_X.joblib')\n",
        "        y_path = os.path.join(BASE_DIR, CHANNELS_DIR, CHANNELS_GROUP + user + '_y.joblib')\n",
        "        joblib.dump(X, x_path)\n",
        "        joblib.dump(y, y_path)\n",
        "        \n",
        "        print('√')\n",
        "        "
      ],
      "execution_count": 9,
      "outputs": []
    },
    {
      "cell_type": "code",
      "metadata": {
        "id": "Aq2WgdyPrSxe",
        "colab": {
          "base_uri": "https://localhost:8080/"
        },
        "outputId": "e1a2f16a-efc5-453a-9fc5-4aab4155f79f"
      },
      "source": [
        "extract_channels()"
      ],
      "execution_count": 10,
      "outputs": [
        {
          "output_type": "stream",
          "name": "stdout",
          "text": [
            "cleaning already existing files ... ✕\n",
            "creating /content/Channels/ directory ... √\n",
            "Processing data for user 001 √\n",
            "Processing data for user 002 √\n",
            "Processing data for user 003 √\n",
            "Processing data for user 004 √\n",
            "Processing data for user 005 √\n",
            "Processing data for user 006 √\n",
            "Processing data for user 007 √\n",
            "Processing data for user 008 √\n",
            "Processing data for user 009 √\n",
            "Processing data for user 010 √\n",
            "Processing data for user 011 √\n",
            "Processing data for user 012 √\n",
            "Processing data for user 013 √\n",
            "Processing data for user 014 √\n",
            "Processing data for user 015 √\n",
            "Processing data for user 016 √\n",
            "Processing data for user 017 √\n",
            "Processing data for user 018 √\n",
            "Processing data for user 019 √\n",
            "Processing data for user 020 √\n",
            "Processing data for user 021 √\n",
            "Processing data for user 022 √\n",
            "Processing data for user 023 √\n",
            "Processing data for user 024 √\n",
            "Processing data for user 025 √\n"
          ]
        }
      ]
    },
    {
      "cell_type": "code",
      "metadata": {
        "id": "Il1Pg-jArV1L"
      },
      "source": [
        "def get_model(input_shape = (150, 8)):\n",
        "\n",
        "    optimizer = tf.keras.optimizers.Adam(0.0001)\n",
        "\n",
        "    model = Sequential()\n",
        "    model.add(BatchNormalization(input_shape=input_shape))\n",
        "    model.add(Conv1D(filters=64, kernel_size=3, activation='relu'))\n",
        "    model.add(Conv1D(filters=64, kernel_size=3, activation='relu'))\n",
        "    model.add(Dropout(0.5))\n",
        "    model.add(MaxPooling1D(pool_size=2))\n",
        "    model.add(Flatten())\n",
        "    model.add(Dense(100, activation='relu'))\n",
        "    model.add(Dropout(0.5))\n",
        "    model.add(Dense(len(GESTURES), activation='softmax'))\n",
        "    model.compile(\n",
        "        loss='categorical_crossentropy',\n",
        "        optimizer=optimizer,\n",
        "        metrics=['accuracy']\n",
        "    )\n",
        "    \n",
        "    return model"
      ],
      "execution_count": 11,
      "outputs": []
    },
    {
      "cell_type": "code",
      "metadata": {
        "id": "2GXcUKZk4W2y"
      },
      "source": [
        "def get_conv_block():\n",
        "    input = Input(shape=(150, 1))\n",
        "    x = BatchNormalization()(input)\n",
        "    x = Conv1D(filters=8, kernel_size=3, activation='selu', padding='valid')(x)\n",
        "    x = Conv1D(filters=16, kernel_size=3, activation='selu', padding='valid')(x)\n",
        "    x = MaxPooling1D(2)(x)\n",
        "    x = Conv1D(filters=16, kernel_size=3, activation='selu', padding='valid')(x)\n",
        "    x = Conv1D(filters=16, kernel_size=3, activation='selu', padding='valid')(x)\n",
        "    x = MaxPooling1D(2)(x)\n",
        "    x = Flatten()(x)\n",
        "    x = Dense(50, activation='elu')(x)\n",
        "\n",
        "    return input, x\n",
        "\n",
        "def get_stacked_model(n=8):\n",
        "    inputs = []\n",
        "    CNNs = []\n",
        "\n",
        "    for i in range(n):\n",
        "        input_i, CNN_i = get_conv_block()\n",
        "        inputs.append(input_i)\n",
        "        CNNs.append(CNN_i)\n",
        "\n",
        "    x = concatenate(CNNs, axis=-1)\n",
        "    x = Dropout(0.5)(x)\n",
        "    x = Dense(100, activation='selu')(x)\n",
        "    x = Dropout(0.5)(x)\n",
        "    # x = Dense(20, activation='selu')(x)\n",
        "    # x = Dropout(0.5)(x)\n",
        "    output = Dense(len(GESTURES), activation='sigmoid')(x)\n",
        "    model = Model(inputs, output)\n",
        "    opt = tf.keras.optimizers.Adam(learning_rate=0.001)\n",
        "    model.compile(loss='categorical_crossentropy', optimizer=opt, metrics=['accuracy'])\n",
        "    return model"
      ],
      "execution_count": 12,
      "outputs": []
    },
    {
      "cell_type": "code",
      "metadata": {
        "id": "QNgn8_CFjit4"
      },
      "source": [
        "user = '001'\n",
        "\n",
        "x_path = os.path.join(BASE_DIR, CHANNELS_DIR, CHANNELS_GROUP + user + '_X.joblib')\n",
        "y_path = os.path.join(BASE_DIR, CHANNELS_DIR, CHANNELS_GROUP + user + '_y.joblib')\n",
        "X = joblib.load(x_path)\n",
        "y = joblib.load(y_path)\n"
      ],
      "execution_count": 14,
      "outputs": []
    },
    {
      "cell_type": "code",
      "metadata": {
        "id": "QIi752Oxjv89",
        "outputId": "63d73fac-6bc0-4420-a3fd-200c302954e6",
        "colab": {
          "base_uri": "https://localhost:8080/"
        }
      },
      "source": [
        "X.shape"
      ],
      "execution_count": 16,
      "outputs": [
        {
          "output_type": "execute_result",
          "data": {
            "text/plain": [
              "(160, 150, 8)"
            ]
          },
          "metadata": {},
          "execution_count": 16
        }
      ]
    },
    {
      "cell_type": "code",
      "metadata": {
        "id": "vIJ2F3yukXUI",
        "outputId": "fd8135da-1373-4371-a00f-859aa49c2c3a",
        "colab": {
          "base_uri": "https://localhost:8080/",
          "height": 298
        }
      },
      "source": [
        "plt.plot(X[10, :, 5], linewidth=5)"
      ],
      "execution_count": 28,
      "outputs": [
        {
          "output_type": "execute_result",
          "data": {
            "text/plain": [
              "[<matplotlib.lines.Line2D at 0x7fd0caae07d0>]"
            ]
          },
          "metadata": {},
          "execution_count": 28
        },
        {
          "output_type": "display_data",
          "data": {
            "image/png": "[encoded data removed]",
            "text/plain": [
              "<Figure size 432x288 with 1 Axes>"
            ]
          },
          "metadata": {}
        }
      ]
    },
    {
      "cell_type": "code",
      "metadata": {
        "id": "8wQAouXmkseG"
      },
      "source": [
        "model = get_stacked_model()"
      ],
      "execution_count": 31,
      "outputs": []
    },
    {
      "cell_type": "code",
      "metadata": {
        "id": "jUNBEKBFuY0_",
        "outputId": "6a8b9823-691e-4781-b035-7ee8190daaf3",
        "colab": {
          "base_uri": "https://localhost:8080/"
        }
      },
      "source": [
        "model.summary()"
      ],
      "execution_count": 32,
      "outputs": [
        {
          "output_type": "stream",
          "name": "stdout",
          "text": [
            "Model: \"model\"\n",
            "__________________________________________________________________________________________________\n",
            "Layer (type)                    Output Shape         Param #     Connected to                     \n",
            "==================================================================================================\n",
            "input_1 (InputLayer)            [(None, 150, 1)]     0                                            \n",
            "__________________________________________________________________________________________________\n",
            "input_2 (InputLayer)            [(None, 150, 1)]     0                                            \n",
            "__________________________________________________________________________________________________\n",
            "input_3 (InputLayer)            [(None, 150, 1)]     0                                            \n",
            "__________________________________________________________________________________________________\n",
            "input_4 (InputLayer)            [(None, 150, 1)]     0                                            \n",
            "__________________________________________________________________________________________________\n",
            "input_5 (InputLayer)            [(None, 150, 1)]     0                                            \n",
            "__________________________________________________________________________________________________\n",
            "input_6 (InputLayer)            [(None, 150, 1)]     0                                            \n",
            "__________________________________________________________________________________________________\n",
            "input_7 (InputLayer)            [(None, 150, 1)]     0                                            \n",
            "__________________________________________________________________________________________________\n",
            "input_8 (InputLayer)            [(None, 150, 1)]     0                                            \n",
            "__________________________________________________________________________________________________\n",
            "batch_normalization_1 (BatchNor (None, 150, 1)       4           input_1[0][0]                    \n",
            "__________________________________________________________________________________________________\n",
            "batch_normalization_2 (BatchNor (None, 150, 1)       4           input_2[0][0]                    \n",
            "__________________________________________________________________________________________________\n",
            "batch_normalization_3 (BatchNor (None, 150, 1)       4           input_3[0][0]                    \n",
            "__________________________________________________________________________________________________\n",
            "batch_normalization_4 (BatchNor (None, 150, 1)       4           input_4[0][0]                    \n",
            "__________________________________________________________________________________________________\n",
            "batch_normalization_5 (BatchNor (None, 150, 1)       4           input_5[0][0]                    \n",
            "__________________________________________________________________________________________________\n",
            "batch_normalization_6 (BatchNor (None, 150, 1)       4           input_6[0][0]                    \n",
            "__________________________________________________________________________________________________\n",
            "batch_normalization_7 (BatchNor (None, 150, 1)       4           input_7[0][0]                    \n",
            "__________________________________________________________________________________________________\n",
            "batch_normalization_8 (BatchNor (None, 150, 1)       4           input_8[0][0]                    \n",
            "__________________________________________________________________________________________________\n",
            "conv1d_2 (Conv1D)               (None, 148, 8)       32          batch_normalization_1[0][0]      \n",
            "__________________________________________________________________________________________________\n",
            "conv1d_6 (Conv1D)               (None, 148, 8)       32          batch_normalization_2[0][0]      \n",
            "__________________________________________________________________________________________________\n",
            "conv1d_10 (Conv1D)              (None, 148, 8)       32          batch_normalization_3[0][0]      \n",
            "__________________________________________________________________________________________________\n",
            "conv1d_14 (Conv1D)              (None, 148, 8)       32          batch_normalization_4[0][0]      \n",
            "__________________________________________________________________________________________________\n",
            "conv1d_18 (Conv1D)              (None, 148, 8)       32          batch_normalization_5[0][0]      \n",
            "__________________________________________________________________________________________________\n",
            "conv1d_22 (Conv1D)              (None, 148, 8)       32          batch_normalization_6[0][0]      \n",
            "__________________________________________________________________________________________________\n",
            "conv1d_26 (Conv1D)              (None, 148, 8)       32          batch_normalization_7[0][0]      \n",
            "__________________________________________________________________________________________________\n",
            "conv1d_30 (Conv1D)              (None, 148, 8)       32          batch_normalization_8[0][0]      \n",
            "__________________________________________________________________________________________________\n",
            "conv1d_3 (Conv1D)               (None, 146, 16)      400         conv1d_2[0][0]                   \n",
            "__________________________________________________________________________________________________\n",
            "conv1d_7 (Conv1D)               (None, 146, 16)      400         conv1d_6[0][0]                   \n",
            "__________________________________________________________________________________________________\n",
            "conv1d_11 (Conv1D)              (None, 146, 16)      400         conv1d_10[0][0]                  \n",
            "__________________________________________________________________________________________________\n",
            "conv1d_15 (Conv1D)              (None, 146, 16)      400         conv1d_14[0][0]                  \n",
            "__________________________________________________________________________________________________\n",
            "conv1d_19 (Conv1D)              (None, 146, 16)      400         conv1d_18[0][0]                  \n",
            "__________________________________________________________________________________________________\n",
            "conv1d_23 (Conv1D)              (None, 146, 16)      400         conv1d_22[0][0]                  \n",
            "__________________________________________________________________________________________________\n",
            "conv1d_27 (Conv1D)              (None, 146, 16)      400         conv1d_26[0][0]                  \n",
            "__________________________________________________________________________________________________\n",
            "conv1d_31 (Conv1D)              (None, 146, 16)      400         conv1d_30[0][0]                  \n",
            "__________________________________________________________________________________________________\n",
            "max_pooling1d_1 (MaxPooling1D)  (None, 73, 16)       0           conv1d_3[0][0]                   \n",
            "__________________________________________________________________________________________________\n",
            "max_pooling1d_3 (MaxPooling1D)  (None, 73, 16)       0           conv1d_7[0][0]                   \n",
            "__________________________________________________________________________________________________\n",
            "max_pooling1d_5 (MaxPooling1D)  (None, 73, 16)       0           conv1d_11[0][0]                  \n",
            "__________________________________________________________________________________________________\n",
            "max_pooling1d_7 (MaxPooling1D)  (None, 73, 16)       0           conv1d_15[0][0]                  \n",
            "__________________________________________________________________________________________________\n",
            "max_pooling1d_9 (MaxPooling1D)  (None, 73, 16)       0           conv1d_19[0][0]                  \n",
            "__________________________________________________________________________________________________\n",
            "max_pooling1d_11 (MaxPooling1D) (None, 73, 16)       0           conv1d_23[0][0]                  \n",
            "__________________________________________________________________________________________________\n",
            "max_pooling1d_13 (MaxPooling1D) (None, 73, 16)       0           conv1d_27[0][0]                  \n",
            "__________________________________________________________________________________________________\n",
            "max_pooling1d_15 (MaxPooling1D) (None, 73, 16)       0           conv1d_31[0][0]                  \n",
            "__________________________________________________________________________________________________\n",
            "conv1d_4 (Conv1D)               (None, 71, 16)       784         max_pooling1d_1[0][0]            \n",
            "__________________________________________________________________________________________________\n",
            "conv1d_8 (Conv1D)               (None, 71, 16)       784         max_pooling1d_3[0][0]            \n",
            "__________________________________________________________________________________________________\n",
            "conv1d_12 (Conv1D)              (None, 71, 16)       784         max_pooling1d_5[0][0]            \n",
            "__________________________________________________________________________________________________\n",
            "conv1d_16 (Conv1D)              (None, 71, 16)       784         max_pooling1d_7[0][0]            \n",
            "__________________________________________________________________________________________________\n",
            "conv1d_20 (Conv1D)              (None, 71, 16)       784         max_pooling1d_9[0][0]            \n",
            "__________________________________________________________________________________________________\n",
            "conv1d_24 (Conv1D)              (None, 71, 16)       784         max_pooling1d_11[0][0]           \n",
            "__________________________________________________________________________________________________\n",
            "conv1d_28 (Conv1D)              (None, 71, 16)       784         max_pooling1d_13[0][0]           \n",
            "__________________________________________________________________________________________________\n",
            "conv1d_32 (Conv1D)              (None, 71, 16)       784         max_pooling1d_15[0][0]           \n",
            "__________________________________________________________________________________________________\n",
            "conv1d_5 (Conv1D)               (None, 69, 16)       784         conv1d_4[0][0]                   \n",
            "__________________________________________________________________________________________________\n",
            "conv1d_9 (Conv1D)               (None, 69, 16)       784         conv1d_8[0][0]                   \n",
            "__________________________________________________________________________________________________\n",
            "conv1d_13 (Conv1D)              (None, 69, 16)       784         conv1d_12[0][0]                  \n",
            "__________________________________________________________________________________________________\n",
            "conv1d_17 (Conv1D)              (None, 69, 16)       784         conv1d_16[0][0]                  \n",
            "__________________________________________________________________________________________________\n",
            "conv1d_21 (Conv1D)              (None, 69, 16)       784         conv1d_20[0][0]                  \n",
            "__________________________________________________________________________________________________\n",
            "conv1d_25 (Conv1D)              (None, 69, 16)       784         conv1d_24[0][0]                  \n",
            "__________________________________________________________________________________________________\n",
            "conv1d_29 (Conv1D)              (None, 69, 16)       784         conv1d_28[0][0]                  \n",
            "__________________________________________________________________________________________________\n",
            "conv1d_33 (Conv1D)              (None, 69, 16)       784         conv1d_32[0][0]                  \n",
            "__________________________________________________________________________________________________\n",
            "max_pooling1d_2 (MaxPooling1D)  (None, 34, 16)       0           conv1d_5[0][0]                   \n",
            "__________________________________________________________________________________________________\n",
            "max_pooling1d_4 (MaxPooling1D)  (None, 34, 16)       0           conv1d_9[0][0]                   \n",
            "__________________________________________________________________________________________________\n",
            "max_pooling1d_6 (MaxPooling1D)  (None, 34, 16)       0           conv1d_13[0][0]                  \n",
            "__________________________________________________________________________________________________\n",
            "max_pooling1d_8 (MaxPooling1D)  (None, 34, 16)       0           conv1d_17[0][0]                  \n",
            "__________________________________________________________________________________________________\n",
            "max_pooling1d_10 (MaxPooling1D) (None, 34, 16)       0           conv1d_21[0][0]                  \n",
            "__________________________________________________________________________________________________\n",
            "max_pooling1d_12 (MaxPooling1D) (None, 34, 16)       0           conv1d_25[0][0]                  \n",
            "__________________________________________________________________________________________________\n",
            "max_pooling1d_14 (MaxPooling1D) (None, 34, 16)       0           conv1d_29[0][0]                  \n",
            "__________________________________________________________________________________________________\n",
            "max_pooling1d_16 (MaxPooling1D) (None, 34, 16)       0           conv1d_33[0][0]                  \n",
            "__________________________________________________________________________________________________\n",
            "flatten_1 (Flatten)             (None, 544)          0           max_pooling1d_2[0][0]            \n",
            "__________________________________________________________________________________________________\n",
            "flatten_2 (Flatten)             (None, 544)          0           max_pooling1d_4[0][0]            \n",
            "__________________________________________________________________________________________________\n",
            "flatten_3 (Flatten)             (None, 544)          0           max_pooling1d_6[0][0]            \n",
            "__________________________________________________________________________________________________\n",
            "flatten_4 (Flatten)             (None, 544)          0           max_pooling1d_8[0][0]            \n",
            "__________________________________________________________________________________________________\n",
            "flatten_5 (Flatten)             (None, 544)          0           max_pooling1d_10[0][0]           \n",
            "__________________________________________________________________________________________________\n",
            "flatten_6 (Flatten)             (None, 544)          0           max_pooling1d_12[0][0]           \n",
            "__________________________________________________________________________________________________\n",
            "flatten_7 (Flatten)             (None, 544)          0           max_pooling1d_14[0][0]           \n",
            "__________________________________________________________________________________________________\n",
            "flatten_8 (Flatten)             (None, 544)          0           max_pooling1d_16[0][0]           \n",
            "__________________________________________________________________________________________________\n",
            "dense_2 (Dense)                 (None, 50)           27250       flatten_1[0][0]                  \n",
            "__________________________________________________________________________________________________\n",
            "dense_3 (Dense)                 (None, 50)           27250       flatten_2[0][0]                  \n",
            "__________________________________________________________________________________________________\n",
            "dense_4 (Dense)                 (None, 50)           27250       flatten_3[0][0]                  \n",
            "__________________________________________________________________________________________________\n",
            "dense_5 (Dense)                 (None, 50)           27250       flatten_4[0][0]                  \n",
            "__________________________________________________________________________________________________\n",
            "dense_6 (Dense)                 (None, 50)           27250       flatten_5[0][0]                  \n",
            "__________________________________________________________________________________________________\n",
            "dense_7 (Dense)                 (None, 50)           27250       flatten_6[0][0]                  \n",
            "__________________________________________________________________________________________________\n",
            "dense_8 (Dense)                 (None, 50)           27250       flatten_7[0][0]                  \n",
            "__________________________________________________________________________________________________\n",
            "dense_9 (Dense)                 (None, 50)           27250       flatten_8[0][0]                  \n",
            "__________________________________________________________________________________________________\n",
            "concatenate (Concatenate)       (None, 400)          0           dense_2[0][0]                    \n",
            "                                                                 dense_3[0][0]                    \n",
            "                                                                 dense_4[0][0]                    \n",
            "                                                                 dense_5[0][0]                    \n",
            "                                                                 dense_6[0][0]                    \n",
            "                                                                 dense_7[0][0]                    \n",
            "                                                                 dense_8[0][0]                    \n",
            "                                                                 dense_9[0][0]                    \n",
            "__________________________________________________________________________________________________\n",
            "dropout_2 (Dropout)             (None, 400)          0           concatenate[0][0]                \n",
            "__________________________________________________________________________________________________\n",
            "dense_10 (Dense)                (None, 100)          40100       dropout_2[0][0]                  \n",
            "__________________________________________________________________________________________________\n",
            "dropout_3 (Dropout)             (None, 100)          0           dense_10[0][0]                   \n",
            "__________________________________________________________________________________________________\n",
            "dense_11 (Dense)                (None, 16)           1616        dropout_3[0][0]                  \n",
            "==================================================================================================\n",
            "Total params: 275,748\n",
            "Trainable params: 275,732\n",
            "Non-trainable params: 16\n",
            "__________________________________________________________________________________________________\n"
          ]
        }
      ]
    },
    {
      "cell_type": "code",
      "metadata": {
        "id": "gLLylkNmuaw_"
      },
      "source": [
        ""
      ],
      "execution_count": null,
      "outputs": []
    }
  ]
}