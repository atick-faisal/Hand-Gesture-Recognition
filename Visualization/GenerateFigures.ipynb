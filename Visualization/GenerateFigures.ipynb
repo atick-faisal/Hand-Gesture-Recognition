{
 "cells": [
  {
   "cell_type": "code",
   "execution_count": 22,
   "metadata": {},
   "outputs": [],
   "source": [
    "import os\n",
    "import joblib\n",
    "import numpy as np\n",
    "import pandas as pd\n",
    "import seaborn as sns\n",
    "import matplotlib.pyplot as plt\n",
    "\n",
    "sns.set_style(\"white\")\n",
    "sns.set_palette(\"Set2\")\n"
   ]
  },
  {
   "cell_type": "code",
   "execution_count": 61,
   "metadata": {},
   "outputs": [],
   "source": [
    "BASE_DIR = os.getcwd()\n",
    "LOGS_DIR = \"../Logs/\"\n",
    "MOBILE_NET_V2_DIR = \"MobileNetV2\"\n",
    "USER_1_8 = \"user1-8.joblib\"\n",
    "USER_8_16 = \"user8-16.joblib\"\n",
    "USER_16_25 = \"user16-25.joblib\""
   ]
  },
  {
   "cell_type": "code",
   "execution_count": 62,
   "metadata": {},
   "outputs": [],
   "source": [
    "path_1_8 = os.path.join(BASE_DIR, LOGS_DIR, MOBILE_NET_V2_DIR, USER_1_8)\n",
    "data_1_8 = joblib.load(path_1_8)\n",
    "\n",
    "path_8_16 = os.path.join(BASE_DIR, LOGS_DIR, MOBILE_NET_V2_DIR, USER_8_16)\n",
    "data_8_16 = joblib.load(path_8_16)\n",
    "\n",
    "path_16_25 = os.path.join(BASE_DIR, LOGS_DIR, MOBILE_NET_V2_DIR, USER_16_25)\n",
    "data_16_25 = joblib.load(path_16_25)"
   ]
  },
  {
   "cell_type": "code",
   "execution_count": 63,
   "metadata": {},
   "outputs": [],
   "source": [
    "ACC = data_1_8[\"accuracy\"] + data_8_16[\"accuracy\"] + data_16_25[\"accuracy\"]\n",
    "CM = data_1_8[\"cm\"] + data_8_16[\"cm\"] + data_16_25[\"cm\"]"
   ]
  },
  {
   "cell_type": "code",
   "execution_count": 64,
   "metadata": {},
   "outputs": [],
   "source": [
    "CM = np.array(CM, dtype=\"int64\")"
   ]
  },
  {
   "cell_type": "code",
   "execution_count": 65,
   "metadata": {},
   "outputs": [],
   "source": [
    "avg_cm = np.mean(CM, axis=0)\n",
    "avg_acc = np.mean(ACC)"
   ]
  },
  {
   "cell_type": "code",
   "execution_count": 66,
   "metadata": {},
   "outputs": [
    {
     "data": {
      "text/plain": [
       "([], [])"
      ]
     },
     "execution_count": 66,
     "metadata": {},
     "output_type": "execute_result"
    },
    {
     "data": {
      "image/png": "[encoded data removed]",
      "text/plain": [
       "<Figure size 864x720 with 2 Axes>"
      ]
     },
     "metadata": {},
     "output_type": "display_data"
    }
   ],
   "source": [
    "plt.figure(figsize=(12, 10))\n",
    "sns.heatmap(avg_cm, cmap=\"Oranges\")\n",
    "plt.xticks([])\n",
    "plt.yticks([])"
   ]
  },
  {
   "cell_type": "code",
   "execution_count": 67,
   "metadata": {},
   "outputs": [],
   "source": [
    "TP = np.diag(avg_cm)\n",
    "FP = np.sum(avg_cm, axis=0) - TP\n",
    "FN = np.sum(avg_cm, axis=1) - TP\n",
    "\n",
    "num_classes = 16\n",
    "TN = []\n",
    "for i in range(num_classes):\n",
    "    temp = np.delete(avg_cm, i, 0)    # delete ith row\n",
    "    temp = np.delete(temp, i, 1)  # delete ith column\n",
    "    TN.append(sum(sum(temp)))\n",
    "\n",
    "precision = TP/(TP+FP)\n",
    "recall = TP/(TP+FN)\n",
    "specificity = TN/(TN+FP)\n",
    "f1 = 2 * (precision * recall) / (precision + recall)"
   ]
  },
  {
   "cell_type": "code",
   "execution_count": 68,
   "metadata": {},
   "outputs": [],
   "source": [
    "metrics = pd.DataFrame()\n",
    "metrics[\"Precision\"] = precision\n",
    "metrics[\"Recall\"] = recall\n",
    "metrics[\"Specificity\"] = specificity\n",
    "metrics[\"F1\"] = f1"
   ]
  },
  {
   "cell_type": "code",
   "execution_count": 69,
   "metadata": {},
   "outputs": [
    {
     "data": {
      "text/html": [
       "<div>\n",
       "<style scoped>\n",
       "    .dataframe tbody tr th:only-of-type {\n",
       "        vertical-align: middle;\n",
       "    }\n",
       "\n",
       "    .dataframe tbody tr th {\n",
       "        vertical-align: top;\n",
       "    }\n",
       "\n",
       "    .dataframe thead th {\n",
       "        text-align: right;\n",
       "    }\n",
       "</style>\n",
       "<table border=\"1\" class=\"dataframe\">\n",
       "  <thead>\n",
       "    <tr style=\"text-align: right;\">\n",
       "      <th></th>\n",
       "      <th>Precision</th>\n",
       "      <th>Recall</th>\n",
       "      <th>Specificity</th>\n",
       "      <th>F1</th>\n",
       "    </tr>\n",
       "  </thead>\n",
       "  <tbody>\n",
       "    <tr>\n",
       "      <th>0</th>\n",
       "      <td>1.000000</td>\n",
       "      <td>0.996</td>\n",
       "      <td>1.000000</td>\n",
       "      <td>0.997996</td>\n",
       "    </tr>\n",
       "    <tr>\n",
       "      <th>1</th>\n",
       "      <td>1.000000</td>\n",
       "      <td>0.988</td>\n",
       "      <td>1.000000</td>\n",
       "      <td>0.993964</td>\n",
       "    </tr>\n",
       "    <tr>\n",
       "      <th>2</th>\n",
       "      <td>0.983871</td>\n",
       "      <td>0.976</td>\n",
       "      <td>0.998933</td>\n",
       "      <td>0.979920</td>\n",
       "    </tr>\n",
       "    <tr>\n",
       "      <th>3</th>\n",
       "      <td>0.988048</td>\n",
       "      <td>0.992</td>\n",
       "      <td>0.999200</td>\n",
       "      <td>0.990020</td>\n",
       "    </tr>\n",
       "    <tr>\n",
       "      <th>4</th>\n",
       "      <td>0.995984</td>\n",
       "      <td>0.992</td>\n",
       "      <td>0.999733</td>\n",
       "      <td>0.993988</td>\n",
       "    </tr>\n",
       "    <tr>\n",
       "      <th>5</th>\n",
       "      <td>0.965517</td>\n",
       "      <td>0.896</td>\n",
       "      <td>0.997867</td>\n",
       "      <td>0.929461</td>\n",
       "    </tr>\n",
       "    <tr>\n",
       "      <th>6</th>\n",
       "      <td>1.000000</td>\n",
       "      <td>0.976</td>\n",
       "      <td>1.000000</td>\n",
       "      <td>0.987854</td>\n",
       "    </tr>\n",
       "    <tr>\n",
       "      <th>7</th>\n",
       "      <td>0.979757</td>\n",
       "      <td>0.968</td>\n",
       "      <td>0.998667</td>\n",
       "      <td>0.973843</td>\n",
       "    </tr>\n",
       "    <tr>\n",
       "      <th>8</th>\n",
       "      <td>1.000000</td>\n",
       "      <td>0.960</td>\n",
       "      <td>1.000000</td>\n",
       "      <td>0.979592</td>\n",
       "    </tr>\n",
       "    <tr>\n",
       "      <th>9</th>\n",
       "      <td>0.955285</td>\n",
       "      <td>0.940</td>\n",
       "      <td>0.997067</td>\n",
       "      <td>0.947581</td>\n",
       "    </tr>\n",
       "    <tr>\n",
       "      <th>10</th>\n",
       "      <td>1.000000</td>\n",
       "      <td>1.000</td>\n",
       "      <td>1.000000</td>\n",
       "      <td>1.000000</td>\n",
       "    </tr>\n",
       "    <tr>\n",
       "      <th>11</th>\n",
       "      <td>0.928571</td>\n",
       "      <td>0.988</td>\n",
       "      <td>0.994933</td>\n",
       "      <td>0.957364</td>\n",
       "    </tr>\n",
       "    <tr>\n",
       "      <th>12</th>\n",
       "      <td>0.948413</td>\n",
       "      <td>0.956</td>\n",
       "      <td>0.996533</td>\n",
       "      <td>0.952191</td>\n",
       "    </tr>\n",
       "    <tr>\n",
       "      <th>13</th>\n",
       "      <td>0.923372</td>\n",
       "      <td>0.964</td>\n",
       "      <td>0.994667</td>\n",
       "      <td>0.943249</td>\n",
       "    </tr>\n",
       "    <tr>\n",
       "      <th>14</th>\n",
       "      <td>0.984252</td>\n",
       "      <td>1.000</td>\n",
       "      <td>0.998933</td>\n",
       "      <td>0.992063</td>\n",
       "    </tr>\n",
       "    <tr>\n",
       "      <th>15</th>\n",
       "      <td>0.931818</td>\n",
       "      <td>0.984</td>\n",
       "      <td>0.995200</td>\n",
       "      <td>0.957198</td>\n",
       "    </tr>\n",
       "  </tbody>\n",
       "</table>\n",
       "</div>"
      ],
      "text/plain": [
       "    Precision  Recall  Specificity        F1\n",
       "0    1.000000   0.996     1.000000  0.997996\n",
       "1    1.000000   0.988     1.000000  0.993964\n",
       "2    0.983871   0.976     0.998933  0.979920\n",
       "3    0.988048   0.992     0.999200  0.990020\n",
       "4    0.995984   0.992     0.999733  0.993988\n",
       "5    0.965517   0.896     0.997867  0.929461\n",
       "6    1.000000   0.976     1.000000  0.987854\n",
       "7    0.979757   0.968     0.998667  0.973843\n",
       "8    1.000000   0.960     1.000000  0.979592\n",
       "9    0.955285   0.940     0.997067  0.947581\n",
       "10   1.000000   1.000     1.000000  1.000000\n",
       "11   0.928571   0.988     0.994933  0.957364\n",
       "12   0.948413   0.956     0.996533  0.952191\n",
       "13   0.923372   0.964     0.994667  0.943249\n",
       "14   0.984252   1.000     0.998933  0.992063\n",
       "15   0.931818   0.984     0.995200  0.957198"
      ]
     },
     "execution_count": 69,
     "metadata": {},
     "output_type": "execute_result"
    }
   ],
   "source": [
    "metrics"
   ]
  },
  {
   "cell_type": "code",
   "execution_count": 70,
   "metadata": {},
   "outputs": [
    {
     "name": "stdout",
     "output_type": "stream",
     "text": [
      "Average Accuracy: 97.34999895095825\n"
     ]
    }
   ],
   "source": [
    "print(f\"Average Accuracy: {avg_acc}\")"
   ]
  },
  {
   "cell_type": "code",
   "execution_count": 71,
   "metadata": {},
   "outputs": [
    {
     "data": {
      "text/plain": [
       "[99.37499761581421,\n",
       " 96.24999761581421,\n",
       " 98.7500011920929,\n",
       " 73.1249988079071,\n",
       " 93.12499761581421,\n",
       " 93.75,\n",
       " 99.37499761581421,\n",
       " 94.9999988079071,\n",
       " 100.0,\n",
       " 96.875,\n",
       " 99.37499761581421,\n",
       " 99.37499761581421,\n",
       " 99.37499761581421,\n",
       " 98.7500011920929,\n",
       " 99.37499761581421,\n",
       " 100.0,\n",
       " 100.0,\n",
       " 100.0,\n",
       " 99.37499761581421,\n",
       " 99.37499761581421,\n",
       " 100.0,\n",
       " 98.1249988079071,\n",
       " 94.9999988079071,\n",
       " 100.0,\n",
       " 100.0]"
      ]
     },
     "execution_count": 71,
     "metadata": {},
     "output_type": "execute_result"
    }
   ],
   "source": [
    "ACC"
   ]
  },
  {
   "cell_type": "code",
   "execution_count": null,
   "metadata": {},
   "outputs": [],
   "source": []
  }
 ],
 "metadata": {
  "interpreter": {
   "hash": "cc12dd51c08fff59e312c49b5273cbf2a12939660509ea1a4d83cd89b0463726"
  },
  "kernelspec": {
   "display_name": "Python 3.10.1 64-bit ('Ai': venv)",
   "language": "python",
   "name": "python3"
  },
  "language_info": {
   "codemirror_mode": {
    "name": "ipython",
    "version": 3
   },
   "file_extension": ".py",
   "mimetype": "text/x-python",
   "name": "python",
   "nbconvert_exporter": "python",
   "pygments_lexer": "ipython3",
   "version": "3.9.10"
  },
  "orig_nbformat": 4
 },
 "nbformat": 4,
 "nbformat_minor": 2
}
