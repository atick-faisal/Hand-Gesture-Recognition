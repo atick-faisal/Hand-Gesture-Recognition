{
  "nbformat": 4,
  "nbformat_minor": 0,
  "metadata": {
    "colab": {
      "name": "Static_Hand_Gestures_ML_v1.ipynb",
      "provenance": [],
      "collapsed_sections": [],
      "mount_file_id": "1KAO4IMeALBgLsBqf-u20Whj5AXGzSUfC",
      "authorship_tag": "ABX9TyOiy6s3gPjyAk9uQ0Vx1qbq",
      "include_colab_link": true
    },
    "kernelspec": {
      "name": "python3",
      "display_name": "Python 3"
    },
    "language_info": {
      "name": "python"
    }
  },
  "cells": [
    {
      "cell_type": "markdown",
      "metadata": {
        "id": "view-in-github",
        "colab_type": "text"
      },
      "source": [
        "<a href=\"https://colab.research.google.com/github/atick-faisal/Hand-Gesture-Recognition/blob/main/Classical-ML-Analysis/Static_Hand_Gestures_ML_v1.ipynb\" target=\"_parent\"><img src=\"https://colab.research.google.com/assets/colab-badge.svg\" alt=\"Open In Colab\"/></a>"
      ]
    }
  ]
}