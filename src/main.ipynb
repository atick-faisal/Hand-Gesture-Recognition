{
 "cells": [
  {
   "cell_type": "code",
   "execution_count": 1,
   "metadata": {},
   "outputs": [],
   "source": [
    "import glob\n",
    "import numpy as np\n",
    "\n",
    "data_dir = \"../data/asl/images/\"\n"
   ]
  },
  {
   "cell_type": "code",
   "execution_count": 4,
   "metadata": {},
   "outputs": [],
   "source": [
    "import tensorflow as tf\n",
    "\n",
    "img_xy = glob.glob(data_dir + \"*xy.jpg\")\n",
    "img_yz = glob.glob(data_dir + \"*yz.jpg\")\n",
    "\n",
    "def load(file_path):\n",
    "    img = tf.io.read_file(file_path)\n",
    "    img = tf.image.decode_png(img, channels=3)\n",
    "    img = tf.image.convert_image_dtype(img, tf.float32)\n",
    "    img = tf.image.resize(img, size=(32, 32))\n",
    "    return img"
   ]
  },
  {
   "cell_type": "code",
   "execution_count": 14,
   "metadata": {},
   "outputs": [
    {
     "data": {
      "text/plain": [
       "((TensorSpec(shape=(None, 32, 32, 3), dtype=tf.float32, name=None),\n",
       "  TensorSpec(shape=(None, 32, 32, 3), dtype=tf.float32, name=None),\n",
       "  (TensorSpec(shape=(None, 150, 1), dtype=tf.float64, name=None),\n",
       "   TensorSpec(shape=(None, 150, 1), dtype=tf.float64, name=None),\n",
       "   TensorSpec(shape=(None, 150, 1), dtype=tf.float64, name=None),\n",
       "   TensorSpec(shape=(None, 150, 1), dtype=tf.float64, name=None),\n",
       "   TensorSpec(shape=(None, 150, 1), dtype=tf.float64, name=None))),\n",
       " TensorSpec(shape=(None,), dtype=tf.string, name=None))"
      ]
     },
     "execution_count": 14,
     "metadata": {},
     "output_type": "execute_result"
    }
   ],
   "source": [
    "\n",
    "\n",
    "a = np.random.random((4000, 150, 5))\n",
    "b = np.split(a, 5, axis=2)\n",
    "\n",
    "# i2 = tf.data.Dataset.from_tensor_slices(a)\n",
    "\n",
    "inputs = tf.data.Dataset.from_tensor_slices((img_xy, img_xy, *b)) \\\n",
    "    .map(lambda x, y, *z: (load(x), load(y), z))\n",
    "\n",
    "labels = tf.data.Dataset.from_tensor_slices(img_xy)\n",
    "ds = tf.data.Dataset.zip((inputs, labels)).batch(4)\n",
    "\n",
    "ds.element_spec"
   ]
  },
  {
   "cell_type": "code",
   "execution_count": 15,
   "metadata": {},
   "outputs": [
    {
     "data": {
      "text/plain": [
       "array([[-0.20691922,  1.2134912 , -0.02880372],\n",
       "       [ 0.12261689,  1.9814444 , -0.7860656 ],\n",
       "       [-0.0039759 ,  2.1413326 , -0.507591  ],\n",
       "       ...,\n",
       "       [-0.03184342,  1.2674892 ,  0.65227956],\n",
       "       [-0.08735511,  1.1800733 , -0.27915913],\n",
       "       [-0.24329877,  1.3660676 ,  0.14775828]], dtype=float32)"
      ]
     },
     "execution_count": 15,
     "metadata": {},
     "output_type": "execute_result"
    }
   ],
   "source": [
    "import tensorflow as tf\n",
    "\n",
    "inputs = []\n",
    "\n",
    "for i in range(2):\n",
    "    inputs.append(tf.keras.layers.Input(shape=(32, 32, 3)))\n",
    "\n",
    "for i in range(5):\n",
    "    inputs.append(tf.keras.layers.Input(shape=(150, 1)))\n",
    "\n",
    "x = tf.keras.layers.concatenate(inputs[:2])\n",
    "x = tf.keras.layers.Flatten()(x)\n",
    "x = tf.keras.layers.Dense(3)(x)\n",
    "\n",
    "model = tf.keras.models.Model(inputs, x)\n",
    "\n",
    "model.compile()\n",
    "\n",
    "model.predict(ds)"
   ]
  },
  {
   "cell_type": "code",
   "execution_count": null,
   "metadata": {},
   "outputs": [],
   "source": []
  }
 ],
 "metadata": {
  "interpreter": {
   "hash": "cc12dd51c08fff59e312c49b5273cbf2a12939660509ea1a4d83cd89b0463726"
  },
  "kernelspec": {
   "display_name": "Python 3.10.1 64-bit ('Ai': venv)",
   "language": "python",
   "name": "python3"
  },
  "language_info": {
   "codemirror_mode": {
    "name": "ipython",
    "version": 3
   },
   "file_extension": ".py",
   "mimetype": "text/x-python",
   "name": "python",
   "nbconvert_exporter": "python",
   "pygments_lexer": "ipython3",
   "version": "3.9.10"
  },
  "orig_nbformat": 4
 },
 "nbformat": 4,
 "nbformat_minor": 2
}
