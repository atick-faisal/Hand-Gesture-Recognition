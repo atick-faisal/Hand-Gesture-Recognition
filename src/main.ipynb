{
 "cells": [
  {
   "cell_type": "code",
   "execution_count": 1,
   "metadata": {},
   "outputs": [],
   "source": [
    "import glob\n",
    "import numpy as np\n",
    "\n",
    "data_dir = \"../data/asl/images/\"\n"
   ]
  },
  {
   "cell_type": "code",
   "execution_count": 2,
   "metadata": {},
   "outputs": [],
   "source": [
    "import tensorflow as tf\n",
    "\n",
    "img_xy = glob.glob(data_dir + \"*xy.jpg\")\n",
    "img_yz = glob.glob(data_dir + \"*yz.jpg\")\n",
    "\n",
    "img_xy = np.array(img_xy)\n",
    "img_yz = np.array(img_yz)\n",
    "\n",
    "def load(file_path):\n",
    "    img = tf.io.read_file(file_path)\n",
    "    img = tf.image.decode_png(img, channels=3)\n",
    "    img = tf.image.convert_image_dtype(img, tf.float32)\n",
    "    img = tf.image.resize(img, size=(32, 32))\n",
    "    return img"
   ]
  },
  {
   "cell_type": "code",
   "execution_count": 3,
   "metadata": {},
   "outputs": [
    {
     "name": "stderr",
     "output_type": "stream",
     "text": [
      "2022-03-14 16:52:48.862270: I tensorflow/stream_executor/cuda/cuda_gpu_executor.cc:939] successful NUMA node read from SysFS had negative value (-1), but there must be at least one NUMA node, so returning NUMA node zero\n",
      "2022-03-14 16:52:48.944485: I tensorflow/stream_executor/cuda/cuda_gpu_executor.cc:939] successful NUMA node read from SysFS had negative value (-1), but there must be at least one NUMA node, so returning NUMA node zero\n",
      "2022-03-14 16:52:48.944737: I tensorflow/stream_executor/cuda/cuda_gpu_executor.cc:939] successful NUMA node read from SysFS had negative value (-1), but there must be at least one NUMA node, so returning NUMA node zero\n",
      "2022-03-14 16:52:48.946326: I tensorflow/core/platform/cpu_feature_guard.cc:151] This TensorFlow binary is optimized with oneAPI Deep Neural Network Library (oneDNN) to use the following CPU instructions in performance-critical operations:  AVX2 AVX512F FMA\n",
      "To enable them in other operations, rebuild TensorFlow with the appropriate compiler flags.\n",
      "2022-03-14 16:52:48.947186: I tensorflow/stream_executor/cuda/cuda_gpu_executor.cc:939] successful NUMA node read from SysFS had negative value (-1), but there must be at least one NUMA node, so returning NUMA node zero\n",
      "2022-03-14 16:52:48.947416: I tensorflow/stream_executor/cuda/cuda_gpu_executor.cc:939] successful NUMA node read from SysFS had negative value (-1), but there must be at least one NUMA node, so returning NUMA node zero\n",
      "2022-03-14 16:52:48.947516: I tensorflow/stream_executor/cuda/cuda_gpu_executor.cc:939] successful NUMA node read from SysFS had negative value (-1), but there must be at least one NUMA node, so returning NUMA node zero\n",
      "2022-03-14 16:52:49.831026: I tensorflow/stream_executor/cuda/cuda_gpu_executor.cc:939] successful NUMA node read from SysFS had negative value (-1), but there must be at least one NUMA node, so returning NUMA node zero\n",
      "2022-03-14 16:52:49.831200: I tensorflow/stream_executor/cuda/cuda_gpu_executor.cc:939] successful NUMA node read from SysFS had negative value (-1), but there must be at least one NUMA node, so returning NUMA node zero\n",
      "2022-03-14 16:52:49.831303: I tensorflow/stream_executor/cuda/cuda_gpu_executor.cc:939] successful NUMA node read from SysFS had negative value (-1), but there must be at least one NUMA node, so returning NUMA node zero\n",
      "2022-03-14 16:52:49.831453: I tensorflow/core/common_runtime/gpu/gpu_device.cc:1525] Created device /job:localhost/replica:0/task:0/device:GPU:0 with 1618 MB memory:  -> device: 0, name: NVIDIA GeForce MX330, pci bus id: 0000:02:00.0, compute capability: 6.1\n"
     ]
    },
    {
     "data": {
      "text/plain": [
       "((TensorSpec(shape=(None, 32, 32, 3), dtype=tf.float32, name=None),\n",
       "  TensorSpec(shape=(None, 32, 32, 3), dtype=tf.float32, name=None),\n",
       "  (TensorSpec(shape=(None, 150, 1), dtype=tf.float64, name=None),\n",
       "   TensorSpec(shape=(None, 150, 1), dtype=tf.float64, name=None),\n",
       "   TensorSpec(shape=(None, 150, 1), dtype=tf.float64, name=None),\n",
       "   TensorSpec(shape=(None, 150, 1), dtype=tf.float64, name=None),\n",
       "   TensorSpec(shape=(None, 150, 1), dtype=tf.float64, name=None))),\n",
       " TensorSpec(shape=(None,), dtype=tf.string, name=None))"
      ]
     },
     "execution_count": 3,
     "metadata": {},
     "output_type": "execute_result"
    }
   ],
   "source": [
    "\n",
    "\n",
    "a = np.random.random((4000, 150, 5))\n",
    "b = np.split(a, 5, axis=2)\n",
    "\n",
    "# i2 = tf.data.Dataset.from_tensor_slices(a)\n",
    "\n",
    "inputs = tf.data.Dataset.from_tensor_slices((img_xy, img_xy, *b)) \\\n",
    "    .map(lambda x, y, *z: (load(x), load(y), z))\n",
    "\n",
    "labels = tf.data.Dataset.from_tensor_slices(img_xy)\n",
    "ds = tf.data.Dataset.zip((inputs, labels)).batch(4)\n",
    "\n",
    "ds.element_spec"
   ]
  },
  {
   "cell_type": "code",
   "execution_count": 4,
   "metadata": {},
   "outputs": [
    {
     "data": {
      "text/plain": [
       "array([[0.6117909 , 1.2120011 , 0.12638056],\n",
       "       [0.9990641 , 0.5501137 , 0.74964154],\n",
       "       [0.345442  , 0.10559529, 0.94781655],\n",
       "       ...,\n",
       "       [0.83442175, 1.2078531 , 1.1450144 ],\n",
       "       [0.34926236, 1.3658197 , 0.70981133],\n",
       "       [0.9848125 , 0.8985261 , 0.6949749 ]], dtype=float32)"
      ]
     },
     "execution_count": 4,
     "metadata": {},
     "output_type": "execute_result"
    }
   ],
   "source": [
    "import tensorflow as tf\n",
    "\n",
    "inputs = []\n",
    "\n",
    "for i in range(2):\n",
    "    inputs.append(tf.keras.layers.Input(shape=(32, 32, 3)))\n",
    "\n",
    "for i in range(5):\n",
    "    inputs.append(tf.keras.layers.Input(shape=(150, 1)))\n",
    "\n",
    "x = tf.keras.layers.concatenate(inputs[:2])\n",
    "x = tf.keras.layers.Flatten()(x)\n",
    "x = tf.keras.layers.Dense(3)(x)\n",
    "\n",
    "model = tf.keras.models.Model(inputs, x)\n",
    "\n",
    "model.compile()\n",
    "\n",
    "model.predict(ds)"
   ]
  },
  {
   "cell_type": "code",
   "execution_count": 5,
   "metadata": {},
   "outputs": [
    {
     "data": {
      "text/plain": [
       "dtype('bool')"
      ]
     },
     "execution_count": 5,
     "metadata": {},
     "output_type": "execute_result"
    }
   ],
   "source": [
    "import numpy as np\n",
    "\n",
    "a = np.array([1, 2])\n",
    "\n",
    "b = a == a\n",
    "\n",
    "b.dtype"
   ]
  },
  {
   "cell_type": "code",
   "execution_count": 18,
   "metadata": {},
   "outputs": [
    {
     "data": {
      "text/plain": [
       "dtype('<U4')"
      ]
     },
     "execution_count": 18,
     "metadata": {},
     "output_type": "execute_result"
    }
   ],
   "source": [
    "a = np.array([\"aaaa\", \"bbb\", \"ccc\"])\n",
    "a.dtype"
   ]
  },
  {
   "cell_type": "code",
   "execution_count": 20,
   "metadata": {},
   "outputs": [
    {
     "data": {
      "text/plain": [
       "array(['aaaa', 'ccc'], dtype='<U4')"
      ]
     },
     "execution_count": 20,
     "metadata": {},
     "output_type": "execute_result"
    }
   ],
   "source": [
    "a[0: :2]"
   ]
  },
  {
   "cell_type": "code",
   "execution_count": null,
   "metadata": {},
   "outputs": [],
   "source": []
  }
 ],
 "metadata": {
  "interpreter": {
   "hash": "cc12dd51c08fff59e312c49b5273cbf2a12939660509ea1a4d83cd89b0463726"
  },
  "kernelspec": {
   "display_name": "Python 3.10.1 64-bit ('Ai': venv)",
   "language": "python",
   "name": "python3"
  },
  "language_info": {
   "codemirror_mode": {
    "name": "ipython",
    "version": 3
   },
   "file_extension": ".py",
   "mimetype": "text/x-python",
   "name": "python",
   "nbconvert_exporter": "python",
   "pygments_lexer": "ipython3",
   "version": "3.9.10"
  },
  "orig_nbformat": 4
 },
 "nbformat": 4,
 "nbformat_minor": 2
}
